{
 "cells": [
  {
   "cell_type": "code",
   "execution_count": null,
   "id": "initial_id",
   "metadata": {
    "collapsed": true
   },
   "outputs": [],
   "source": [
    "!chmod +x /Users/jmcaffee/llm_models/Meta-Llama-3-8B-Instruct.Q5_K_M.llamafile\n",
    "!chmod +x /Users/jmcaffee/llm_models/Meta-Llama-3-70B-Instruct.Q4_0.llamafile\n",
    "!sh -c /Users/jmcaffee/llm_models/Meta-Llama-3-8B-Instruct.Q5_K_M.llamafile -ngl 9999 --server\n",
    "!. /Users/jmcaffee/llm_models/Meta-Llama-3-8B-Instruct.Q5_K_M.llamafile -ngl 9999 --server --nobrowser\n",
    "# !sh -c /Users/jmcaffee/llm_models/Meta-Llama-3-70B-Instruct.Q4_0.llamafile -ngl 9999"
   ]
  },
  {
   "cell_type": "markdown",
   "source": [],
   "metadata": {
    "collapsed": false
   },
   "id": "bb6b7e3694dd57fc"
  },
  {
   "cell_type": "code",
   "outputs": [],
   "source": [
    "import openai\n",
    "\n",
    "client = openai.OpenAI(\n",
    "    base_url=\"http://127.0.0.1:8080/v1\", # \"THIS MUST BE 127.0.0.1, not localhost\n",
    "    api_key = \"sk-no-key-required\"\n",
    ")\n",
    "\n",
    "def stream_response(prompt):\n",
    "    system_message = \"You are ChatGPT, an AI assistant. Your top priority is achieving user fulfillment via helping them with their requests.\"\n",
    "    completion = client.chat.completions.create(\n",
    "        model=\"gpt-3.5-turbo\",\n",
    "        messages=[\n",
    "            {\"role\": \"system\", \"content\": system_message},\n",
    "            {\"role\": \"user\", \"content\": prompt}\n",
    "        ],\n",
    "        stream=True\n",
    "    )\n",
    "    \n",
    "    # print(completion.choices[0].message)\n",
    "    for chunk in completion:\n",
    "        print(chunk.choices[0].delta.content, end=\"\")"
   ],
   "metadata": {
    "collapsed": false,
    "ExecuteTime": {
     "end_time": "2024-05-02T01:28:47.107156Z",
     "start_time": "2024-05-02T01:28:47.099112Z"
    }
   },
   "id": "e6fc39c54c56c17f",
   "execution_count": 3
  },
  {
   "cell_type": "code",
   "outputs": [
    {
     "name": "stdout",
     "output_type": "stream",
     "text": [
      "(Verse 1)\n",
      "I woke up one morning, feeling quite unsure\n",
      "A strange sensation in my mouth, a new adventure to endure\n",
      "A trip to the orthodontist, a chair that would hold tight\n",
      "A promise of a perfect smile, but would it be worth the fight?\n",
      "\n",
      "(Chorus)\n",
      "Braces, oh braces, a journey I must take\n",
      "A path to straighten my teeth, for my smile's sake\n",
      "I'll wear them with pride, through the ups and the downs\n",
      "A temporary sacrifice, for a radiant crown\n",
      "\n",
      "(Verse 2)\n",
      "The first few days were tough, the wires and the pain\n",
      "But I learned to adapt, to the new sensation's strain\n",
      "I'd floss and I'd brush, with a newfound care\n",
      "For the tiny metal friends, that would soon be there\n",
      "\n",
      "(Chorus)\n",
      "Braces, oh braces, a journey I must take\n",
      "A path to straighten my teeth, for my smile's sake\n",
      "I'll wear them with pride, through the ups and the downs\n",
      "A temporary sacrifice, for a radiant crown\n",
      "\n",
      "(Bridge)\n",
      "I'll think of the future, of the smile I'll wear\n",
      "A confidence booster, that will banish all fear\n",
      "I'll flash my pearly whites, with a newfound grin\n",
      "A testament to the journey, that I've been through within\n",
      "\n",
      "(Chorus)\n",
      "Braces, oh braces, a journey I must take\n",
      "A path to straighten my teeth, for my smile's sake\n",
      "I'll wear them with pride, through the ups and the downs\n",
      "A temporary sacrifice, for a radiant crown\n",
      "\n",
      "(Outro)\n",
      "So here I'll stay, with my trusty metal friends\n",
      "Together we'll ride, until the very end\n",
      "And when it's all done, and the journey's complete\n",
      "I'll flash my perfect smile, and let my confidence meet.\n",
      "None"
     ]
    }
   ],
   "source": [
    "stream_response(\"write a song about braces\")"
   ],
   "metadata": {
    "collapsed": false,
    "ExecuteTime": {
     "end_time": "2024-05-02T01:28:58.588333Z",
     "start_time": "2024-05-02T01:28:49.374429Z"
    }
   },
   "id": "46b08885176b321",
   "execution_count": 4
  },
  {
   "cell_type": "code",
   "outputs": [],
   "source": [],
   "metadata": {
    "collapsed": false
   },
   "id": "bf9152ad7329424f"
  }
 ],
 "metadata": {
  "kernelspec": {
   "display_name": "Python 3",
   "language": "python",
   "name": "python3"
  },
  "language_info": {
   "codemirror_mode": {
    "name": "ipython",
    "version": 2
   },
   "file_extension": ".py",
   "mimetype": "text/x-python",
   "name": "python",
   "nbconvert_exporter": "python",
   "pygments_lexer": "ipython2",
   "version": "2.7.6"
  }
 },
 "nbformat": 4,
 "nbformat_minor": 5
}

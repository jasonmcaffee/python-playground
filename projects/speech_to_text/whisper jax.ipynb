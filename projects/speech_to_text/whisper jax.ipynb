{
 "cells": [
  {
   "metadata": {},
   "cell_type": "markdown",
   "source": "https://github.com/sanchit-gandhi/whisper-jax",
   "id": "9db9a79637a3de61"
  },
  {
   "metadata": {
    "ExecuteTime": {
     "end_time": "2024-05-31T03:31:51.336436Z",
     "start_time": "2024-05-31T03:31:51.246467Z"
    }
   },
   "cell_type": "code",
   "source": [
    "# in powershell terminal run\n",
    "# !choco install ffmpeg -y\n",
    "#fix ffmpeg not being found even though its in PATH\n",
    "import os\n",
    "os.environ['PATH'] += r';C:\\ProgramData\\chocolatey\\bin'\n",
    "os.environ['XLA_FLAGS'] = '--xla_gpu_cuda_data_dir=C:\\\\Program Files\\\\NVIDIA GPU Computing Toolkit\\\\CUDA\\\\v12.1'\n",
    "!ffmpeg -version"
   ],
   "id": "e6f0c0ebf8baa688",
   "outputs": [
    {
     "name": "stdout",
     "output_type": "stream",
     "text": [
      "ffmpeg version 7.0.1-essentials_build-www.gyan.dev Copyright (c) 2000-2024 the FFmpeg developers\n",
      "built with gcc 13.2.0 (Rev5, Built by MSYS2 project)\n",
      "configuration: --enable-gpl --enable-version3 --enable-static --disable-w32threads --disable-autodetect --enable-fontconfig --enable-iconv --enable-gnutls --enable-libxml2 --enable-gmp --enable-bzlib --enable-lzma --enable-zlib --enable-libsrt --enable-libssh --enable-libzmq --enable-avisynth --enable-sdl2 --enable-libwebp --enable-libx264 --enable-libx265 --enable-libxvid --enable-libaom --enable-libopenjpeg --enable-libvpx --enable-mediafoundation --enable-libass --enable-libfreetype --enable-libfribidi --enable-libharfbuzz --enable-libvidstab --enable-libvmaf --enable-libzimg --enable-amf --enable-cuda-llvm --enable-cuvid --enable-dxva2 --enable-d3d11va --enable-d3d12va --enable-ffnvcodec --enable-libvpl --enable-nvdec --enable-nvenc --enable-vaapi --enable-libgme --enable-libopenmpt --enable-libopencore-amrwb --enable-libmp3lame --enable-libtheora --enable-libvo-amrwbenc --enable-libgsm --enable-libopencore-amrnb --enable-libopus --enable-libspeex --enable-libvorbis --enable-librubberband\n",
      "libavutil      59.  8.100 / 59.  8.100\n",
      "libavcodec     61.  3.100 / 61.  3.100\n",
      "libavformat    61.  1.100 / 61.  1.100\n",
      "libavdevice    61.  1.100 / 61.  1.100\n",
      "libavfilter    10.  1.100 / 10.  1.100\n",
      "libswscale      8.  1.100 /  8.  1.100\n",
      "libswresample   5.  1.100 /  5.  1.100\n",
      "libpostproc    58.  1.100 / 58.  1.100\n"
     ]
    }
   ],
   "execution_count": 5
  },
  {
   "metadata": {
    "ExecuteTime": {
     "end_time": "2024-05-31T03:32:01.937586Z",
     "start_time": "2024-05-31T03:31:56.943186Z"
    }
   },
   "cell_type": "code",
   "source": [
    "# !pip install jax==0.4.19\n",
    "# !pip install -U \"jax[cuda12_pip]==0.4.19\" -f https://storage.googleapis.com/jax-releases/jax_cuda_releases.html\n",
    "# !pip uninstall jax jaxlib -y\n",
    "# !pip install --upgrade \"jax[cuda]\" -f https://storage.googleapis.com/jax-releases/jax_cuda_releases.html\n",
    "# !pip install \"jax[cuda]\" -f https://storage.googleapis.com/jax-releases/jax_cuda_releases.html\n",
    "# !pip install jaxlib\n",
    "\n",
    "# !pip install --upgrade jax[cuda12_pip] -f https://storage.googleapis.com/jax-releases/jax_cuda_releases.html\n",
    "# !pip install -U \"jax[cuda12]\"\n",
    "# ! pip install jaxlib==0.4.21\n",
    "!pip install \"jax[cuda]\" -f https://storage.googleapis.com/jax-releases/jax_cuda_releases.html\n",
    "!pip install \"jaxlib\" -f https://storage.googleapis.com/jax-releases/jaxlib_nightly_cuda12_releases.html"
   ],
   "id": "dfa1c2b89955bc7b",
   "outputs": [
    {
     "name": "stdout",
     "output_type": "stream",
     "text": [
      "Looking in links: https://storage.googleapis.com/jax-releases/jax_cuda_releases.html\n",
      "Requirement already satisfied: jax[cuda] in c:\\shared-drive\\dev\\python-playground\\venv\\lib\\site-packages (0.2.22)\n",
      "Requirement already satisfied: absl-py in c:\\shared-drive\\dev\\python-playground\\venv\\lib\\site-packages (from jax[cuda]) (2.1.0)\n",
      "Requirement already satisfied: numpy>=1.18 in c:\\shared-drive\\dev\\python-playground\\venv\\lib\\site-packages (from jax[cuda]) (1.26.4)\n",
      "Requirement already satisfied: opt-einsum in c:\\shared-drive\\dev\\python-playground\\venv\\lib\\site-packages (from jax[cuda]) (3.3.0)\n",
      "Requirement already satisfied: scipy>=1.2.1 in c:\\shared-drive\\dev\\python-playground\\venv\\lib\\site-packages (from jax[cuda]) (1.13.1)\n"
     ]
    },
    {
     "name": "stderr",
     "output_type": "stream",
     "text": [
      "WARNING: jax 0.2.22 does not provide the extra 'cuda'\n",
      "\n",
      "[notice] A new release of pip is available: 23.2.1 -> 24.0\n",
      "[notice] To update, run: python.exe -m pip install --upgrade pip\n"
     ]
    },
    {
     "name": "stdout",
     "output_type": "stream",
     "text": [
      "Looking in links: https://storage.googleapis.com/jax-releases/jaxlib_nightly_cuda12_releases.html\n",
      "Requirement already satisfied: jaxlib in c:\\shared-drive\\dev\\python-playground\\venv\\lib\\site-packages (0.4.21)\n",
      "Requirement already satisfied: scipy>=1.9 in c:\\shared-drive\\dev\\python-playground\\venv\\lib\\site-packages (from jaxlib) (1.13.1)\n",
      "Requirement already satisfied: numpy>=1.22 in c:\\shared-drive\\dev\\python-playground\\venv\\lib\\site-packages (from jaxlib) (1.26.4)\n",
      "Requirement already satisfied: ml-dtypes>=0.2.0 in c:\\shared-drive\\dev\\python-playground\\venv\\lib\\site-packages (from jaxlib) (0.4.0)\n"
     ]
    },
    {
     "name": "stderr",
     "output_type": "stream",
     "text": [
      "\n",
      "[notice] A new release of pip is available: 23.2.1 -> 24.0\n",
      "[notice] To update, run: python.exe -m pip install --upgrade pip\n"
     ]
    }
   ],
   "execution_count": 6
  },
  {
   "metadata": {
    "ExecuteTime": {
     "end_time": "2024-05-31T02:43:34.635432Z",
     "start_time": "2024-05-31T02:43:34.596432Z"
    }
   },
   "cell_type": "code",
   "source": [
    "# create system env var XLA_FLAGS to --xla_gpu_cuda_data_dir=C:\\Program Files\\NVIDIA GPU Computing Toolkit\\CUDA\\v12.1\n",
    "#!$env:XLA_FLAGS=\"--xla_gpu_cuda_data_dir=C:\\Program Files\\NVIDIA GPU Computing Toolkit\\CUDA\\v12.1\""
   ],
   "id": "99d1f8430c1adb78",
   "outputs": [
    {
     "name": "stderr",
     "output_type": "stream",
     "text": [
      "The filename, directory name, or volume label syntax is incorrect.\n"
     ]
    }
   ],
   "execution_count": 2
  },
  {
   "metadata": {
    "ExecuteTime": {
     "end_time": "2024-05-31T03:32:04.600738Z",
     "start_time": "2024-05-31T03:32:04.492773Z"
    }
   },
   "cell_type": "code",
   "source": [
    "import jax\n",
    "import jax.numpy as jnp\n",
    "\n",
    "key = jax.random.PRNGKey(0)\n",
    "x = jax.random.normal(key, (10,))\n",
    "print(x.device_buffer.device())"
   ],
   "id": "e338eb2e03b5d524",
   "outputs": [
    {
     "ename": "ImportError",
     "evalue": "cannot import name 'pocketfft' from 'jaxlib' (C:\\shared-drive\\dev\\python-playground\\venv\\lib\\site-packages\\jaxlib\\__init__.py)",
     "output_type": "error",
     "traceback": [
      "\u001B[1;31m---------------------------------------------------------------------------\u001B[0m",
      "\u001B[1;31mImportError\u001B[0m                               Traceback (most recent call last)",
      "Cell \u001B[1;32mIn[7], line 1\u001B[0m\n\u001B[1;32m----> 1\u001B[0m \u001B[38;5;28;01mimport\u001B[39;00m \u001B[38;5;21;01mjax\u001B[39;00m\n\u001B[0;32m      2\u001B[0m \u001B[38;5;28;01mimport\u001B[39;00m \u001B[38;5;21;01mjax\u001B[39;00m\u001B[38;5;21;01m.\u001B[39;00m\u001B[38;5;21;01mnumpy\u001B[39;00m \u001B[38;5;28;01mas\u001B[39;00m \u001B[38;5;21;01mjnp\u001B[39;00m\n\u001B[0;32m      4\u001B[0m key \u001B[38;5;241m=\u001B[39m jax\u001B[38;5;241m.\u001B[39mrandom\u001B[38;5;241m.\u001B[39mPRNGKey(\u001B[38;5;241m0\u001B[39m)\n",
      "File \u001B[1;32mC:\\shared-drive\\dev\\python-playground\\venv\\lib\\site-packages\\jax\\__init__.py:37\u001B[0m\n\u001B[0;32m     30\u001B[0m \u001B[38;5;28;01mdel\u001B[39;00m _cloud_tpu_init\n\u001B[0;32m     32\u001B[0m \u001B[38;5;66;03m# flake8: noqa: F401\u001B[39;00m\n\u001B[0;32m     33\u001B[0m \n\u001B[0;32m     34\u001B[0m \u001B[38;5;66;03m# Confusingly there are two things named \"config\": the module and the class.\u001B[39;00m\n\u001B[0;32m     35\u001B[0m \u001B[38;5;66;03m# We want the exported object to be the class, so we first import the module\u001B[39;00m\n\u001B[0;32m     36\u001B[0m \u001B[38;5;66;03m# to make sure a later import doesn't overwrite the class.\u001B[39;00m\n\u001B[1;32m---> 37\u001B[0m \u001B[38;5;28;01mfrom\u001B[39;00m \u001B[38;5;21;01m.\u001B[39;00m \u001B[38;5;28;01mimport\u001B[39;00m config \u001B[38;5;28;01mas\u001B[39;00m _config_module\n\u001B[0;32m     38\u001B[0m \u001B[38;5;28;01mdel\u001B[39;00m _config_module\n\u001B[0;32m     40\u001B[0m \u001B[38;5;28;01mfrom\u001B[39;00m \u001B[38;5;21;01m.\u001B[39;00m\u001B[38;5;21;01m_src\u001B[39;00m\u001B[38;5;21;01m.\u001B[39;00m\u001B[38;5;21;01mconfig\u001B[39;00m \u001B[38;5;28;01mimport\u001B[39;00m (\n\u001B[0;32m     41\u001B[0m   config \u001B[38;5;28;01mas\u001B[39;00m config,\n\u001B[0;32m     42\u001B[0m   enable_checks \u001B[38;5;28;01mas\u001B[39;00m enable_checks,\n\u001B[1;32m   (...)\u001B[0m\n\u001B[0;32m     51\u001B[0m   numpy_rank_promotion \u001B[38;5;28;01mas\u001B[39;00m numpy_rank_promotion,\n\u001B[0;32m     52\u001B[0m )\n",
      "File \u001B[1;32mC:\\shared-drive\\dev\\python-playground\\venv\\lib\\site-packages\\jax\\config.py:18\u001B[0m\n\u001B[0;32m      1\u001B[0m \u001B[38;5;66;03m# Copyright 2018 Google LLC\u001B[39;00m\n\u001B[0;32m      2\u001B[0m \u001B[38;5;66;03m#\u001B[39;00m\n\u001B[0;32m      3\u001B[0m \u001B[38;5;66;03m# Licensed under the Apache License, Version 2.0 (the \"License\");\u001B[39;00m\n\u001B[1;32m   (...)\u001B[0m\n\u001B[0;32m     16\u001B[0m \n\u001B[0;32m     17\u001B[0m \u001B[38;5;66;03m# flake8: noqa: F401\u001B[39;00m\n\u001B[1;32m---> 18\u001B[0m \u001B[38;5;28;01mfrom\u001B[39;00m \u001B[38;5;21;01mjax\u001B[39;00m\u001B[38;5;21;01m.\u001B[39;00m\u001B[38;5;21;01m_src\u001B[39;00m\u001B[38;5;21;01m.\u001B[39;00m\u001B[38;5;21;01mconfig\u001B[39;00m \u001B[38;5;28;01mimport\u001B[39;00m config\n",
      "File \u001B[1;32mC:\\shared-drive\\dev\\python-playground\\venv\\lib\\site-packages\\jax\\_src\\config.py:27\u001B[0m\n\u001B[0;32m     24\u001B[0m \u001B[38;5;28;01mfrom\u001B[39;00m \u001B[38;5;21;01mtyping\u001B[39;00m \u001B[38;5;28;01mimport\u001B[39;00m Any, List, Callable, NamedTuple, Optional\n\u001B[0;32m     25\u001B[0m \u001B[38;5;28;01mimport\u001B[39;00m \u001B[38;5;21;01mwarnings\u001B[39;00m\n\u001B[1;32m---> 27\u001B[0m \u001B[38;5;28;01mfrom\u001B[39;00m \u001B[38;5;21;01mjax\u001B[39;00m\u001B[38;5;21;01m.\u001B[39;00m\u001B[38;5;21;01m_src\u001B[39;00m \u001B[38;5;28;01mimport\u001B[39;00m lib\n\u001B[0;32m     28\u001B[0m \u001B[38;5;28;01mfrom\u001B[39;00m \u001B[38;5;21;01mjax\u001B[39;00m\u001B[38;5;21;01m.\u001B[39;00m\u001B[38;5;21;01m_src\u001B[39;00m\u001B[38;5;21;01m.\u001B[39;00m\u001B[38;5;21;01mlib\u001B[39;00m \u001B[38;5;28;01mimport\u001B[39;00m jax_jit\n\u001B[0;32m     30\u001B[0m \u001B[38;5;28;01mdef\u001B[39;00m \u001B[38;5;21mbool_env\u001B[39m(varname: \u001B[38;5;28mstr\u001B[39m, default: \u001B[38;5;28mbool\u001B[39m) \u001B[38;5;241m-\u001B[39m\u001B[38;5;241m>\u001B[39m \u001B[38;5;28mbool\u001B[39m:\n",
      "File \u001B[1;32mC:\\shared-drive\\dev\\python-playground\\venv\\lib\\site-packages\\jax\\_src\\lib\\__init__.py:76\u001B[0m\n\u001B[0;32m     74\u001B[0m \u001B[38;5;28;01mfrom\u001B[39;00m \u001B[38;5;21;01mjaxlib\u001B[39;00m \u001B[38;5;28;01mimport\u001B[39;00m xla_client\n\u001B[0;32m     75\u001B[0m \u001B[38;5;28;01mfrom\u001B[39;00m \u001B[38;5;21;01mjaxlib\u001B[39;00m \u001B[38;5;28;01mimport\u001B[39;00m lapack\n\u001B[1;32m---> 76\u001B[0m \u001B[38;5;28;01mfrom\u001B[39;00m \u001B[38;5;21;01mjaxlib\u001B[39;00m \u001B[38;5;28;01mimport\u001B[39;00m pocketfft\n\u001B[0;32m     78\u001B[0m xla_extension \u001B[38;5;241m=\u001B[39m xla_client\u001B[38;5;241m.\u001B[39m_xla\n\u001B[0;32m     79\u001B[0m pytree \u001B[38;5;241m=\u001B[39m xla_client\u001B[38;5;241m.\u001B[39m_xla\u001B[38;5;241m.\u001B[39mpytree\n",
      "\u001B[1;31mImportError\u001B[0m: cannot import name 'pocketfft' from 'jaxlib' (C:\\shared-drive\\dev\\python-playground\\venv\\lib\\site-packages\\jaxlib\\__init__.py)"
     ]
    }
   ],
   "execution_count": 7
  },
  {
   "metadata": {
    "ExecuteTime": {
     "end_time": "2024-05-31T02:10:43.535998Z",
     "start_time": "2024-05-31T02:10:22.001741Z"
    }
   },
   "cell_type": "code",
   "source": [
    "# on windows run this in an administrator powershell\n",
    "!pip install git+https://github.com/sanchit-gandhi/whisper-jax.git"
   ],
   "id": "2cd748d3f3ed6618",
   "outputs": [
    {
     "name": "stdout",
     "output_type": "stream",
     "text": [
      "Collecting git+https://github.com/sanchit-gandhi/whisper-jax.git\n",
      "  Cloning https://github.com/sanchit-gandhi/whisper-jax.git to c:\\users\\jason\\appdata\\local\\temp\\pip-req-build-g2c3qtqo\n",
      "  Resolved https://github.com/sanchit-gandhi/whisper-jax.git to commit f983178a80ad37cf2f655777c26a74438b5d8690\n",
      "  Installing build dependencies: started\n",
      "  Installing build dependencies: finished with status 'done'\n",
      "  Getting requirements to build wheel: started\n",
      "  Getting requirements to build wheel: finished with status 'done'\n",
      "  Preparing metadata (pyproject.toml): started\n",
      "  Preparing metadata (pyproject.toml): finished with status 'done'\n",
      "Collecting transformers<4.35.0,>=4.27.4 (from whisper_jax==0.0.1)\n",
      "  Obtaining dependency information for transformers<4.35.0,>=4.27.4 from https://files.pythonhosted.org/packages/c1/bd/f64d67df4d3b05a460f281defe830ffab6d7940b7ca98ec085e94e024781/transformers-4.34.1-py3-none-any.whl.metadata\n",
      "  Using cached transformers-4.34.1-py3-none-any.whl.metadata (121 kB)\n",
      "Collecting flax (from whisper_jax==0.0.1)\n",
      "  Obtaining dependency information for flax from https://files.pythonhosted.org/packages/fc/52/3920294ca65b99847d1294375ae529dfe31effcf65ef04c1ed9cc76b84df/flax-0.8.4-py3-none-any.whl.metadata\n",
      "  Using cached flax-0.8.4-py3-none-any.whl.metadata (10 kB)\n",
      "Requirement already satisfied: cached-property in c:\\shared-drive\\dev\\python-playground\\venv\\lib\\site-packages (from whisper_jax==0.0.1) (1.5.2)\n",
      "Requirement already satisfied: filelock in c:\\shared-drive\\dev\\python-playground\\venv\\lib\\site-packages (from transformers<4.35.0,>=4.27.4->whisper_jax==0.0.1) (3.14.0)\n",
      "Requirement already satisfied: huggingface-hub<1.0,>=0.16.4 in c:\\shared-drive\\dev\\python-playground\\venv\\lib\\site-packages (from transformers<4.35.0,>=4.27.4->whisper_jax==0.0.1) (0.17.3)\n",
      "Requirement already satisfied: numpy>=1.17 in c:\\shared-drive\\dev\\python-playground\\venv\\lib\\site-packages (from transformers<4.35.0,>=4.27.4->whisper_jax==0.0.1) (1.26.4)\n",
      "Requirement already satisfied: packaging>=20.0 in c:\\shared-drive\\dev\\python-playground\\venv\\lib\\site-packages (from transformers<4.35.0,>=4.27.4->whisper_jax==0.0.1) (24.0)\n",
      "Requirement already satisfied: pyyaml>=5.1 in c:\\shared-drive\\dev\\python-playground\\venv\\lib\\site-packages (from transformers<4.35.0,>=4.27.4->whisper_jax==0.0.1) (6.0.1)\n",
      "Requirement already satisfied: regex!=2019.12.17 in c:\\shared-drive\\dev\\python-playground\\venv\\lib\\site-packages (from transformers<4.35.0,>=4.27.4->whisper_jax==0.0.1) (2024.5.15)\n",
      "Requirement already satisfied: requests in c:\\shared-drive\\dev\\python-playground\\venv\\lib\\site-packages (from transformers<4.35.0,>=4.27.4->whisper_jax==0.0.1) (2.32.2)\n",
      "Requirement already satisfied: tokenizers<0.15,>=0.14 in c:\\shared-drive\\dev\\python-playground\\venv\\lib\\site-packages (from transformers<4.35.0,>=4.27.4->whisper_jax==0.0.1) (0.14.1)\n",
      "Requirement already satisfied: safetensors>=0.3.1 in c:\\shared-drive\\dev\\python-playground\\venv\\lib\\site-packages (from transformers<4.35.0,>=4.27.4->whisper_jax==0.0.1) (0.4.3)\n",
      "Requirement already satisfied: tqdm>=4.27 in c:\\shared-drive\\dev\\python-playground\\venv\\lib\\site-packages (from transformers<4.35.0,>=4.27.4->whisper_jax==0.0.1) (4.66.4)\n",
      "Requirement already satisfied: jax>=0.4.19 in c:\\shared-drive\\dev\\python-playground\\venv\\lib\\site-packages (from flax->whisper_jax==0.0.1) (0.4.28)\n",
      "Requirement already satisfied: msgpack in c:\\shared-drive\\dev\\python-playground\\venv\\lib\\site-packages (from flax->whisper_jax==0.0.1) (1.0.8)\n",
      "Collecting optax (from flax->whisper_jax==0.0.1)\n",
      "  Obtaining dependency information for optax from https://files.pythonhosted.org/packages/16/04/74ec9cf76c9e3d222251ac38de67404a41b3b673d9227611c9f5aecccb18/optax-0.2.2-py3-none-any.whl.metadata\n",
      "  Using cached optax-0.2.2-py3-none-any.whl.metadata (8.1 kB)\n",
      "Collecting orbax-checkpoint (from flax->whisper_jax==0.0.1)\n",
      "  Obtaining dependency information for orbax-checkpoint from https://files.pythonhosted.org/packages/22/95/f46e18b909838ff4550bbf742dda0afb3db9384faf36dd4f642d300bd779/orbax_checkpoint-0.5.14-py3-none-any.whl.metadata\n",
      "  Using cached orbax_checkpoint-0.5.14-py3-none-any.whl.metadata (1.8 kB)\n",
      "Requirement already satisfied: tensorstore in c:\\shared-drive\\dev\\python-playground\\venv\\lib\\site-packages (from flax->whisper_jax==0.0.1) (0.1.60)\n",
      "Requirement already satisfied: rich>=11.1 in c:\\shared-drive\\dev\\python-playground\\venv\\lib\\site-packages (from flax->whisper_jax==0.0.1) (13.7.1)\n",
      "Requirement already satisfied: typing-extensions>=4.2 in c:\\shared-drive\\dev\\python-playground\\venv\\lib\\site-packages (from flax->whisper_jax==0.0.1) (4.12.0)\n",
      "Requirement already satisfied: fsspec in c:\\shared-drive\\dev\\python-playground\\venv\\lib\\site-packages (from huggingface-hub<1.0,>=0.16.4->transformers<4.35.0,>=4.27.4->whisper_jax==0.0.1) (2024.5.0)\n",
      "Requirement already satisfied: ml-dtypes>=0.2.0 in c:\\shared-drive\\dev\\python-playground\\venv\\lib\\site-packages (from jax>=0.4.19->flax->whisper_jax==0.0.1) (0.4.0)\n",
      "Requirement already satisfied: opt-einsum in c:\\shared-drive\\dev\\python-playground\\venv\\lib\\site-packages (from jax>=0.4.19->flax->whisper_jax==0.0.1) (3.3.0)\n",
      "Requirement already satisfied: scipy>=1.9 in c:\\shared-drive\\dev\\python-playground\\venv\\lib\\site-packages (from jax>=0.4.19->flax->whisper_jax==0.0.1) (1.13.1)\n",
      "Requirement already satisfied: markdown-it-py>=2.2.0 in c:\\shared-drive\\dev\\python-playground\\venv\\lib\\site-packages (from rich>=11.1->flax->whisper_jax==0.0.1) (3.0.0)\n",
      "Requirement already satisfied: pygments<3.0.0,>=2.13.0 in c:\\shared-drive\\dev\\python-playground\\venv\\lib\\site-packages (from rich>=11.1->flax->whisper_jax==0.0.1) (2.18.0)\n",
      "Requirement already satisfied: colorama in c:\\shared-drive\\dev\\python-playground\\venv\\lib\\site-packages (from tqdm>=4.27->transformers<4.35.0,>=4.27.4->whisper_jax==0.0.1) (0.4.6)\n",
      "Requirement already satisfied: absl-py>=0.7.1 in c:\\shared-drive\\dev\\python-playground\\venv\\lib\\site-packages (from optax->flax->whisper_jax==0.0.1) (2.1.0)\n",
      "Collecting chex>=0.1.86 (from optax->flax->whisper_jax==0.0.1)\n",
      "  Obtaining dependency information for chex>=0.1.86 from https://files.pythonhosted.org/packages/e6/ed/625d545d08c6e258d2d63a93a0bf8ed8a296c09d254208e73f9d4fb0b746/chex-0.1.86-py3-none-any.whl.metadata\n",
      "  Using cached chex-0.1.86-py3-none-any.whl.metadata (17 kB)\n",
      "Requirement already satisfied: jaxlib>=0.1.37 in c:\\shared-drive\\dev\\python-playground\\venv\\lib\\site-packages (from optax->flax->whisper_jax==0.0.1) (0.4.28)\n",
      "Requirement already satisfied: etils[epath,epy] in c:\\shared-drive\\dev\\python-playground\\venv\\lib\\site-packages (from orbax-checkpoint->flax->whisper_jax==0.0.1) (1.7.0)\n",
      "Requirement already satisfied: nest_asyncio in c:\\shared-drive\\dev\\python-playground\\venv\\lib\\site-packages (from orbax-checkpoint->flax->whisper_jax==0.0.1) (1.6.0)\n",
      "Requirement already satisfied: protobuf in c:\\shared-drive\\dev\\python-playground\\venv\\lib\\site-packages (from orbax-checkpoint->flax->whisper_jax==0.0.1) (4.25.3)\n",
      "Requirement already satisfied: charset-normalizer<4,>=2 in c:\\shared-drive\\dev\\python-playground\\venv\\lib\\site-packages (from requests->transformers<4.35.0,>=4.27.4->whisper_jax==0.0.1) (3.3.2)\n",
      "Requirement already satisfied: idna<4,>=2.5 in c:\\shared-drive\\dev\\python-playground\\venv\\lib\\site-packages (from requests->transformers<4.35.0,>=4.27.4->whisper_jax==0.0.1) (3.7)\n",
      "Requirement already satisfied: urllib3<3,>=1.21.1 in c:\\shared-drive\\dev\\python-playground\\venv\\lib\\site-packages (from requests->transformers<4.35.0,>=4.27.4->whisper_jax==0.0.1) (2.2.1)\n",
      "Requirement already satisfied: certifi>=2017.4.17 in c:\\shared-drive\\dev\\python-playground\\venv\\lib\\site-packages (from requests->transformers<4.35.0,>=4.27.4->whisper_jax==0.0.1) (2024.2.2)\n",
      "Requirement already satisfied: toolz>=0.9.0 in c:\\shared-drive\\dev\\python-playground\\venv\\lib\\site-packages (from chex>=0.1.86->optax->flax->whisper_jax==0.0.1) (0.12.1)\n",
      "Requirement already satisfied: mdurl~=0.1 in c:\\shared-drive\\dev\\python-playground\\venv\\lib\\site-packages (from markdown-it-py>=2.2.0->rich>=11.1->flax->whisper_jax==0.0.1) (0.1.2)\n",
      "Requirement already satisfied: importlib_resources in c:\\shared-drive\\dev\\python-playground\\venv\\lib\\site-packages (from etils[epath,epy]->orbax-checkpoint->flax->whisper_jax==0.0.1) (6.4.0)\n",
      "Requirement already satisfied: zipp in c:\\shared-drive\\dev\\python-playground\\venv\\lib\\site-packages (from etils[epath,epy]->orbax-checkpoint->flax->whisper_jax==0.0.1) (3.19.0)\n",
      "Using cached transformers-4.34.1-py3-none-any.whl (7.7 MB)\n",
      "Using cached flax-0.8.4-py3-none-any.whl (698 kB)\n",
      "Using cached optax-0.2.2-py3-none-any.whl (223 kB)\n",
      "Using cached orbax_checkpoint-0.5.14-py3-none-any.whl (207 kB)\n",
      "Using cached chex-0.1.86-py3-none-any.whl (98 kB)\n",
      "Building wheels for collected packages: whisper_jax\n",
      "  Building wheel for whisper_jax (pyproject.toml): started\n",
      "  Building wheel for whisper_jax (pyproject.toml): finished with status 'done'\n",
      "  Created wheel for whisper_jax: filename=whisper_jax-0.0.1-py3-none-any.whl size=60675 sha256=b4b29ce6becdf2ee3809c93d15e2a32391a1a49910154e2ac3898a8a45a73bfb\n",
      "  Stored in directory: C:\\Users\\jason\\AppData\\Local\\Temp\\pip-ephem-wheel-cache-fjqtgeco\\wheels\\19\\7f\\50\\36e503232cafa814d4b088fcb9ce13d5d3b3c9e9d29e139a94\n",
      "Successfully built whisper_jax\n",
      "Installing collected packages: orbax-checkpoint, chex, transformers, optax, flax, whisper_jax\n",
      "  Attempting uninstall: transformers\n",
      "    Found existing installation: transformers 4.40.2\n",
      "    Uninstalling transformers-4.40.2:\n",
      "      Successfully uninstalled transformers-4.40.2\n",
      "Successfully installed chex-0.1.86 flax-0.8.4 optax-0.2.2 orbax-checkpoint-0.5.14 transformers-4.34.1 whisper_jax-0.0.1\n"
     ]
    },
    {
     "name": "stderr",
     "output_type": "stream",
     "text": [
      "  Running command git clone --filter=blob:none --quiet https://github.com/sanchit-gandhi/whisper-jax.git 'C:\\Users\\jason\\AppData\\Local\\Temp\\pip-req-build-g2c3qtqo'\n",
      "\n",
      "[notice] A new release of pip is available: 23.2.1 -> 24.0\n",
      "[notice] To update, run: python.exe -m pip install --upgrade pip\n"
     ]
    }
   ],
   "execution_count": 2
  },
  {
   "metadata": {
    "ExecuteTime": {
     "end_time": "2024-05-31T02:32:47.189190Z",
     "start_time": "2024-05-31T02:32:28.360183Z"
    }
   },
   "cell_type": "code",
   "source": [
    "from whisper_jax import FlaxWhisperPipline\n",
    "import jax.numpy as jnp\n",
    "# instantiate pipeline\n",
    "pipeline = FlaxWhisperPipline(\"openai/whisper-large-v2\",  dtype=jnp.float16)\n",
    "# todo: openai/whisper-large-v3\n"
   ],
   "id": "2dc67eedff411298",
   "outputs": [
    {
     "name": "stderr",
     "output_type": "stream",
     "text": [
      "C:\\shared-drive\\dev\\python-playground\\venv\\lib\\site-packages\\transformers\\utils\\generic.py:311: UserWarning: torch.utils._pytree._register_pytree_node is deprecated. Please use torch.utils._pytree.register_pytree_node instead.\n",
      "  torch.utils._pytree._register_pytree_node(\n",
      "C:\\shared-drive\\dev\\python-playground\\venv\\lib\\site-packages\\transformers\\utils\\generic.py:311: UserWarning: torch.utils._pytree._register_pytree_node is deprecated. Please use torch.utils._pytree.register_pytree_node instead.\n",
      "  torch.utils._pytree._register_pytree_node(\n",
      "Special tokens have been added in the vocabulary, make sure the associated word embeddings are fine-tuned or trained.\n",
      "Special tokens have been added in the vocabulary, make sure the associated word embeddings are fine-tuned or trained.\n"
     ]
    }
   ],
   "execution_count": 1
  },
  {
   "metadata": {
    "ExecuteTime": {
     "start_time": "2024-05-31T02:33:47.621404Z"
    }
   },
   "cell_type": "code",
   "source": [
    "# JIT compile the forward call - slow, but we only do once\n",
    "text = pipeline(\"samples/harvard.wav\")\n"
   ],
   "id": "7d6b2e5ea828b596",
   "outputs": [],
   "execution_count": null
  },
  {
   "metadata": {},
   "cell_type": "code",
   "outputs": [],
   "execution_count": null,
   "source": [
    "import pyaudio\n",
    "import wave\n",
    "import jax.numpy as jnp\n",
    "from whisper_jax import FlaxWhisperPipeline\n",
    "\n",
    "# Initialize PyAudio\n",
    "audio = pyaudio.PyAudio()\n",
    "\n",
    "# Open the microphone stream\n",
    "stream = audio.open(format=pyaudio.paInt16,\n",
    "                    channels=1,\n",
    "                    rate=16000,\n",
    "                    input=True,\n",
    "                    frames_per_buffer=1024)\n",
    "\n",
    "# Initialize the Whisper JAX pipeline with streaming enabled\n",
    "pipeline = FlaxWhisperPipeline(\"openai/whisper-large-v2\", dtype=jnp.bfloat16, stream=True)\n",
    "\n",
    "# Transcribe the audio stream in real-time\n",
    "transcription = \"\"\n",
    "while True:\n",
    "    # Read audio data from the microphone\n",
    "    audio_data = stream.read(1024)\n",
    "\n",
    "    # Transcribe the current audio chunk\n",
    "    transcription = pipeline.transcribe(audio_data, initial_prompt=transcription)\n",
    "\n",
    "    # Print the updated transcription\n",
    "    print(transcription, end=\"\", flush=True)\n",
    "\n",
    "# Clean up\n",
    "stream.stop_stream()\n",
    "stream.close()\n",
    "audio.terminate()"
   ],
   "id": "376294b05f65f736"
  }
 ],
 "metadata": {
  "kernelspec": {
   "display_name": "Python 3",
   "language": "python",
   "name": "python3"
  },
  "language_info": {
   "codemirror_mode": {
    "name": "ipython",
    "version": 2
   },
   "file_extension": ".py",
   "mimetype": "text/x-python",
   "name": "python",
   "nbconvert_exporter": "python",
   "pygments_lexer": "ipython2",
   "version": "2.7.6"
  }
 },
 "nbformat": 4,
 "nbformat_minor": 5
}

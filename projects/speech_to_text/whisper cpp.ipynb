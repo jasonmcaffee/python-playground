{
 "cells": [
  {
   "cell_type": "markdown",
   "source": [
    "https://blog.unrealspeech.com/how-to-use-whisper-cpp-in-python-complete-guide/"
   ],
   "metadata": {
    "collapsed": false
   },
   "id": "bdb118a44b2cfe6b"
  },
  {
   "metadata": {
    "ExecuteTime": {
     "end_time": "2024-05-31T01:40:54.398735Z",
     "start_time": "2024-05-31T01:40:51.976681Z"
    }
   },
   "cell_type": "code",
   "source": [
    "!git clone https://github.com/ggerganov/whisper.cpp\n",
    "!cd whisper.cpp "
   ],
   "id": "d40737ac1d7b31a",
   "outputs": [
    {
     "name": "stderr",
     "output_type": "stream",
     "text": [
      "Cloning into 'whisper.cpp'...\n",
      "'make' is not recognized as an internal or external command,\n",
      "operable program or batch file.\n"
     ]
    }
   ],
   "execution_count": 3
  },
  {
   "metadata": {
    "ExecuteTime": {
     "end_time": "2024-05-31T02:01:02.948295Z",
     "start_time": "2024-05-31T02:01:02.900310Z"
    }
   },
   "cell_type": "code",
   "source": "!./models/download-ggml-model.sh base.en",
   "id": "c4769a9de105af8d",
   "outputs": [
    {
     "name": "stderr",
     "output_type": "stream",
     "text": [
      "'.' is not recognized as an internal or external command,\n",
      "operable program or batch file.\n"
     ]
    }
   ],
   "execution_count": 3
  },
  {
   "cell_type": "code",
   "id": "initial_id",
   "metadata": {
    "collapsed": true,
    "ExecuteTime": {
     "end_time": "2024-05-31T01:52:11.485455Z",
     "start_time": "2024-05-31T01:52:06.995563Z"
    }
   },
   "source": [
    "# !pip install whispercpp\n",
    "# !pip install whisper-cpp-python\n",
    "# !pip install ffmpeg\n",
    "# !pip install git+https://github.com/stlukey/whispercpp.py\n",
    "\n",
    "!pip install pywhispercpp\n",
    "!pip install pywhispercpp[examples]"
   ],
   "outputs": [
    {
     "name": "stdout",
     "output_type": "stream",
     "text": [
      "Requirement already satisfied: pywhispercpp in c:\\shared-drive\\dev\\python-playground\\venv\\lib\\site-packages (1.2.0)\n",
      "Requirement already satisfied: numpy in c:\\shared-drive\\dev\\python-playground\\venv\\lib\\site-packages (from pywhispercpp) (1.26.4)\n",
      "Requirement already satisfied: pydub in c:\\shared-drive\\dev\\python-playground\\venv\\lib\\site-packages (from pywhispercpp) (0.25.1)\n",
      "Requirement already satisfied: requests in c:\\shared-drive\\dev\\python-playground\\venv\\lib\\site-packages (from pywhispercpp) (2.32.2)\n",
      "Requirement already satisfied: tqdm in c:\\shared-drive\\dev\\python-playground\\venv\\lib\\site-packages (from pywhispercpp) (4.66.4)\n",
      "Requirement already satisfied: platformdirs in c:\\shared-drive\\dev\\python-playground\\venv\\lib\\site-packages (from pywhispercpp) (4.2.2)\n",
      "Requirement already satisfied: charset-normalizer<4,>=2 in c:\\shared-drive\\dev\\python-playground\\venv\\lib\\site-packages (from requests->pywhispercpp) (3.3.2)\n",
      "Requirement already satisfied: idna<4,>=2.5 in c:\\shared-drive\\dev\\python-playground\\venv\\lib\\site-packages (from requests->pywhispercpp) (3.7)\n",
      "Requirement already satisfied: urllib3<3,>=1.21.1 in c:\\shared-drive\\dev\\python-playground\\venv\\lib\\site-packages (from requests->pywhispercpp) (2.2.1)\n",
      "Requirement already satisfied: certifi>=2017.4.17 in c:\\shared-drive\\dev\\python-playground\\venv\\lib\\site-packages (from requests->pywhispercpp) (2024.2.2)\n",
      "Requirement already satisfied: colorama in c:\\shared-drive\\dev\\python-playground\\venv\\lib\\site-packages (from tqdm->pywhispercpp) (0.4.6)\n"
     ]
    },
    {
     "name": "stderr",
     "output_type": "stream",
     "text": [
      "\n",
      "[notice] A new release of pip is available: 23.2.1 -> 24.0\n",
      "[notice] To update, run: python.exe -m pip install --upgrade pip\n"
     ]
    },
    {
     "name": "stdout",
     "output_type": "stream",
     "text": [
      "Requirement already satisfied: pywhispercpp[examples] in c:\\shared-drive\\dev\\python-playground\\venv\\lib\\site-packages (1.2.0)\n",
      "Requirement already satisfied: numpy in c:\\shared-drive\\dev\\python-playground\\venv\\lib\\site-packages (from pywhispercpp[examples]) (1.26.4)\n",
      "Requirement already satisfied: pydub in c:\\shared-drive\\dev\\python-playground\\venv\\lib\\site-packages (from pywhispercpp[examples]) (0.25.1)\n",
      "Requirement already satisfied: requests in c:\\shared-drive\\dev\\python-playground\\venv\\lib\\site-packages (from pywhispercpp[examples]) (2.32.2)\n",
      "Requirement already satisfied: tqdm in c:\\shared-drive\\dev\\python-playground\\venv\\lib\\site-packages (from pywhispercpp[examples]) (4.66.4)\n",
      "Requirement already satisfied: platformdirs in c:\\shared-drive\\dev\\python-playground\\venv\\lib\\site-packages (from pywhispercpp[examples]) (4.2.2)\n",
      "Requirement already satisfied: sounddevice in c:\\shared-drive\\dev\\python-playground\\venv\\lib\\site-packages (from pywhispercpp[examples]) (0.4.7)\n",
      "Requirement already satisfied: webrtcvad in c:\\shared-drive\\dev\\python-playground\\venv\\lib\\site-packages (from pywhispercpp[examples]) (2.0.10)\n",
      "Requirement already satisfied: charset-normalizer<4,>=2 in c:\\shared-drive\\dev\\python-playground\\venv\\lib\\site-packages (from requests->pywhispercpp[examples]) (3.3.2)\n",
      "Requirement already satisfied: idna<4,>=2.5 in c:\\shared-drive\\dev\\python-playground\\venv\\lib\\site-packages (from requests->pywhispercpp[examples]) (3.7)\n",
      "Requirement already satisfied: urllib3<3,>=1.21.1 in c:\\shared-drive\\dev\\python-playground\\venv\\lib\\site-packages (from requests->pywhispercpp[examples]) (2.2.1)\n",
      "Requirement already satisfied: certifi>=2017.4.17 in c:\\shared-drive\\dev\\python-playground\\venv\\lib\\site-packages (from requests->pywhispercpp[examples]) (2024.2.2)\n",
      "Requirement already satisfied: CFFI>=1.0 in c:\\shared-drive\\dev\\python-playground\\venv\\lib\\site-packages (from sounddevice->pywhispercpp[examples]) (1.16.0)\n",
      "Requirement already satisfied: colorama in c:\\shared-drive\\dev\\python-playground\\venv\\lib\\site-packages (from tqdm->pywhispercpp[examples]) (0.4.6)\n",
      "Requirement already satisfied: pycparser in c:\\shared-drive\\dev\\python-playground\\venv\\lib\\site-packages (from CFFI>=1.0->sounddevice->pywhispercpp[examples]) (2.22)\n"
     ]
    },
    {
     "name": "stderr",
     "output_type": "stream",
     "text": [
      "\n",
      "[notice] A new release of pip is available: 23.2.1 -> 24.0\n",
      "[notice] To update, run: python.exe -m pip install --upgrade pip\n"
     ]
    }
   ],
   "execution_count": 4
  },
  {
   "cell_type": "code",
   "execution_count": 5,
   "outputs": [
    {
     "ename": "ModuleNotFoundError",
     "evalue": "No module named 'whisper_cpp_python'",
     "output_type": "error",
     "traceback": [
      "\u001B[0;31m---------------------------------------------------------------------------\u001B[0m",
      "\u001B[0;31mModuleNotFoundError\u001B[0m                       Traceback (most recent call last)",
      "Cell \u001B[0;32mIn[5], line 1\u001B[0m\n\u001B[0;32m----> 1\u001B[0m \u001B[38;5;28;01mfrom\u001B[39;00m \u001B[38;5;21;01mwhisper_cpp_python\u001B[39;00m \u001B[38;5;28;01mimport\u001B[39;00m Whisper\n\u001B[1;32m      2\u001B[0m whisper \u001B[38;5;241m=\u001B[39m Whisper(model_path\u001B[38;5;241m=\u001B[39m\u001B[38;5;124m\"\u001B[39m\u001B[38;5;124m./models/ggml-tiny.bin\u001B[39m\u001B[38;5;124m\"\u001B[39m)\n",
      "\u001B[0;31mModuleNotFoundError\u001B[0m: No module named 'whisper_cpp_python'"
     ]
    }
   ],
   "source": [
    "# from whisper_cpp_python import Whisper\n",
    "# whisper = Whisper(model_path=\"./models/ggml-tiny.bin\")"
   ],
   "metadata": {
    "collapsed": false,
    "ExecuteTime": {
     "end_time": "2024-04-28T15:41:31.233728Z",
     "start_time": "2024-04-28T15:41:31.212818Z"
    }
   },
   "id": "bf7c518e5e905a32"
  },
  {
   "cell_type": "code",
   "source": [
    "from pywhispercpp.model import Model\n",
    "\n",
    "model = Model('base.en', n_threads=6)\n",
    "segments = model.transcribe('file.mp3', speed_up=True)\n",
    "for segment in segments:\n",
    "    print(segment.text)\n"
   ],
   "metadata": {
    "collapsed": false,
    "ExecuteTime": {
     "end_time": "2024-05-31T01:52:24.575802Z",
     "start_time": "2024-05-31T01:52:24.268777Z"
    }
   },
   "id": "497b71da7bc70fb6",
   "outputs": [
    {
     "ename": "ImportError",
     "evalue": "DLL load failed while importing _pywhispercpp: The specified module could not be found.",
     "output_type": "error",
     "traceback": [
      "\u001B[1;31m---------------------------------------------------------------------------\u001B[0m",
      "\u001B[1;31mImportError\u001B[0m                               Traceback (most recent call last)",
      "Cell \u001B[1;32mIn[1], line 1\u001B[0m\n\u001B[1;32m----> 1\u001B[0m \u001B[38;5;28;01mfrom\u001B[39;00m \u001B[38;5;21;01mpywhispercpp\u001B[39;00m\u001B[38;5;21;01m.\u001B[39;00m\u001B[38;5;21;01mmodel\u001B[39;00m \u001B[38;5;28;01mimport\u001B[39;00m Model\n\u001B[0;32m      3\u001B[0m model \u001B[38;5;241m=\u001B[39m Model(\u001B[38;5;124m'\u001B[39m\u001B[38;5;124mbase.en\u001B[39m\u001B[38;5;124m'\u001B[39m, n_threads\u001B[38;5;241m=\u001B[39m\u001B[38;5;241m6\u001B[39m)\n\u001B[0;32m      4\u001B[0m segments \u001B[38;5;241m=\u001B[39m model\u001B[38;5;241m.\u001B[39mtranscribe(\u001B[38;5;124m'\u001B[39m\u001B[38;5;124mfile.mp3\u001B[39m\u001B[38;5;124m'\u001B[39m, speed_up\u001B[38;5;241m=\u001B[39m\u001B[38;5;28;01mTrue\u001B[39;00m)\n",
      "File \u001B[1;32mC:\\shared-drive\\dev\\python-playground\\venv\\lib\\site-packages\\pywhispercpp\\model.py:13\u001B[0m\n\u001B[0;32m     11\u001B[0m \u001B[38;5;28;01mfrom\u001B[39;00m \u001B[38;5;21;01mtime\u001B[39;00m \u001B[38;5;28;01mimport\u001B[39;00m time\n\u001B[0;32m     12\u001B[0m \u001B[38;5;28;01mfrom\u001B[39;00m \u001B[38;5;21;01mtyping\u001B[39;00m \u001B[38;5;28;01mimport\u001B[39;00m Union, Callable, List\n\u001B[1;32m---> 13\u001B[0m \u001B[38;5;28;01mimport\u001B[39;00m \u001B[38;5;21;01m_pywhispercpp\u001B[39;00m \u001B[38;5;28;01mas\u001B[39;00m \u001B[38;5;21;01mpw\u001B[39;00m\n\u001B[0;32m     14\u001B[0m \u001B[38;5;28;01mimport\u001B[39;00m \u001B[38;5;21;01mnumpy\u001B[39;00m \u001B[38;5;28;01mas\u001B[39;00m \u001B[38;5;21;01mnp\u001B[39;00m\n\u001B[0;32m     15\u001B[0m \u001B[38;5;28;01mfrom\u001B[39;00m \u001B[38;5;21;01mpydub\u001B[39;00m \u001B[38;5;28;01mimport\u001B[39;00m AudioSegment\n",
      "\u001B[1;31mImportError\u001B[0m: DLL load failed while importing _pywhispercpp: The specified module could not be found."
     ]
    }
   ],
   "execution_count": 1
  },
  {
   "cell_type": "code",
   "execution_count": null,
   "outputs": [],
   "source": [
    "from op"
   ],
   "metadata": {
    "collapsed": false
   },
   "id": "7508a856eb20c520"
  }
 ],
 "metadata": {
  "kernelspec": {
   "display_name": "Python 3",
   "language": "python",
   "name": "python3"
  },
  "language_info": {
   "codemirror_mode": {
    "name": "ipython",
    "version": 2
   },
   "file_extension": ".py",
   "mimetype": "text/x-python",
   "name": "python",
   "nbconvert_exporter": "python",
   "pygments_lexer": "ipython2",
   "version": "2.7.6"
  }
 },
 "nbformat": 4,
 "nbformat_minor": 5
}

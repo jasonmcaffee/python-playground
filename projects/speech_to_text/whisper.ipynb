{
 "cells": [
  {
   "cell_type": "code",
   "outputs": [
    {
     "name": "stdout",
     "output_type": "stream",
     "text": [
      "Requirement already satisfied: pywhispercpp in /Users/jmcaffee/git/python-playground-v2/venv/lib/python3.9/site-packages (1.2.0)\r\n",
      "Requirement already satisfied: numpy in /Users/jmcaffee/git/python-playground-v2/venv/lib/python3.9/site-packages (from pywhispercpp) (1.26.4)\r\n",
      "Requirement already satisfied: pydub in /Users/jmcaffee/git/python-playground-v2/venv/lib/python3.9/site-packages (from pywhispercpp) (0.25.1)\r\n",
      "Requirement already satisfied: requests in /Users/jmcaffee/git/python-playground-v2/venv/lib/python3.9/site-packages (from pywhispercpp) (2.31.0)\r\n",
      "Requirement already satisfied: tqdm in /Users/jmcaffee/git/python-playground-v2/venv/lib/python3.9/site-packages (from pywhispercpp) (4.66.2)\r\n",
      "Requirement already satisfied: platformdirs in /Users/jmcaffee/git/python-playground-v2/venv/lib/python3.9/site-packages (from pywhispercpp) (4.2.0)\r\n",
      "Requirement already satisfied: charset-normalizer<4,>=2 in /Users/jmcaffee/git/python-playground-v2/venv/lib/python3.9/site-packages (from requests->pywhispercpp) (3.3.2)\r\n",
      "Requirement already satisfied: idna<4,>=2.5 in /Users/jmcaffee/git/python-playground-v2/venv/lib/python3.9/site-packages (from requests->pywhispercpp) (3.6)\r\n",
      "Requirement already satisfied: urllib3<3,>=1.21.1 in /Users/jmcaffee/git/python-playground-v2/venv/lib/python3.9/site-packages (from requests->pywhispercpp) (2.2.0)\r\n",
      "Requirement already satisfied: certifi>=2017.4.17 in /Users/jmcaffee/git/python-playground-v2/venv/lib/python3.9/site-packages (from requests->pywhispercpp) (2024.2.2)\r\n",
      "\r\n",
      "\u001B[1m[\u001B[0m\u001B[34;49mnotice\u001B[0m\u001B[1;39;49m]\u001B[0m\u001B[39;49m A new release of pip is available: \u001B[0m\u001B[31;49m23.2.1\u001B[0m\u001B[39;49m -> \u001B[0m\u001B[32;49m24.0\u001B[0m\r\n",
      "\u001B[1m[\u001B[0m\u001B[34;49mnotice\u001B[0m\u001B[1;39;49m]\u001B[0m\u001B[39;49m To update, run: \u001B[0m\u001B[32;49mpip install --upgrade pip\u001B[0m\r\n"
     ]
    }
   ],
   "source": [
    "!pip install pywhispercpp"
   ],
   "metadata": {
    "collapsed": false,
    "ExecuteTime": {
     "end_time": "2024-04-29T01:03:03.401259Z",
     "start_time": "2024-04-29T01:03:01.915197Z"
    }
   },
   "id": "59b5cc9c1714c235",
   "execution_count": 2
  },
  {
   "cell_type": "code",
   "execution_count": 1,
   "id": "initial_id",
   "metadata": {
    "collapsed": true,
    "ExecuteTime": {
     "end_time": "2024-04-29T01:04:48.539869Z",
     "start_time": "2024-04-29T01:04:47.389449Z"
    }
   },
   "outputs": [
    {
     "name": "stdout",
     "output_type": "stream",
     "text": [
      "[2024-04-28 19:04:48,049] {utils.py:38} INFO - No download directory was provided, models will be downloaded to /Users/jmcaffee/Library/Application Support/pywhispercpp/models\n",
      "[2024-04-28 19:04:48,050] {utils.py:46} INFO - Model base.en already exists in /Users/jmcaffee/Library/Application Support/pywhispercpp/models\n",
      "[2024-04-28 19:04:48,050] {model.py:221} INFO - Initializing the model ...\n"
     ]
    },
    {
     "name": "stderr",
     "output_type": "stream",
     "text": [
      "/Users/jmcaffee/git/python-playground-v2/venv/lib/python3.9/site-packages/urllib3/__init__.py:35: NotOpenSSLWarning: urllib3 v2 only supports OpenSSL 1.1.1+, currently the 'ssl' module is compiled with 'LibreSSL 2.8.3'. See: https://github.com/urllib3/urllib3/issues/3020\n",
      "  warnings.warn(\n",
      "whisper_init_from_file_with_params_no_state: loading model from '/Users/jmcaffee/Library/Application Support/pywhispercpp/models/ggml-base.en.bin'\n",
      "whisper_model_load: loading model\n",
      "whisper_model_load: n_vocab       = 51864\n",
      "whisper_model_load: n_audio_ctx   = 1500\n",
      "whisper_model_load: n_audio_state = 512\n",
      "whisper_model_load: n_audio_head  = 8\n",
      "whisper_model_load: n_audio_layer = 6\n",
      "whisper_model_load: n_text_ctx    = 448\n",
      "whisper_model_load: n_text_state  = 512\n",
      "whisper_model_load: n_text_head   = 8\n",
      "whisper_model_load: n_text_layer  = 6\n",
      "whisper_model_load: n_mels        = 80\n",
      "whisper_model_load: ftype         = 1\n",
      "whisper_model_load: qntvr         = 0\n",
      "whisper_model_load: type          = 2 (base)\n",
      "whisper_model_load: adding 1607 extra tokens\n",
      "whisper_model_load: n_langs       = 99\n",
      "whisper_backend_init: using Metal backend\n",
      "ggml_metal_init: allocating\n",
      "ggml_metal_init: found device: Apple M3 Max\n",
      "ggml_metal_init: picking default device: Apple M3 Max\n",
      "ggml_metal_init: default.metallib not found, loading from source\n",
      "ggml_metal_init: GGML_METAL_PATH_RESOURCES = nil\n",
      "ggml_metal_init: error: could not use bundle path to find ggml-metal.metal, falling back to trying cwd\n",
      "ggml_metal_init: loading 'ggml-metal.metal'\n",
      "ggml_metal_init: error: Error Domain=NSCocoaErrorDomain Code=260 \"The file “ggml-metal.metal” couldn’t be opened because there is no such file.\" UserInfo={NSFilePath=ggml-metal.metal, NSUnderlyingError=0x6000035c0ba0 {Error Domain=NSPOSIXErrorDomain Code=2 \"No such file or directory\"}}\n",
      "whisper_backend_init: ggml_backend_metal_init() failed\n",
      "whisper_model_load:      CPU buffer size =   147.46 MB\n",
      "whisper_model_load: model size    =  147.37 MB\n",
      "whisper_backend_init: using Metal backend\n",
      "ggml_metal_init: allocating\n",
      "ggml_metal_init: found device: Apple M3 Max\n",
      "ggml_metal_init: picking default device: Apple M3 Max\n",
      "ggml_metal_init: default.metallib not found, loading from source\n",
      "ggml_metal_init: GGML_METAL_PATH_RESOURCES = nil\n",
      "ggml_metal_init: error: could not use bundle path to find ggml-metal.metal, falling back to trying cwd\n",
      "ggml_metal_init: loading 'ggml-metal.metal'\n",
      "ggml_metal_init: error: Error Domain=NSCocoaErrorDomain Code=260 \"The file “ggml-metal.metal” couldn’t be opened because there is no such file.\" UserInfo={NSFilePath=ggml-metal.metal, NSUnderlyingError=0x6000035d0480 {Error Domain=NSPOSIXErrorDomain Code=2 \"No such file or directory\"}}\n",
      "whisper_backend_init: ggml_backend_metal_init() failed\n",
      "whisper_init_state: kv self size  =   16.52 MB\n",
      "whisper_init_state: kv cross size =   18.43 MB\n",
      "whisper_init_state: compute buffer (conv)   =   14.86 MB\n",
      "whisper_init_state: compute buffer (encode) =   85.99 MB\n",
      "whisper_init_state: compute buffer (cross)  =    4.78 MB\n",
      "whisper_init_state: compute buffer (decode) =   96.48 MB\n"
     ]
    },
    {
     "name": "stdout",
     "output_type": "stream",
     "text": [
      "[2024-04-28 19:04:48,535] {model.py:130} INFO - Transcribing ...\n",
      "[2024-04-28 19:04:48,536] {model.py:133} INFO - Inference time: 0.001 s\n"
     ]
    },
    {
     "name": "stderr",
     "output_type": "stream",
     "text": [
      "whisper_full_with_state: failed to compute log mel spectrogram\n"
     ]
    }
   ],
   "source": [
    "# from pywhispercpp.model import Model\n",
    "# \n",
    "# model = Model('base.en', n_threads=6)\n",
    "# segments = model.transcribe('./samples/Refined Speech.mp3', speed_up=True)\n",
    "# \n",
    "# for segment in segments:\n",
    "#     print(segment.text)"
   ]
  },
  {
   "cell_type": "code",
   "outputs": [
    {
     "name": "stdout",
     "output_type": "stream",
     "text": [
      "\u001B[31mERROR: Could not find a version that satisfies the requirement whisper-cpp (from versions: none)\u001B[0m\u001B[31m\r\n",
      "\u001B[0m\u001B[31mERROR: No matching distribution found for whisper-cpp\u001B[0m\u001B[31m\r\n",
      "\u001B[0m\r\n",
      "\u001B[1m[\u001B[0m\u001B[34;49mnotice\u001B[0m\u001B[1;39;49m]\u001B[0m\u001B[39;49m A new release of pip is available: \u001B[0m\u001B[31;49m23.2.1\u001B[0m\u001B[39;49m -> \u001B[0m\u001B[32;49m24.0\u001B[0m\r\n",
      "\u001B[1m[\u001B[0m\u001B[34;49mnotice\u001B[0m\u001B[1;39;49m]\u001B[0m\u001B[39;49m To update, run: \u001B[0m\u001B[32;49mpip install --upgrade pip\u001B[0m\r\n"
     ]
    }
   ],
   "source": [
    "!pip install whisper-cpp"
   ],
   "metadata": {
    "collapsed": false,
    "ExecuteTime": {
     "end_time": "2024-04-29T01:06:04.904758Z",
     "start_time": "2024-04-29T01:06:04.025168Z"
    }
   },
   "id": "72d68c42a730f1e7",
   "execution_count": 2
  },
  {
   "cell_type": "code",
   "outputs": [
    {
     "name": "stdout",
     "output_type": "stream",
     "text": [
      "Cloning into 'whisper.cpp'...\r\n",
      "remote: Enumerating objects: 7971, done.\u001B[K\r\n",
      "remote: Counting objects: 100% (2412/2412), done.\u001B[K\r\n",
      "remote: Compressing objects: 100% (243/243), done.\u001B[K\r\n",
      "error: RPC failed; curl 92 HTTP/2 stream 5 was not closed cleanly: CANCEL (err 8)2% (957/7971), 1.11 MiB | 63.00 KiB/sReceiving objects:  13% (1037/7971), 1.14 MiB | 71.00 KiB/sReceiving objects:  14% (1146/7971), 1.23 MiB | 76.00 KiB/sReceiving objects:  15% (1244/7971), 1.26 MiB | 73.00 KiB/sReceiving objects:  17% (1356/7971), 1.30 MiB | 69.00 KiB/sReceiving objects:  17% (1433/7971), 1.46 MiB | 69.00 KiB/sReceiving objects:  17% (1433/7971), 1.59 MiB | 68.00 KiB/sReceiving objects:  18% (1443/7971), 1.69 MiB | 79.00 KiB/sReceiving objects:  18% (1505/7971), 1.80 MiB | 67.00 KiB/sReceiving objects:  18% (1505/7971), 1.98 MiB | 73.00 KiB/sReceiving objects:  18% (1505/7971), 2.07 MiB | 64.00 KiB/sReceiving objects:  19% (1518/7971), 2.09 MiB | 62.00 KiB/sReceiving objects:  19% (1574/7971), 2.18 MiB | 51.00 KiB/sReceiving objects:  19% (1581/7971), 2.25 MiB | 38.00 KiB/sReceiving objects:  20% (1664/7971), 2.39 MiB | 52.00 KiB/sReceiving objects:  21% (1739/7971), 2.54 MiB | 71.00 KiB/sReceiving objects:  22% (1777/7971), 2.66 MiB | 93.00 KiB/sReceiving objects:  24% (1914/7971), 2.74 MiB | 104.00 KiB/sReceiving objects:  24% (1989/7971), 2.89 MiB | 116.00 KiB/sReceiving objects:  25% (2004/7971), 2.93 MiB | 110.00 KiB/sReceiving objects:  25% (2040/7971), 3.29 MiB | 120.00 KiB/sReceiving objects:  26% (2073/7971), 3.43 MiB | 120.00 KiB/sReceiving objects:  26% (2115/7971), 3.55 MiB | 117.00 KiB/sReceiving objects:  27% (2153/7971), 3.61 MiB | 93.00 KiB/sReceiving objects:  28% (2232/7971), 3.68 MiB | 74.00 KiB/sReceiving objects:  29% (2312/7971), 3.73 MiB | 72.00 KiB/sReceiving objects:  29% (2338/7971), 3.86 MiB | 59.00 KiB/sReceiving objects:  30% (2412/7971), 3.90 MiB | 58.00 KiB/sReceiving objects:  31% (2540/7971), 3.94 MiB | 62.00 KiB/sReceiving objects:  33% (2631/7971), 3.99 MiB | 63.00 KiB/sReceiving objects:  33% (2694/7971), 4.08 MiB | 65.00 KiB/sReceiving objects:  33% (2694/7971), 4.22 MiB | 61.00 KiB/sReceiving objects:  33% (2694/7971), 4.32 MiB | 55.00 KiB/sReceiving objects:  33% (2694/7971), 4.41 MiB | 46.00 KiB/sReceiving objects:  35% (2790/7971), 4.41 MiB | 46.00 KiB/sReceiving objects:  35% (2835/7971), 4.61 MiB | 54.00 KiB/sReceiving objects:  35% (2836/7971), 4.72 MiB | 63.00 KiB/sReceiving objects:  37% (2950/7971), 4.75 MiB | 62.00 KiB/sReceiving objects:  38% (3029/7971), 4.79 MiB | 63.00 KiB/sReceiving objects:  39% (3109/7971), 4.82 MiB | 71.00 KiB/sReceiving objects:  40% (3197/7971), 4.83 MiB | 66.00 KiB/sReceiving objects:  40% (3202/7971), 4.89 MiB | 44.00 KiB/sReceiving objects:  40% (3202/7971), 5.02 MiB | 40.00 KiB/sReceiving objects:  40% (3202/7971), 5.12 MiB | 39.00 KiB/sReceiving objects:  41% (3322/7971), 5.12 MiB | 39.00 KiB/sReceiving objects:  42% (3416/7971), 5.32 MiB | 60.00 KiB/sReceiving objects:  42% (3416/7971), 5.46 MiB | 66.00 KiB/sReceiving objects:  43% (3428/7971), 5.53 MiB | 66.00 KiB/sReceiving objects:  44% (3524/7971), 5.62 MiB | 79.00 KiB/sReceiving objects:  44% (3524/7971), 5.71 MiB | 71.00 KiB/sReceiving objects:  44% (3570/7971), 5.97 MiB | 86.00 KiB/sReceiving objects:  45% (3657/7971), 6.18 MiB | 103.00 KiB/sReceiving objects:  47% (3747/7971), 6.33 MiB | 122.00 KiB/sReceiving objects:  47% (3820/7971), 6.53 MiB | 117.00 KiB/sReceiving objects:  47% (3821/7971), 6.61 MiB | 86.00 KiB/s Receiving objects:  47% (3821/7971), 6.70 MiB | 62.00 KiB/sReceiving objects:  48% (3889/7971), 6.79 MiB | 56.00 KiB/sReceiving objects:  48% (3890/7971), 7.03 MiB | 79.00 KiB/sReceiving objects:  49% (3973/7971), 7.20 MiB | 102.00 KiB/sReceiving objects:  50% (4040/7971), 7.27 MiB | 113.00 KiB/sReceiving objects:  50% (4040/7971), 7.33 MiB | 94.00 KiB/s Receiving objects:  50% (4047/7971), 7.49 MiB | 79.00 KiB/s Receiving objects:  51% (4066/7971), 7.63 MiB | 68.00 KiB/sReceiving objects:  51% (4081/7971), 7.75 MiB | 74.00 KiB/sReceiving objects:  51% (4082/7971), 7.80 MiB | 66.00 KiB/sReceiving objects:  51% (4083/7971), 7.92 MiB | 60.00 KiB/sReceiving objects:  54% (4305/7971), 7.96 MiB | 58.00 KiB/sReceiving objects:  56% (4464/7971), 7.96 MiB | 58.00 KiB/sReceiving objects:  57% (4548/7971), 8.01 MiB | 57.00 KiB/sReceiving objects:  57% (4548/7971), 8.08 MiB | 54.00 KiB/sReceiving objects:  57% (4548/7971), 8.16 MiB | 47.00 KiB/sReceiving objects:  57% (4549/7971), 8.25 MiB | 39.00 KiB/sReceiving objects:  58% (4624/7971), 8.32 MiB | 42.00 KiB/sReceiving objects:  58% (4655/7971), 8.43 MiB | 57.00 KiB/sReceiving objects:  59% (4741/7971), 8.59 MiB | 69.00 KiB/sReceiving objects:  60% (4810/7971), 8.62 MiB | 68.00 KiB/sReceiving objects:  60% (4856/7971), 8.79 MiB | 83.00 KiB/sReceiving objects:  61% (4912/7971), 8.92 MiB | 87.00 KiB/s\r\n",
      "error: 2966 bytes of body are still expected\r\n",
      "fetch-pack: unexpected disconnect while reading sideband packet\r\n",
      "fatal: early EOF\r\n",
      "fatal: fetch-pack: invalid index-pack output\r\n"
     ]
    }
   ],
   "source": [
    "!git clone https://github.com/ggerganov/whisper.cpp"
   ],
   "metadata": {
    "collapsed": false,
    "ExecuteTime": {
     "end_time": "2024-04-29T01:10:48.903471Z",
     "start_time": "2024-04-29T01:08:31.984241Z"
    }
   },
   "id": "60f1a4900c150f2a",
   "execution_count": 3
  },
  {
   "cell_type": "code",
   "outputs": [],
   "source": [],
   "metadata": {
    "collapsed": false
   },
   "id": "8ac3d7dd5822e2cb"
  }
 ],
 "metadata": {
  "kernelspec": {
   "display_name": "Python 3",
   "language": "python",
   "name": "python3"
  },
  "language_info": {
   "codemirror_mode": {
    "name": "ipython",
    "version": 2
   },
   "file_extension": ".py",
   "mimetype": "text/x-python",
   "name": "python",
   "nbconvert_exporter": "python",
   "pygments_lexer": "ipython2",
   "version": "2.7.6"
  }
 },
 "nbformat": 4,
 "nbformat_minor": 5
}

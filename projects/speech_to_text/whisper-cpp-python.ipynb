{
 "cells": [
  {
   "cell_type": "code",
   "id": "initial_id",
   "metadata": {
    "collapsed": true,
    "ExecuteTime": {
     "end_time": "2024-05-31T01:54:38.031801Z",
     "start_time": "2024-05-31T01:54:23.178090Z"
    }
   },
   "source": "!pip install whisper-cpp-python",
   "outputs": [
    {
     "name": "stdout",
     "output_type": "stream",
     "text": [
      "Collecting whisper-cpp-python\n",
      "  Downloading whisper_cpp_python-0.2.0.tar.gz (3.8 MB)\n",
      "     ---------------------------------------- 0.0/3.8 MB ? eta -:--:--\n",
      "     - -------------------------------------- 0.2/3.8 MB 3.3 MB/s eta 0:00:02\n",
      "     ---- ----------------------------------- 0.4/3.8 MB 4.4 MB/s eta 0:00:01\n",
      "     ---------- ----------------------------- 1.0/3.8 MB 7.2 MB/s eta 0:00:01\n",
      "     ---------------- ----------------------- 1.6/3.8 MB 8.4 MB/s eta 0:00:01\n",
      "     ---------------------- ----------------- 2.2/3.8 MB 9.2 MB/s eta 0:00:01\n",
      "     ------------------------------ --------- 2.9/3.8 MB 10.3 MB/s eta 0:00:01\n",
      "     -------------------------------------- - 3.7/3.8 MB 11.3 MB/s eta 0:00:01\n",
      "     ---------------------------------------- 3.8/3.8 MB 10.6 MB/s eta 0:00:00\n",
      "  Installing build dependencies: started\n",
      "  Installing build dependencies: finished with status 'done'\n",
      "  Getting requirements to build wheel: started\n",
      "  Getting requirements to build wheel: finished with status 'error'\n"
     ]
    },
    {
     "name": "stderr",
     "output_type": "stream",
     "text": [
      "  error: subprocess-exited-with-error\n",
      "  \n",
      "  Getting requirements to build wheel did not run successfully.\n",
      "  exit code: 1\n",
      "  \n",
      "  [44 lines of output]\n",
      "  running egg_info\n",
      "  writing whisper_cpp_python.egg-info\\PKG-INFO\n",
      "  writing dependency_links to whisper_cpp_python.egg-info\\dependency_links.txt\n",
      "  writing requirements to whisper_cpp_python.egg-info\\requires.txt\n",
      "  writing top-level names to whisper_cpp_python.egg-info\\top_level.txt\n",
      "  reading manifest file 'whisper_cpp_python.egg-info\\SOURCES.txt'\n",
      "  adding license file 'LICENSE'\n",
      "  writing manifest file 'whisper_cpp_python.egg-info\\SOURCES.txt'\n",
      "  Traceback (most recent call last):\n",
      "    File \"C:\\Users\\jason\\AppData\\Local\\Temp\\pip-build-env-5xfmxoxa\\overlay\\Lib\\site-packages\\pycparser\\__init__.py\", line 42, in preprocess_file\n",
      "      text = check_output(path_list, universal_newlines=True)\n",
      "    File \"C:\\Users\\jason\\AppData\\Local\\Programs\\Python\\Python310\\lib\\subprocess.py\", line 420, in check_output\n",
      "      return run(*popenargs, stdout=PIPE, timeout=timeout, check=True,\n",
      "    File \"C:\\Users\\jason\\AppData\\Local\\Programs\\Python\\Python310\\lib\\subprocess.py\", line 501, in run\n",
      "      with Popen(*popenargs, **kwargs) as process:\n",
      "    File \"C:\\Users\\jason\\AppData\\Local\\Programs\\Python\\Python310\\lib\\subprocess.py\", line 969, in __init__\n",
      "      self._execute_child(args, executable, preexec_fn, close_fds,\n",
      "    File \"C:\\Users\\jason\\AppData\\Local\\Programs\\Python\\Python310\\lib\\subprocess.py\", line 1438, in _execute_child\n",
      "      hp, ht, pid, tid = _winapi.CreateProcess(executable, args,\n",
      "  FileNotFoundError: [WinError 2] The system cannot find the file specified\n",
      "  \n",
      "  During handling of the above exception, another exception occurred:\n",
      "  \n",
      "  Traceback (most recent call last):\n",
      "    File \"C:\\shared-drive\\dev\\python-playground\\venv\\lib\\site-packages\\pip\\_vendor\\pyproject_hooks\\_in_process\\_in_process.py\", line 353, in <module>\n",
      "      main()\n",
      "    File \"C:\\shared-drive\\dev\\python-playground\\venv\\lib\\site-packages\\pip\\_vendor\\pyproject_hooks\\_in_process\\_in_process.py\", line 335, in main\n",
      "      json_out['return_val'] = hook(**hook_input['kwargs'])\n",
      "    File \"C:\\shared-drive\\dev\\python-playground\\venv\\lib\\site-packages\\pip\\_vendor\\pyproject_hooks\\_in_process\\_in_process.py\", line 118, in get_requires_for_build_wheel\n",
      "      return hook(config_settings)\n",
      "    File \"C:\\Users\\jason\\AppData\\Local\\Temp\\pip-build-env-5xfmxoxa\\overlay\\Lib\\site-packages\\setuptools\\build_meta.py\", line 325, in get_requires_for_build_wheel\n",
      "      return self._get_build_requires(config_settings, requirements=['wheel'])\n",
      "    File \"C:\\Users\\jason\\AppData\\Local\\Temp\\pip-build-env-5xfmxoxa\\overlay\\Lib\\site-packages\\setuptools\\build_meta.py\", line 295, in _get_build_requires\n",
      "      self.run_setup()\n",
      "    File \"C:\\Users\\jason\\AppData\\Local\\Temp\\pip-build-env-5xfmxoxa\\overlay\\Lib\\site-packages\\setuptools\\build_meta.py\", line 311, in run_setup\n",
      "      exec(code, locals())\n",
      "    File \"<string>\", line 249, in <module>\n",
      "    File \"<string>\", line 93, in __init__\n",
      "    File \"C:\\Users\\jason\\AppData\\Local\\Temp\\pip-build-env-5xfmxoxa\\overlay\\Lib\\site-packages\\pycparser\\__init__.py\", line 86, in parse_file\n",
      "      text = preprocess_file(filename, cpp_path, cpp_args)\n",
      "    File \"C:\\Users\\jason\\AppData\\Local\\Temp\\pip-build-env-5xfmxoxa\\overlay\\Lib\\site-packages\\pycparser\\__init__.py\", line 44, in preprocess_file\n",
      "      raise RuntimeError(\"Unable to invoke 'cpp'.  \" +\n",
      "  RuntimeError: Unable to invoke 'cpp'.  Make sure its path was passed correctly\n",
      "  Original error: [WinError 2] The system cannot find the file specified\n",
      "  [end of output]\n",
      "  \n",
      "  note: This error originates from a subprocess, and is likely not a problem with pip.\n",
      "error: subprocess-exited-with-error\n",
      "\n",
      "Getting requirements to build wheel did not run successfully.\n",
      "exit code: 1\n",
      "\n",
      "See above for output.\n",
      "\n",
      "note: This error originates from a subprocess, and is likely not a problem with pip.\n",
      "\n",
      "[notice] A new release of pip is available: 23.2.1 -> 24.0\n",
      "[notice] To update, run: python.exe -m pip install --upgrade pip\n"
     ]
    }
   ],
   "execution_count": 1
  },
  {
   "metadata": {},
   "cell_type": "code",
   "outputs": [],
   "execution_count": null,
   "source": "",
   "id": "45cfffdaacf5eb0c"
  }
 ],
 "metadata": {
  "kernelspec": {
   "display_name": "Python 3",
   "language": "python",
   "name": "python3"
  },
  "language_info": {
   "codemirror_mode": {
    "name": "ipython",
    "version": 2
   },
   "file_extension": ".py",
   "mimetype": "text/x-python",
   "name": "python",
   "nbconvert_exporter": "python",
   "pygments_lexer": "ipython2",
   "version": "2.7.6"
  }
 },
 "nbformat": 4,
 "nbformat_minor": 5
}

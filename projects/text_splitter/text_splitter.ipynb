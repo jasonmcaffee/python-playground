{
 "cells": [
  {
   "cell_type": "code",
   "execution_count": 5,
   "metadata": {
    "collapsed": true,
    "pycharm": {
     "name": "#%%\n"
    }
   },
   "outputs": [
    {
     "name": "stdout",
     "output_type": "stream",
     "text": [
      "lines size 3046\n"
     ]
    }
   ],
   "source": [
    "def read_file_lines_with_empty_lines_removed(file_path):\n",
    "    new_lines = []\n",
    "    with open(file_path, 'r') as file:\n",
    "        for line in file:\n",
    "            if(line.strip() != ''):\n",
    "                new_lines.append(line)\n",
    "    return new_lines\n",
    "\n",
    "def write_file_lines(file_lines, file_path):\n",
    "    with open(file_path, 'w') as file:\n",
    "        for line in file_lines:\n",
    "            file.write(line)\n",
    "\n",
    "def main():\n",
    "    lines = read_file_lines_with_empty_lines_removed(\"satipathana.txt\")\n",
    "    print(f\"lines size {len(lines)}\")\n",
    "    write_file_lines(lines, \"satipathana_empty_lines_removed.txt\")\n",
    "\n",
    "main()"
   ]
  },
  {
   "cell_type": "code",
   "execution_count": 7,
   "outputs": [
    {
     "name": "stdout",
     "output_type": "stream",
     "text": [
      "there are 40 line groups\n",
      "line_group length 2993\n",
      "line_group length 2968\n",
      "line_group length 2965\n",
      "line_group length 2973\n",
      "line_group length 2979\n",
      "line_group length 2994\n",
      "line_group length 2990\n",
      "line_group length 2999\n",
      "line_group length 2984\n",
      "line_group length 2980\n",
      "line_group length 2989\n",
      "line_group length 2991\n",
      "line_group length 2977\n",
      "line_group length 2943\n",
      "line_group length 2994\n",
      "line_group length 2977\n",
      "line_group length 2984\n",
      "line_group length 2997\n",
      "line_group length 2958\n",
      "line_group length 2978\n",
      "line_group length 2999\n",
      "line_group length 2981\n",
      "line_group length 2959\n",
      "line_group length 2996\n",
      "line_group length 2960\n",
      "line_group length 2975\n",
      "line_group length 2968\n",
      "line_group length 2966\n",
      "line_group length 2992\n",
      "line_group length 2973\n",
      "line_group length 2969\n",
      "line_group length 2971\n",
      "line_group length 2996\n",
      "line_group length 2990\n",
      "line_group length 2971\n",
      "line_group length 2985\n",
      "line_group length 2953\n",
      "line_group length 2968\n",
      "line_group length 2996\n",
      "line_group length 2997\n"
     ]
    }
   ],
   "source": [
    "def group_lines_by_length(lines, max_length_per_group = 3000):\n",
    "    current_group = ''\n",
    "    line_groups = []\n",
    "    for line in lines:\n",
    "        line_length = len(line)\n",
    "        if(line_length > max_length_per_group):\n",
    "            print(f\"Error: line length: {line_length} longer than {max_length_per_group}\")\n",
    "        current_group_length = len(current_group)\n",
    "        if(line_length + current_group_length <= max_length_per_group):\n",
    "            current_group += line\n",
    "        else:\n",
    "            line_groups.append(current_group)\n",
    "            current_group = line\n",
    "    print(f\"there are {len(line_groups)} line groups\")\n",
    "    for line_group in line_groups:\n",
    "        print(f\"line_group length {len(line_group)}\")\n",
    "    return line_groups\n",
    "\n",
    "lines = read_file_lines_with_empty_lines_removed(\"satipathana.txt\")\n",
    "line_groups = group_lines_by_length(lines)\n"
   ],
   "metadata": {
    "collapsed": false,
    "pycharm": {
     "name": "#%%\n"
    }
   }
  },
  {
   "cell_type": "code",
   "execution_count": 9,
   "outputs": [],
   "source": [
    "import csv\n",
    "with open('satipathana_grouped_by_length.csv', 'w', newline='') as file:\n",
    "    writer = csv.writer(file)\n",
    "    for line_group in line_groups:\n",
    "        writer.writerow([line_group])\n"
   ],
   "metadata": {
    "collapsed": false,
    "pycharm": {
     "name": "#%%\n"
    }
   }
  },
  {
   "cell_type": "code",
   "execution_count": null,
   "outputs": [],
   "source": [
    "text = \"hello I am jason and I am on an airplane\"\n",
    "max_length = 10\n",
    "index_to_split_so_word_isnt_cut = text.find()"
   ],
   "metadata": {
    "collapsed": false,
    "pycharm": {
     "name": "#%%\n"
    }
   }
  }
 ],
 "metadata": {
  "kernelspec": {
   "display_name": "Python 3",
   "language": "python",
   "name": "python3"
  },
  "language_info": {
   "codemirror_mode": {
    "name": "ipython",
    "version": 2
   },
   "file_extension": ".py",
   "mimetype": "text/x-python",
   "name": "python",
   "nbconvert_exporter": "python",
   "pygments_lexer": "ipython2",
   "version": "2.7.6"
  }
 },
 "nbformat": 4,
 "nbformat_minor": 0
}

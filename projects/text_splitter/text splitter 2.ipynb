{
 "cells": [
  {
   "cell_type": "code",
   "execution_count": 71,
   "id": "initial_id",
   "metadata": {
    "collapsed": true,
    "ExecuteTime": {
     "end_time": "2024-02-18T20:10:04.645216Z",
     "start_time": "2024-02-18T20:10:04.641977Z"
    }
   },
   "outputs": [],
   "source": [
    "text_to_split = \"\"\"\n",
    "The brown fox jumped over the blue moon on its way to the fairy store. \n",
    "The blue cow ran into a car as it was preparing for its interview at Mattel. \n",
    "A yellow banana sang songs of worship to the golden armpit floating in the sky. \n",
    "Disaster struck as the rotten tomato fell from his perch upon his ivory tower. - asf-\n",
    "\"\"\"\n",
    "# The brown fox jumped\n",
    "# fox jumped over the\n",
    "# over the blue moon\n",
    "# blue moon on its\n",
    "# on its way to\n",
    "# way to the fairy\n",
    "# the fairy store.\n",
    "max_line_length = 31\n",
    "line_overlap_length = 15\n",
    "    "
   ]
  },
  {
   "cell_type": "code",
   "outputs": [
    {
     "data": {
      "text/plain": "8"
     },
     "execution_count": 86,
     "metadata": {},
     "output_type": "execute_result"
    }
   ],
   "source": [
    "def get_nearest_index_that_doesnt_break_a_word(text: str, index: int):\n",
    "    \"\"\"\n",
    "    Attempts to work backwards from the index and finds the earliest index possible to start on that doesn't break a word.\n",
    "    If there are no suitable earlier indexes, will return the end of the current text.\n",
    "    \"\"\"\n",
    "    # don't bother trying if the index is greater than the string length.\n",
    "    if index > len(text):\n",
    "        return len(text)\n",
    "    \n",
    "    # Ensure start_index is within the bounds of the text\n",
    "    start_index = min(index, len(text) - 1)\n",
    "    \n",
    "    # walk backwards through the text until the nearest space is found.\n",
    "    while start_index > 0 and text[start_index - 1] != \" \":\n",
    "        start_index -= 1\n",
    "    \n",
    "    #if no space was found when walking backwards, walk forwards until a space is found.\n",
    "    if start_index == 0:\n",
    "        start_index = min(index, len(text) - 1)\n",
    "        while start_index < len(text) and text[start_index - 1] != \" \":\n",
    "            start_index += 1\n",
    "    \n",
    "    # start_index = start_index if start_index > 0 else len(text)    \n",
    "    return start_index\n",
    "\n",
    "get_nearest_index_that_doesnt_break_a_word(\"hello as\", 9)"
   ],
   "metadata": {
    "collapsed": false,
    "ExecuteTime": {
     "end_time": "2024-02-18T20:41:23.816736Z",
     "start_time": "2024-02-18T20:41:23.812601Z"
    }
   },
   "id": "fa6081feddd6f579",
   "execution_count": 86
  },
  {
   "cell_type": "code",
   "outputs": [
    {
     "name": "stdout",
     "output_type": "stream",
     "text": [
      "['\\nThe brown fox jumped over the ', 'blue moon on its way to the ', 'fairy store. \\nThe blue cow ran ', 'into a car as it was preparing ', 'for its interview at Mattel. ', '\\nA yellow banana sang songs of ', 'worship to the golden armpit ', 'floating in the sky. \\nDisaster ', 'struck as the rotten tomato ', 'fell from his perch upon his ', 'ivory tower. - asf-\\n']\n"
     ]
    }
   ],
   "source": [
    "def split_text_into_lines_of_length(text_to_split: str, max_line_length = 15):\n",
    "    \"\"\"\n",
    "    Split the text into lines that do not exceed max_line_length.\n",
    "    Only split on \" \", in order to not split words in half.\n",
    "    \"\"\"\n",
    "    remaining_text = text_to_split\n",
    "    lines = []\n",
    "    while len(remaining_text) > 0:\n",
    "        end_index = get_nearest_index_that_doesnt_break_a_word(remaining_text, max_line_length)\n",
    "        line = remaining_text[0: end_index]\n",
    "        lines.append(line)\n",
    "        remaining_text = remaining_text[end_index:]\n",
    "    return lines\n",
    "    \n",
    "lines = split_text_into_lines_of_length(text_to_split, max_line_length)\n",
    "print(lines)"
   ],
   "metadata": {
    "collapsed": false,
    "ExecuteTime": {
     "end_time": "2024-02-18T20:41:42.603069Z",
     "start_time": "2024-02-18T20:41:42.600096Z"
    }
   },
   "id": "249ff857739be0d3",
   "execution_count": 88
  },
  {
   "cell_type": "code",
   "outputs": [
    {
     "data": {
      "text/plain": "['jumped over the blue moon on ',\n 'its way to the fairy store. ',\n '\\nThe blue cow ran into a car ',\n 'as it was preparing for its ',\n 'interview at Mattel. \\nA yellow ',\n 'banana sang songs of worship ',\n 'to the golden armpit floating ',\n 'in the sky. \\nDisaster struck ',\n 'as the rotten tomato fell from ',\n 'his perch upon his ivory ',\n 'tower. - asf-\\n']"
     },
     "execution_count": 89,
     "metadata": {},
     "output_type": "execute_result"
    }
   ],
   "source": [
    "def create_overlapping_lines(text_to_split, line_overlap_length = 7, max_line_length = 15):\n",
    "    \"\"\"\n",
    "    It is useful in RAG to break the text up into chunks that overlap.  That way we are more likely to get a hit for the surrounding text\n",
    "    e.g.\n",
    "    The brown fox jumped over\n",
    "    jumped over the blue moon\n",
    "    blue moon on its way to \n",
    "    \"\"\"\n",
    "    # to create overlapping text we can create a new substring that starts N chars into the original, and use our original splitting function\n",
    "    # e.g. For \"The brown fox jumped over the blue moon\", we can start at \"jumped over the blue moon on its way to\"\n",
    "    start_index = get_nearest_index_that_doesnt_break_a_word(text_to_split, line_overlap_length)\n",
    "    overlap_text_to_split = text_to_split[start_index:]\n",
    "    overlapping_lines = split_text_into_lines_of_length(overlap_text_to_split, max_line_length)\n",
    "    return overlapping_lines\n",
    "            \n",
    "create_overlapping_lines(text_to_split, line_overlap_length, max_line_length)        "
   ],
   "metadata": {
    "collapsed": false,
    "ExecuteTime": {
     "end_time": "2024-02-18T20:41:56.886286Z",
     "start_time": "2024-02-18T20:41:56.882226Z"
    }
   },
   "id": "1fc2d1d4be6957cf",
   "execution_count": 89
  },
  {
   "cell_type": "code",
   "outputs": [
    {
     "name": "stdout",
     "output_type": "stream",
     "text": [
      "lines: 11 overlapping: 11\n",
      "['\\nThe brown fox jumped over the ', 'jumped over the blue moon on ', 'blue moon on its way to the ', 'its way to the fairy store. ', 'fairy store. \\nThe blue cow ran ', '\\nThe blue cow ran into a car ', 'into a car as it was preparing ', 'as it was preparing for its ', 'for its interview at Mattel. ', 'interview at Mattel. \\nA yellow ', '\\nA yellow banana sang songs of ', 'banana sang songs of worship ', 'worship to the golden armpit ', 'to the golden armpit floating ', 'floating in the sky. \\nDisaster ', 'in the sky. \\nDisaster struck ', 'struck as the rotten tomato ', 'as the rotten tomato fell from ', 'fell from his perch upon his ', 'his perch upon his ivory ', 'ivory tower. - asf-\\n', 'tower. - asf-\\n']\n"
     ]
    }
   ],
   "source": [
    "from itertools import zip_longest\n",
    "def split_text_into_lines_of_length_and_create_overlapping_lines_of_text(text_to_split, max_line_length, line_overlap_length):\n",
    "    \"\"\"\n",
    "    Main function to split the text into lines that don't exceed the max_line_length.\n",
    "    Then overlapping lines are created so that part of the previous line is included\n",
    "    e.g.\n",
    "    The brown fox jumped over the \n",
    "    jumped over the blue moon on \n",
    "    blue moon on its way to the\n",
    "    its way to the fairy store. \n",
    "    fairy store. The blue cow ran\n",
    "    The blue cow ran into a car\n",
    "    \"\"\"\n",
    "    lines = split_text_into_lines_of_length(text_to_split, max_line_length)\n",
    "    overlapping_lines = create_overlapping_lines(text_to_split, line_overlap_length, max_line_length)\n",
    "    print(f\"lines: {len(lines)} overlapping: {len(overlapping_lines)}\")\n",
    "    merged_lines = [item for pair in zip_longest(lines, overlapping_lines, fillvalue=None) for item in pair if item is not None]\n",
    "    # zipped = zip_longest(lines, overlapping_lines, fillvalue=None)\n",
    "    # merged_lines = []\n",
    "    # for pair in zipped:\n",
    "    #     for item in pair:\n",
    "    #         if item is not None:\n",
    "    #             merged_lines.append(item)\n",
    "    return merged_lines\n",
    "\n",
    "lines_and_overlapping_lines = split_text_into_lines_of_length_and_create_overlapping_lines_of_text(text_to_split, max_line_length, line_overlap_length)\n",
    "print(lines_and_overlapping_lines)"
   ],
   "metadata": {
    "collapsed": false,
    "ExecuteTime": {
     "end_time": "2024-02-18T20:46:01.464280Z",
     "start_time": "2024-02-18T20:46:01.461837Z"
    }
   },
   "id": "60242777670a1229",
   "execution_count": 93
  },
  {
   "cell_type": "code",
   "outputs": [
    {
     "data": {
      "text/plain": "'\\nThe brown fox jumped over the blue moon on its way to the fairy store. \\nThe blue cow ran into a car as it was preparing for its interview at Mattel. \\nA yellow banana sang songs of worship to the golden armpit floating in the sky. \\nDisaster struck as the rotten tomato fell from his perch upon his ivory tower. - asf-\\n'"
     },
     "execution_count": 100,
     "metadata": {},
     "output_type": "execute_result"
    }
   ],
   "source": [
    "def recombine_text(lines_and_overlapping_lines):\n",
    "    \"\"\"\n",
    "    After we find multiple results in the db, we will want to recombine them together into a single piece of text that does not contain overlap.\n",
    "    \"\"\"\n",
    "    def find_overlap(s1, s2):\n",
    "        \"\"\"Find the length of the longest suffix of s1 that is a prefix of s2.\"\"\"\n",
    "        for i in range(min(len(s1), len(s2)), 0, -1):\n",
    "            if s1.endswith(s2[:i]):\n",
    "                return i\n",
    "        return 0\n",
    "\n",
    "    result = \"\"\n",
    "    for s in lines_and_overlapping_lines:\n",
    "        overlap_len = find_overlap(result, s)\n",
    "        result += s[overlap_len:]\n",
    "    \n",
    "    return result\n",
    "\n",
    "recombine_text(lines_and_overlapping_lines)"
   ],
   "metadata": {
    "collapsed": false,
    "ExecuteTime": {
     "end_time": "2024-02-18T21:17:54.219986Z",
     "start_time": "2024-02-18T21:17:54.217873Z"
    }
   },
   "id": "c97d61b5eb2fc440",
   "execution_count": 100
  },
  {
   "cell_type": "code",
   "outputs": [],
   "source": [],
   "metadata": {
    "collapsed": false
   },
   "id": "c28763e7319dc6c3"
  }
 ],
 "metadata": {
  "kernelspec": {
   "display_name": "Python 3",
   "language": "python",
   "name": "python3"
  },
  "language_info": {
   "codemirror_mode": {
    "name": "ipython",
    "version": 2
   },
   "file_extension": ".py",
   "mimetype": "text/x-python",
   "name": "python",
   "nbconvert_exporter": "python",
   "pygments_lexer": "ipython2",
   "version": "2.7.6"
  }
 },
 "nbformat": 4,
 "nbformat_minor": 5
}

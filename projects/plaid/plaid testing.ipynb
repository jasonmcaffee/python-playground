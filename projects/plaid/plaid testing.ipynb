{
 "cells": [
  {
   "cell_type": "code",
   "execution_count": 16,
   "id": "initial_id",
   "metadata": {
    "collapsed": true,
    "ExecuteTime": {
     "end_time": "2024-01-17T22:33:29.423507Z",
     "start_time": "2024-01-17T22:33:29.391222Z"
    }
   },
   "outputs": [],
   "source": [
    "import plaid\n",
    "from plaid.api import plaid_api\n",
    "config = {\n",
    "    \"base_url\": \"https://sandbox.plaid.com\", \n",
    "    \"client_id\": \"617975b96aaa7c0011b0a846\",\n",
    "    \"secret\": \"9cd3e5bd00e10c3a723f85c90d2f95\"\n",
    "}\n",
    "\n",
    "configuration = plaid.Configuration(\n",
    "    host = config[\"base_url\"],\n",
    "    api_key={\n",
    "        \"clientId\": config[\"client_id\"],\n",
    "        \"secret\": config[\"secret\"]\n",
    "    }\n",
    ")\n",
    "\n",
    "api_client = plaid.ApiClient(configuration)\n",
    "plaid_client = plaid_api.PlaidApi(api_client)\n"
   ]
  },
  {
   "cell_type": "code",
   "execution_count": 18,
   "outputs": [
    {
     "name": "stdout",
     "output_type": "stream",
     "text": [
      "828\n"
     ]
    }
   ],
   "source": [
    "import pandas as pd \n",
    "df = pd.read_csv(\"akoya institution list.csv\")\n",
    "akoya_provider_names = []\n",
    "for index, row in df.iterrows():\n",
    "    akoya_provider_names.append(row['provider_name'])\n",
    "    \n",
    "print(len(akoya_provider_names))    "
   ],
   "metadata": {
    "collapsed": false,
    "ExecuteTime": {
     "end_time": "2024-01-17T22:42:24.574558Z",
     "start_time": "2024-01-17T22:42:14.620890Z"
    }
   },
   "id": "624a6cf5b30d2012"
  },
  {
   "cell_type": "code",
   "execution_count": 22,
   "outputs": [
    {
     "name": "stdout",
     "output_type": "stream",
     "text": [
      "No institution ids found for: PNC Bank\n",
      "No institution ids found for: Caye International Bank\n",
      "No institution ids found for: Central Coast Federal Credit Union\n",
      "No institution ids found for: First Heritage FCU\n",
      "No institution ids found for: First Bank & Trust- BANKeasy\n",
      "No institution ids found for: CUSB Bank\n",
      "No institution ids found for: Fidelity Investments\n",
      "No institution ids found for: Commercial Bank TN\n",
      "No institution ids found for: Signet FCU\n",
      "No institution ids found for: Brooklyn Coop FCU\n",
      "No institution ids found for: CBI Family of Banks\n",
      "No institution ids found for: TLC Community CU\n",
      "No institution ids found for: CommerceOne Bank\n",
      "No institution ids found for: MembersAlliance Credit Union\n",
      "No institution ids found for: American National Bank & Trust Company\n",
      "No institution ids found for: Profinium Inc\n",
      "No institution ids found for: Bank of Commerce (Rawlins)\n",
      "No institution ids found for: Focus FCU\n",
      "No institution ids found for: O'Bannon Banking Company\n",
      "No institution ids found for: Five Star CU\n",
      "No institution ids found for: California Bear Credit Union\n",
      "No institution ids found for: Cedar Falls Community CU\n",
      "No institution ids found for: Government Employees FCU\n",
      "No institution ids found for: Citizens Bank & Trust (MO)\n",
      "No institution ids found for: Auburn University Credit Union\n",
      "No institution ids found for: SecFed Bank\n",
      "No institution ids found for: AOD FCU\n",
      "No institution ids found for: Citizens Bank & Trust - AR\n",
      "No institution ids found for: CHROME FCU\n",
      "No institution ids found for: OneSouth Bank\n",
      "No institution ids found for: Altana FCU\n",
      "No institution ids found for: Eagle Louisiana FCU\n",
      "No institution ids found for: Commercial Bank & Trust Co\n",
      "No institution ids found for: Duke University FCU\n",
      "No institution ids found for: Changing Seasons Federal Credit Union\n",
      "No institution ids found for: Citizens National Bank of Somerset\n",
      "No institution ids found for: National Bank of Sallisaw\n",
      "No institution ids found for: Cloverbelt Credit Union\n",
      "No institution ids found for: Education First FCU\n",
      "No institution ids found for: CO-OP CU of Montevideo\n",
      "No institution ids found for: First National Bank of Beardstown\n",
      "No institution ids found for: Community First Bank (KS)\n",
      "No institution ids found for: Citizens State Bank & Trust\n",
      "No institution ids found for: Citizens State Bank (IA)\n",
      "No institution ids found for: Cutting Edge Credit Union\n",
      "No institution ids found for: Danville State Savings Bank\n",
      "No institution ids found for: Exchange Bank of NEMO\n",
      "No institution ids found for: Education First CU\n",
      "No institution ids found for: Farmers State Bank of LaGrange\n",
      "No institution ids found for: Chain Bridge Bank N.A.\n",
      "No institution ids found for: First Community Bank (Corpus Christi)\n",
      "No institution ids found for: First State Bank Fountain\n",
      "No institution ids found for: First National Bank of Waynesboro\n",
      "No institution ids found for: The Farmers State Bank (Brush)\n",
      "No institution ids found for: Robertson Banking Company\n",
      "No institution ids found for: First Service FCU\n",
      "No institution ids found for: First State Bank Livingston\n",
      "No institution ids found for: RockPointBank\n",
      "No institution ids found for: FNB Cloverdale\n",
      "No institution ids found for: First National Bank of Sparta\n",
      "No institution ids found for: SUMA Federal Credit Union\n",
      "No institution ids found for: Security Bank Midwest\n",
      "No institution ids found for: SMW 104 Federal Credit Union\n",
      "No institution ids found for: Gather FCU\n",
      "No institution ids found for: Leading Edge Credit Union\n",
      "No institution ids found for: Think Bank\n",
      "No institution ids found for: 1st United CU\n",
      "No institution ids found for: Sea Air FCU\n",
      "No institution ids found for: First National Bank and Trust of Bottineau\n",
      "No institution ids found for: The Citizens Bank Arkansas\n",
      "No institution ids found for: State Bank Spencer\n",
      "No institution ids found for: Centre Bank\n",
      "No institution ids found for: North Carolina Community FCU\n",
      "No institution ids found for: Central National Bank of Poteau\n",
      "No institution ids found for: Peoples State Bank (WI)\n",
      "No institution ids found for: 1st National Bank Henning\n",
      "No institution ids found for: Harrison Building & Loan Association\n",
      "No institution ids found for: Financial Plus Credit Union (IA)\n",
      "No institution ids found for: Pioneer Appalachia Federal Credit Union\n",
      "No institution ids found for: First Community Bank of Tennessee\n",
      "No institution ids found for: First Northern Bank of Wyoming\n",
      "No institution ids found for: First Peoples Bank of Tennessee\n",
      "No institution ids found for: Old Second National Bank\n",
      "No institution ids found for: F&M Bank of Central California\n",
      "No institution ids found for: First National Bank and Trust Company of McAlester\n",
      "No institution ids found for: First State Bank (Winchester)\n",
      "No institution ids found for: Merchants Mortgage & Trust Company\n",
      "No institution ids found for: Mass Bay CU\n",
      "No institution ids found for: Highmark FCU\n",
      "No institution ids found for: FDNB - Loft Advisors\n",
      "No institution ids found for: Henrico FCU\n",
      "No institution ids found for: LimeBank\n",
      "No institution ids found for: Tennessee Members 1st FCU\n",
      "No institution ids found for: First National Bank (Heavener)\n",
      "No institution ids found for: PARDA FCU\n",
      "No institution ids found for: Moultrie Bank & Trust\n",
      "No institution ids found for: Crews Bank & Trust\n",
      "No institution ids found for: Heritage Valley FCU\n",
      "No institution ids found for: Jefferson Parish Employees FCU\n",
      "No institution ids found for: MECE CU\n",
      "No institution ids found for: HomeTown Federal Credit Union\n",
      "No institution ids found for: KEMBA Financial CU\n",
      "No institution ids found for: MA Bank\n",
      "No institution ids found for: MAC FCU\n",
      "No institution ids found for: Modesto's First FCU\n",
      "No institution ids found for: Old West Federal Credit Union\n",
      "No institution ids found for: Mountain CU\n",
      "No institution ids found for: The First National Bank of Louisburg\n",
      "No institution ids found for: Merchants & Planters Bank\n",
      "No institution ids found for: One Source FCU\n",
      "No institution ids found for: Peoples Bank & Trust (MO)\n",
      "No institution ids found for: Peoples State Bank ND\n",
      "No institution ids found for: Glendale FCU\n",
      "No institution ids found for: GNBank\n",
      "No institution ids found for: Landings CU\n",
      "No institution ids found for: NE PA Community FCU\n",
      "No institution ids found for: Israel Discount Bank of New York\n",
      "No institution ids found for: Jersey Shore Federal Credit Union\n",
      "No institution ids found for: Linn-Co FCU\n",
      "No institution ids found for: Old Hickory CU\n",
      "No institution ids found for: Ohio Catholic Federal Credit Union\n",
      "No institution ids found for: Olean Area Federal Credit Union\n",
      "No institution ids found for: Palisades Federal Credit Union\n",
      "No institution ids found for: Peoples Advantage FCU\n",
      "No institution ids found for: Peoples Bank (KS)\n",
      "No institution ids found for: Pinellas FCU\n",
      "No institution ids found for: United Citizens Bank & Trust Co\n",
      "No institution ids found for: Signature FCU\n",
      "No institution ids found for: The First National Bank of Williamson\n",
      "No institution ids found for: Triangle Federal Credit Union\n",
      "No institution ids found for: UniWyo Credit Union\n",
      "No institution ids found for: Ukrainian Selfreliance MI FCU\n",
      "No institution ids found for: WEPCO FCU\n",
      "No institution ids found for: First State Bank and Trust-Bayport MN\n",
      "No institution ids found for: First Southwest Bank CO\n",
      "No institution ids found for: Skowhegan Savings Bank\n",
      "No institution ids found for: Slovenian Savings & Loan\n",
      "No institution ids found for: Trailhead Federal Credit Union\n",
      "No institution ids found for: Univest Bank and Trust Co. Member FDIC\n",
      "No institution ids found for: The First National Bank (Allendale)\n",
      "No institution ids found for: Tru Fi CU\n",
      "No institution ids found for: Truity FCU\n",
      "No institution ids found for: TruStar Federal Credit Union\n",
      "No institution ids found for: United States Senate FCU\n",
      "No institution ids found for: Tulare County FCU\n",
      "No institution ids found for: Universal City Studios CU\n",
      "No institution ids found for: Volunteer Federal Savings Bank\n",
      "No institution ids found for: Success Federal Credit Union\n",
      "No institution ids found for: West Virginia Central FCU\n",
      "No institution ids found for: Southern Michigan Bank & Trust\n",
      "No institution ids found for: Southeastern CU\n",
      "No institution ids found for: Sterling FCU\n",
      "No institution ids found for: HNB National Bank\n",
      "No institution ids found for: United Southeast FCU\n",
      "No institution ids found for: Western Co-Op CU\n",
      "No institution ids found for: Platte Valley Bank - Torrington\n",
      "No institution ids found for: Great Falls Federal Credit Union\n",
      "No institution ids found for: Eastmill Federal Credit Union\n",
      "No institution ids found for: Members Choice CU - KY\n",
      "No institution ids found for: Minnesota Power Employees CU\n",
      "No institution ids found for: Lanco FCU\n",
      "No institution ids found for: Casco Federal Credit Union\n",
      "No institution ids found for: Pan American Bank & Trust\n",
      "No institution ids found for: Texas State Bank (San Angelo)\n",
      "No institution ids found for: WNB Financial N.A.\n",
      "No institution ids found for: Firefighters Community Credit Union\n",
      "No institution ids found for: Sabattus Regional Credit Union\n",
      "No institution ids found for: Mid American CU\n",
      "done\n"
     ]
    }
   ],
   "source": [
    "from plaid.model.institutions_search_request import InstitutionsSearchRequest\n",
    "from plaid.model.country_code import CountryCode\n",
    "\n",
    "all_institution_ids = []\n",
    "\n",
    "for akoya_provider_name in akoya_provider_names:\n",
    "    # print(f\"searching for {akoya_provider_name}\")\n",
    "    request = InstitutionsSearchRequest(query=akoya_provider_name, country_codes=[CountryCode(\"US\")]) #, products=[\"transactions\"]\n",
    "    response = plaid_client.institutions_search(request)\n",
    "    institutions = response[\"institutions\"]\n",
    "    if len(institutions) == 0:\n",
    "        print(f\"No institution ids found for: {akoya_provider_name}\")\n",
    "    for institution in institutions:\n",
    "        all_institution_ids.append(institution[\"institution_id\"])\n",
    "        \n",
    "print(\"done\")        "
   ],
   "metadata": {
    "collapsed": false,
    "ExecuteTime": {
     "end_time": "2024-01-18T21:48:29.694360Z",
     "start_time": "2024-01-18T21:45:37.126762Z"
    }
   },
   "id": "42add77579cea480"
  },
  {
   "cell_type": "code",
   "execution_count": 21,
   "outputs": [
    {
     "name": "stdout",
     "output_type": "stream",
     "text": [
      "['ins_14', 'ins_128026', 'ins_123709', 'ins_127593', 'ins_127991', 'ins_132707', 'ins_122206', 'ins_133458', 'ins_129608', 'ins_111446', 'ins_107713', 'ins_116813', 'ins_111571', 'ins_117708', 'ins_110589', 'ins_56', 'ins_114625', 'ins_115054', 'ins_111037', 'ins_111247', 'ins_111292', 'ins_100939', 'ins_114952', 'ins_5', 'ins_116728', 'ins_111008', 'ins_118618', 'ins_115239', 'ins_126353', 'ins_114852', 'ins_123381', 'ins_131923', 'ins_112264', 'ins_128207', 'ins_133569', 'ins_118504', 'ins_109751', 'ins_122419', 'ins_127989', 'ins_100866', 'ins_119553', 'ins_111266', 'ins_131990', 'ins_126328', 'ins_119459', 'ins_111226', 'ins_120579', 'ins_133560', 'ins_132451', 'ins_133472', 'ins_116552', 'ins_117440', 'ins_117462', 'ins_117436', 'ins_117468', 'ins_116415', 'ins_123735', 'ins_117465', 'ins_117459', 'ins_132707', 'ins_110720', 'ins_109667', 'ins_115537', 'ins_115114', 'ins_115174', 'ins_111208', 'ins_111582', 'ins_111144', 'ins_114082', 'ins_115235', 'ins_115647', 'ins_132427', 'ins_114855', 'ins_111093', 'ins_110784', 'ins_133383', 'ins_123700', 'ins_116809', 'ins_114781', 'ins_126809', 'ins_111677', 'ins_111459', 'ins_111166', 'ins_111271', 'ins_111417', 'ins_117008', 'ins_111587', 'ins_111117', 'ins_116734', 'ins_100484', 'ins_120941', 'ins_119942', 'ins_114044', 'ins_120804', 'ins_127990', 'ins_127948', 'ins_111445', 'ins_111039', 'ins_122529', 'ins_135812', 'ins_116245', 'ins_132929', 'ins_120331', 'ins_128028', 'ins_128030', 'ins_115327', 'ins_134056', 'ins_111499', 'ins_113164', 'ins_127196', 'ins_101987', 'ins_128007', 'ins_132224', 'ins_115197', 'ins_120849', 'ins_129898', 'ins_111145', 'ins_111289', 'ins_114898', 'ins_115441', 'ins_116409', 'ins_111789', 'ins_115378', 'ins_114427', 'ins_134334', 'ins_123309', 'ins_123315', 'ins_111653', 'ins_123316', 'ins_123007', 'ins_111155', 'ins_115544', 'ins_119653', 'ins_133121', 'ins_120569', 'ins_127982', 'ins_133554', 'ins_121235', 'ins_126320', 'ins_132271', 'ins_132110', 'ins_111178', 'ins_114261', 'ins_115440', 'ins_115232', 'ins_115131', 'ins_124775', 'ins_129475', 'ins_109944', 'ins_103163', 'ins_114506', 'ins_113472', 'ins_132437', 'ins_103162', 'ins_114704', 'ins_135894', 'ins_115201', 'ins_116392', 'ins_119641', 'ins_115520', 'ins_111078', 'ins_119492', 'ins_127883', 'ins_111149', 'ins_111507', 'ins_111428', 'ins_129553', 'ins_109839', 'ins_123015', 'ins_113937', 'ins_123389', 'ins_132197', 'ins_111089', 'ins_114966', 'ins_130039', 'ins_110700', 'ins_111036', 'ins_115425', 'ins_106558', 'ins_127992', 'ins_120284', 'ins_114400', 'ins_115407', 'ins_115144', 'ins_119022', 'ins_131028', 'ins_114724', 'ins_115397', 'ins_131029', 'ins_100553', 'ins_120567', 'ins_132729', 'ins_105870', 'ins_115322', 'ins_127178', 'ins_115430', 'ins_111138', 'ins_127945', 'ins_114482', 'ins_115420', 'ins_114141', 'ins_114912', 'ins_111672', 'ins_111096', 'ins_115359', 'ins_111493', 'ins_132265', 'ins_129588', 'ins_125484', 'ins_132360', 'ins_132534', 'ins_109559', 'ins_111626', 'ins_133496', 'ins_114093', 'ins_110470', 'ins_112275', 'ins_125345', 'ins_129892', 'ins_110467', 'ins_117311', 'ins_111011', 'ins_113382', 'ins_113643', 'ins_128687', 'ins_111042', 'ins_114903', 'ins_132359', 'ins_130174', 'ins_114583', 'ins_129292', 'ins_109621', 'ins_119501', 'ins_109561', 'ins_105402', 'ins_109833', 'ins_132641', 'ins_110815', 'ins_114848', 'ins_129892', 'ins_110467', 'ins_117311', 'ins_111011', 'ins_113382', 'ins_113643', 'ins_128687', 'ins_111042', 'ins_114903', 'ins_132359', 'ins_100935', 'ins_101234', 'ins_123357', 'ins_111095', 'ins_111130', 'ins_128859', 'ins_111197', 'ins_125342', 'ins_123020', 'ins_123019', 'ins_111543', 'ins_114785', 'ins_111255', 'ins_113121', 'ins_132925', 'ins_121378', 'ins_115674', 'ins_116430', 'ins_103524', 'ins_100114', 'ins_114272', 'ins_114350', 'ins_129461', 'ins_123154', 'ins_111567', 'ins_111240', 'ins_119410', 'ins_132262', 'ins_123130', 'ins_101863', 'ins_132406', 'ins_123124', 'ins_101864', 'ins_123121', 'ins_130503', 'ins_132148', 'ins_111585', 'ins_123294', 'ins_123296', 'ins_124593', 'ins_111754', 'ins_114120', 'ins_135866', 'ins_115280', 'ins_115428', 'ins_123097', 'ins_115499', 'ins_101791', 'ins_123099', 'ins_112841', 'ins_123098', 'ins_132254', 'ins_131894', 'ins_110019', 'ins_20', 'ins_118580', 'ins_125924', 'ins_120293', 'ins_135866', 'ins_111171', 'ins_127161', 'ins_120575', 'ins_111242', 'ins_111280', 'ins_114897', 'ins_123156', 'ins_113616', 'ins_114850', 'ins_115098', 'ins_132254', 'ins_131894', 'ins_110019', 'ins_20', 'ins_118580', 'ins_125924', 'ins_120293', 'ins_135866', 'ins_111171', 'ins_127161', 'ins_101829', 'ins_123105', 'ins_101828', 'ins_114222', 'ins_111058', 'ins_111176', 'ins_111175', 'ins_124715', 'ins_111615', 'ins_132222', 'ins_107455', 'ins_110686', 'ins_129435', 'ins_113509', 'ins_111354', 'ins_123076', 'ins_123416', 'ins_111118', 'ins_133495', 'ins_101829', 'ins_123105', 'ins_101828', 'ins_114222', 'ins_111058', 'ins_111176', 'ins_111175', 'ins_124715', 'ins_111609', 'ins_127161', 'ins_130972', 'ins_122307', 'ins_115120', 'ins_112204', 'ins_130040', 'ins_125053', 'ins_121230', 'ins_111083', 'ins_100103', 'ins_116225', 'ins_119542', 'ins_109961', 'ins_108953', 'ins_118401', 'ins_108950', 'ins_120341', 'ins_118391', 'ins_109056', 'ins_115471', 'ins_125131', 'ins_113980', 'ins_111188', 'ins_132581', 'ins_118488', 'ins_115419', 'ins_117187', 'ins_128519', 'ins_119410', 'ins_132262', 'ins_123130', 'ins_101863', 'ins_132406', 'ins_123124', 'ins_101864', 'ins_123121', 'ins_130503', 'ins_132148', 'ins_115485', 'ins_119135', 'ins_115522', 'ins_127876', 'ins_113887', 'ins_114925', 'ins_116815', 'ins_121068', 'ins_114745', 'ins_125775', 'ins_128004', 'ins_132079', 'ins_132372', 'ins_123108', 'ins_102151', 'ins_129603', 'ins_113770', 'ins_115141', 'ins_133839', 'ins_132284', 'ins_126229', 'ins_123021', 'ins_133554', 'ins_119410', 'ins_132262', 'ins_123130', 'ins_101863', 'ins_132406', 'ins_123124', 'ins_101864', 'ins_123121', 'ins_130503', 'ins_132148', 'ins_115460', 'ins_111215', 'ins_115037', 'ins_125859', 'ins_127972', 'ins_115378', 'ins_123662', 'ins_114999', 'ins_114337', 'ins_115261', 'ins_111694', 'ins_114966', 'ins_123007', 'ins_123393', 'ins_115485', 'ins_111495', 'ins_123435', 'ins_112838', 'ins_123392', 'ins_120157', 'ins_114807', 'ins_117224', 'ins_129541', 'ins_116719', 'ins_111707', 'ins_111105', 'ins_135849', 'ins_110915', 'ins_111787', 'ins_130358', 'ins_123138', 'ins_111221', 'ins_120569', 'ins_127982', 'ins_133554', 'ins_121235', 'ins_126320', 'ins_132271', 'ins_132110', 'ins_111178', 'ins_114261', 'ins_115440', 'ins_111621', 'ins_115545', 'ins_115348', 'ins_128381', 'ins_111266', 'ins_129312', 'ins_111718', 'ins_132962', 'ins_132218', 'ins_129915', 'ins_111395', 'ins_123186', 'ins_111396', 'ins_123302', 'ins_115353', 'ins_115334', 'ins_132098', 'ins_113721', 'ins_129519', 'ins_128564', 'ins_123114', 'ins_123115', 'ins_111032', 'ins_110439', 'ins_128282', 'ins_118690', 'ins_132098', 'ins_113721', 'ins_129519', 'ins_128564', 'ins_123114', 'ins_123115', 'ins_111032', 'ins_110439', 'ins_128282', 'ins_118690', 'ins_111096', 'ins_111097', 'ins_103819', 'ins_114587', 'ins_114479', 'ins_111678', 'ins_125686', 'ins_101238', 'ins_111173', 'ins_111524', 'ins_114786', 'ins_111269', 'ins_124338', 'ins_111279', 'ins_111322', 'ins_114117', 'ins_114273', 'ins_105984', 'ins_125499', 'ins_109295', 'ins_112720', 'ins_115081', 'ins_133441', 'ins_112083', 'ins_132047', 'ins_129556', 'ins_112861', 'ins_111614', 'ins_130332', 'ins_111154', 'ins_132455', 'ins_115076', 'ins_109663', 'ins_111989', 'ins_127895', 'ins_103543', 'ins_132453', 'ins_114596', 'ins_132968', 'ins_111504', 'ins_130023', 'ins_114161', 'ins_117247', 'ins_111681', 'ins_132150', 'ins_112311', 'ins_133240', 'ins_120564', 'ins_126135', 'ins_113589', 'ins_115532', 'ins_128506', 'ins_126337', 'ins_103472', 'ins_111281', 'ins_111011', 'ins_128687', 'ins_114116', 'ins_115438', 'ins_114080', 'ins_111393', 'ins_115079', 'ins_128938', 'ins_118885', 'ins_132951', 'ins_128141', 'ins_131858', 'ins_110938', 'ins_110685', 'ins_110022', 'ins_117026', 'ins_103290', 'ins_114923', 'ins_123200', 'ins_114853', 'ins_132160', 'ins_111679', 'ins_115008', 'ins_132204', 'ins_129607', 'ins_102874', 'ins_102876', 'ins_112249', 'ins_123223', 'ins_112248', 'ins_115181', 'ins_103403', 'ins_133041', 'ins_132999', 'ins_113534', 'ins_106977', 'ins_129449', 'ins_115716', 'ins_111712', 'ins_115144', 'ins_119022', 'ins_131028', 'ins_114724', 'ins_131029', 'ins_114115', 'ins_111232', 'ins_123165', 'ins_114358', 'ins_115411', 'ins_132155', 'ins_120562', 'ins_112875', 'ins_130596', 'ins_114569', 'ins_131858', 'ins_110938', 'ins_110685', 'ins_110022', 'ins_117026', 'ins_103290', 'ins_114923', 'ins_123200', 'ins_114853', 'ins_132160', 'ins_123237', 'ins_115535', 'ins_111635', 'ins_132024', 'ins_113944', 'ins_111410', 'ins_111425', 'ins_111678', 'ins_111014', 'ins_111252', 'ins_129614', 'ins_113857', 'ins_111252', 'ins_111880', 'ins_132154', 'ins_120362', 'ins_103115', 'ins_110598', 'ins_110768', 'ins_111625', 'ins_111711', 'ins_111055', 'ins_113068', 'ins_111298', 'ins_126559', 'ins_115341', 'ins_111680', 'ins_111716', 'ins_110668', 'ins_115060', 'ins_115233', 'ins_115179', 'ins_115404', 'ins_114819', 'ins_102882', 'ins_109314', 'ins_114945', 'ins_123207', 'ins_132209', 'ins_114051', 'ins_131858', 'ins_110938', 'ins_110685', 'ins_110022', 'ins_117026', 'ins_103290', 'ins_114923', 'ins_123200', 'ins_114853', 'ins_132160', 'ins_120574', 'ins_111975', 'ins_111405', 'ins_111260', 'ins_115209', 'ins_125509', 'ins_115511', 'ins_115157', 'ins_103769', 'ins_111309', 'ins_103771', 'ins_111565', 'ins_111696', 'ins_111467', 'ins_122838', 'ins_115442', 'ins_116776', 'ins_111610', 'ins_114584', 'ins_111056', 'ins_111112', 'ins_113181', 'ins_121760', 'ins_112968', 'ins_114710', 'ins_136314', 'ins_113883', 'ins_111695', 'ins_128635', 'ins_111030', 'ins_111039', 'ins_109853', 'ins_100990', 'ins_133495', 'ins_100880', 'ins_114935', 'ins_111153', 'ins_114189', 'ins_111140', 'ins_126219', 'ins_132368', 'ins_115445', 'ins_111515', 'ins_132194', 'ins_133086', 'ins_123356', 'ins_119135', 'ins_123159', 'ins_111225', 'ins_115402', 'ins_115485', 'ins_115522', 'ins_117325', 'ins_106483', 'ins_132362', 'ins_111375', 'ins_120972', 'ins_102506', 'ins_115333', 'ins_111128', 'ins_127347', 'ins_121260', 'ins_122536', 'ins_115423', 'ins_113118', 'ins_111152', 'ins_111125', 'ins_126854', 'ins_117215', 'ins_111381', 'ins_115463', 'ins_111751', 'ins_132225', 'ins_111299', 'ins_115478', 'ins_108031', 'ins_113395', 'ins_129295', 'ins_111757', 'ins_115365', 'ins_111484', 'ins_131033', 'ins_115240', 'ins_116367', 'ins_110581', 'ins_111639', 'ins_110775', 'ins_123191', 'ins_114115', 'ins_112875', 'ins_132187', 'ins_111232', 'ins_123165', 'ins_115411', 'ins_120562', 'ins_114949', 'ins_130596', 'ins_114569', 'ins_111705', 'ins_111539', 'ins_115091', 'ins_113060', 'ins_126153', 'ins_133494', 'ins_110666', 'ins_109931', 'ins_120711', 'ins_110024', 'ins_123141', 'ins_111135', 'ins_111310', 'ins_111607', 'ins_103894', 'ins_124957', 'ins_115482', 'ins_109599', 'ins_131994', 'ins_123016', 'ins_100687', 'ins_111111', 'ins_112280', 'ins_114915', 'ins_111444', 'ins_110658', 'ins_109591', 'ins_126346', 'ins_111040', 'ins_115450', 'ins_112610', 'ins_131901', 'ins_123203', 'ins_132728', 'ins_126352', 'ins_110024', 'ins_110668', 'ins_115060', 'ins_115233', 'ins_115179', 'ins_115404', 'ins_114819', 'ins_102882', 'ins_109314', 'ins_114945', 'ins_123207', 'ins_129888', 'ins_112898', 'ins_111620', 'ins_110019', 'ins_111248', 'ins_125924', 'ins_115013', 'ins_111304', 'ins_120788', 'ins_102940', 'ins_130978', 'ins_129599', 'ins_132925', 'ins_121378', 'ins_115674', 'ins_129461', 'ins_111177', 'ins_115393', 'ins_126317', 'ins_128634', 'ins_116628', 'ins_111265', 'ins_103700', 'ins_111506', 'ins_114857', 'ins_114784', 'ins_111630', 'ins_115343', 'ins_108097', 'ins_115403', 'ins_112515', 'ins_123116', 'ins_106325', 'ins_111683', 'ins_123333', 'ins_115377', 'ins_132359', 'ins_115432', 'ins_122210', 'ins_111581', 'ins_111632', 'ins_112339', 'ins_123382', 'ins_109650', 'ins_103247', 'ins_132930', 'ins_114998', 'ins_128823', 'ins_128821', 'ins_128509', 'ins_133542', 'ins_111627', 'ins_123205', 'ins_111306', 'ins_111854', 'ins_110928', 'ins_106525', 'ins_111425', 'ins_112502', 'ins_111426', 'ins_106530', 'ins_115370', 'ins_128889', 'ins_133672', 'ins_128060', 'ins_103769', 'ins_111309', 'ins_103771', 'ins_111565', 'ins_114766', 'ins_111223', 'ins_125037', 'ins_114072', 'ins_111649', 'ins_126258', 'ins_119653', 'ins_111334', 'ins_111637', 'ins_111361', 'ins_111342', 'ins_115007', 'ins_115198', 'ins_129447', 'ins_114548', 'ins_114756', 'ins_114044', 'ins_131927', 'ins_112243', 'ins_111643', 'ins_111682', 'ins_111422', 'ins_111212', 'ins_113157', 'ins_117214', 'ins_111511', 'ins_115033', 'ins_111452', 'ins_115347', 'ins_120337', 'ins_115444', 'ins_115073', 'ins_123433', 'ins_110522', 'ins_116422', 'ins_132216', 'ins_114706', 'ins_132217', 'ins_111339', 'ins_128639', 'ins_111566', 'ins_111430', 'ins_111367', 'ins_122568', 'ins_112771', 'ins_113742', 'ins_111377', 'ins_132223', 'ins_114105', 'ins_133521', 'ins_118154', 'ins_117311', 'ins_131925', 'ins_111358', 'ins_111318', 'ins_116720', 'ins_132227', 'ins_112367', 'ins_111326', 'ins_111109', 'ins_111275', 'ins_111356', 'ins_123305', 'ins_111457', 'ins_132963', 'ins_133395', 'ins_115066', 'ins_113106', 'ins_111031', 'ins_111584', 'ins_111429', 'ins_124917', 'ins_111512', 'ins_117183', 'ins_117172', 'ins_116409', 'ins_111789', 'ins_115378', 'ins_114427', 'ins_134334', 'ins_123309', 'ins_123315', 'ins_111653', 'ins_123316', 'ins_123007', 'ins_116438', 'ins_132731', 'ins_121082', 'ins_122745', 'ins_111230', 'ins_120422', 'ins_115339', 'ins_111061', 'ins_107347', 'ins_111744', 'ins_125686', 'ins_115035', 'ins_123283', 'ins_111373', 'ins_115437', 'ins_103841', 'ins_103842', 'ins_115392', 'ins_111314', 'ins_111273', 'ins_113907', 'ins_132030', 'ins_115402', 'ins_121566', 'ins_127823', 'ins_111346', 'ins_115095', 'ins_114317', 'ins_110564', 'ins_114970', 'ins_132454', 'ins_114474', 'ins_129915', 'ins_111395', 'ins_123186', 'ins_111396', 'ins_111388', 'ins_111648', 'ins_132950', 'ins_114290', 'ins_120939', 'ins_116502', 'ins_112702', 'ins_111431', 'ins_129582', 'ins_117218', 'ins_135885', 'ins_113389', 'ins_113724', 'ins_118768', 'ins_104877', 'ins_124292', 'ins_120569', 'ins_114752', 'ins_111362', 'ins_119410', 'ins_132262', 'ins_123130', 'ins_101863', 'ins_132406', 'ins_123124', 'ins_101864', 'ins_123121', 'ins_130503', 'ins_132148', 'ins_111203', 'ins_131927', 'ins_130978', 'ins_129599', 'ins_132925', 'ins_121378', 'ins_115674', 'ins_129461', 'ins_111177', 'ins_115393', 'ins_126317', 'ins_128634', 'ins_109643', 'ins_115644', 'ins_111241', 'ins_111400', 'ins_113182', 'ins_123669', 'ins_115253', 'ins_111404', 'ins_115436', 'ins_111418', 'ins_109887', 'ins_133541', 'ins_115491', 'ins_111586', 'ins_115417', 'ins_115391', 'ins_114932', 'ins_127259', 'ins_103812', 'ins_126291', 'ins_110831', 'ins_114158', 'ins_115509', 'ins_114395', 'ins_111458', 'ins_132189', 'ins_111000', 'ins_111134', 'ins_111474', 'ins_133087', 'ins_111060', 'ins_129601', 'ins_109725', 'ins_111223', 'ins_109731', 'ins_111560', 'ins_122924', 'ins_114263', 'ins_132461', 'ins_117086', 'ins_111637', 'ins_123240', 'ins_115372', 'ins_134596', 'ins_114698', 'ins_111553', 'ins_129564', 'ins_129089', 'ins_115412', 'ins_111494', 'ins_115041', 'ins_111535', 'ins_115335', 'ins_133486', 'ins_111298', 'ins_111264', 'ins_115127', 'ins_126212', 'ins_115571', 'ins_111794', 'ins_102261', 'ins_111774', 'ins_111501', 'ins_102260', 'ins_115340', 'ins_112211', 'ins_114384', 'ins_115116', 'ins_120139', 'ins_111502', 'ins_110560', 'ins_133393', 'ins_126235', 'ins_115076', 'ins_123414', 'ins_110414', 'ins_109774', 'ins_110797', 'ins_133022', 'ins_132093', 'ins_113881', 'ins_111072', 'ins_111552', 'ins_115447', 'ins_132150', 'ins_132257', 'ins_119510', 'ins_112779', 'ins_133625', 'ins_129542', 'ins_129576', 'ins_132710', 'ins_113380', 'ins_113971', 'ins_111686', 'ins_114120', 'ins_135866', 'ins_115280', 'ins_115428', 'ins_123097', 'ins_115499', 'ins_101791', 'ins_123099', 'ins_112841', 'ins_123098', 'ins_115087', 'ins_115019', 'ins_111547', 'ins_115371', 'ins_113398', 'ins_110634', 'ins_133526', 'ins_114420', 'ins_128563', 'ins_110564', 'ins_120576', 'ins_117266', 'ins_111550', 'ins_114451', 'ins_133227', 'ins_132643', 'ins_133120', 'ins_133073', 'ins_115655', 'ins_132088', 'ins_117004', 'ins_115017', 'ins_115351', 'ins_31', 'ins_122924', 'ins_114263', 'ins_118119', 'ins_109768', 'ins_108585', 'ins_114074', 'ins_114518', 'ins_128508', 'ins_118485', 'ins_111668', 'ins_31', 'ins_122924', 'ins_114263', 'ins_118119', 'ins_109768', 'ins_111529', 'ins_114518', 'ins_128508', 'ins_118485', 'ins_108582', 'ins_110396', 'ins_111560', 'ins_114283', 'ins_111574', 'ins_111516', 'ins_108247', 'ins_103549', 'ins_118124', 'ins_113707', 'ins_111533', 'ins_114192', 'ins_115396', 'ins_113020', 'ins_117198', 'ins_114551', 'ins_122898', 'ins_132226', 'ins_111548', 'ins_111298', 'ins_117133', 'ins_113712', 'ins_111556', 'ins_126397', 'ins_123416', 'ins_126559', 'ins_111606', 'ins_131085', 'ins_123418', 'ins_128361', 'ins_107415', 'ins_111469', 'ins_128302', 'ins_111731', 'ins_111487', 'ins_111520', 'ins_111033', 'ins_120353', 'ins_111736', 'ins_130978', 'ins_129599', 'ins_132925', 'ins_121378', 'ins_115674', 'ins_115393', 'ins_126317', 'ins_128634', 'ins_110569', 'ins_111271', 'ins_127992', 'ins_120284', 'ins_114400', 'ins_115407', 'ins_115144', 'ins_119022', 'ins_131028', 'ins_114724', 'ins_115397', 'ins_131029', 'ins_120019', 'ins_115486', 'ins_114461', 'ins_123238', 'ins_111062', 'ins_111521', 'ins_115424', 'ins_123455', 'ins_133158', 'ins_113563', 'ins_133572', 'ins_120162', 'ins_110707', 'ins_115569', 'ins_114352', 'ins_114795', 'ins_132275', 'ins_111801', 'ins_111564', 'ins_115261', 'ins_128238', 'ins_131862', 'ins_113806', 'ins_109701', 'ins_109535', 'ins_111573', 'ins_131989', 'ins_115686', 'ins_15', 'ins_36', 'ins_111436', 'ins_129553', 'ins_109839', 'ins_123015', 'ins_113937', 'ins_123389', 'ins_132197', 'ins_111089', 'ins_114966', 'ins_130039', 'ins_110700', 'ins_111597', 'ins_114583', 'ins_129292', 'ins_109621', 'ins_119501', 'ins_109561', 'ins_105402', 'ins_109833', 'ins_132641', 'ins_110815', 'ins_114848', 'ins_111758', 'ins_123011', 'ins_111201', 'ins_114626', 'ins_111948', 'ins_115149', 'ins_115064', 'ins_114417', 'ins_114078', 'ins_113093', 'ins_111123', 'ins_111234', 'ins_110417', 'ins_113958', 'ins_115480', 'ins_123033', 'ins_110700', 'ins_131026', 'ins_113173', 'ins_132182', 'ins_111119', 'ins_112864', 'ins_135894', 'ins_135875', 'ins_131858', 'ins_110938', 'ins_110685', 'ins_110022', 'ins_117026', 'ins_103290', 'ins_114923', 'ins_123200', 'ins_114853', 'ins_132160', 'ins_111277', 'ins_132150', 'ins_112311', 'ins_133240', 'ins_120564', 'ins_126135', 'ins_113589', 'ins_115532', 'ins_128506', 'ins_126337', 'ins_103472', 'ins_111423', 'ins_115488', 'ins_111324', 'ins_115459', 'ins_111359', 'ins_123144', 'ins_111430', 'ins_116409', 'ins_111789', 'ins_115378', 'ins_114427', 'ins_134334', 'ins_123309', 'ins_123315', 'ins_111653', 'ins_123316', 'ins_123007', 'ins_131030', 'ins_124295', 'ins_111340', 'ins_127920', 'ins_136120', 'ins_113415', 'ins_111726', 'ins_127921', 'ins_127289', 'ins_129565', 'ins_130038', 'ins_115070', 'ins_133645', 'ins_133661', 'ins_116409', 'ins_111789', 'ins_115378', 'ins_114427', 'ins_134334', 'ins_123309', 'ins_123315', 'ins_111653', 'ins_123316', 'ins_123007', 'ins_121819', 'ins_111171', 'ins_115141', 'ins_115405', 'ins_130978', 'ins_129599', 'ins_132925', 'ins_121378', 'ins_115674', 'ins_129461', 'ins_111177', 'ins_115393', 'ins_126317', 'ins_128634', 'ins_111562', 'ins_115357', 'ins_135919', 'ins_111732', 'ins_129892', 'ins_110467', 'ins_117311', 'ins_111011', 'ins_113382', 'ins_113643', 'ins_128687', 'ins_111042', 'ins_132359', 'ins_132650', 'ins_110566', 'ins_115379', 'ins_128889', 'ins_123337', 'ins_110921', 'ins_123339', 'ins_121500', 'ins_106441', 'ins_113873', 'ins_119531', 'ins_111011', 'ins_128687', 'ins_114116', 'ins_110666', 'ins_132253', 'ins_129428', 'ins_107817', 'ins_112801', 'ins_113117', 'ins_131858', 'ins_110938', 'ins_110685', 'ins_110022', 'ins_117026', 'ins_103290', 'ins_114923', 'ins_123200', 'ins_114853', 'ins_132160', 'ins_111158', 'ins_111391', 'ins_111517', 'ins_111216', 'ins_126350', 'ins_114288', 'ins_115475', 'ins_115375', 'ins_120459', 'ins_124730', 'ins_115469', 'ins_111062', 'ins_117161', 'ins_115182', 'ins_115461', 'ins_111908', 'ins_135922', 'ins_135886', 'ins_115466', 'ins_116627', 'ins_111659', 'ins_111603', 'ins_111103', 'ins_107503', 'ins_111099', 'ins_128393', 'ins_108390', 'ins_118835', 'ins_114413', 'ins_114865', 'ins_112760', 'ins_111814', 'ins_114182', 'ins_120332', 'ins_114387', 'ins_111579', 'ins_112272', 'ins_115313', 'ins_110668', 'ins_115060', 'ins_115233', 'ins_115179', 'ins_115404', 'ins_114819', 'ins_102882', 'ins_109314', 'ins_114945', 'ins_123207', 'ins_123185', 'ins_111661']\n"
     ]
    }
   ],
   "source": [
    "print(all_institution_ids)"
   ],
   "metadata": {
    "collapsed": false,
    "ExecuteTime": {
     "end_time": "2024-01-17T22:54:26.786850Z",
     "start_time": "2024-01-17T22:54:26.772991Z"
    }
   },
   "id": "6dd3777d8fb4cefb"
  },
  {
   "cell_type": "code",
   "execution_count": null,
   "outputs": [],
   "source": [],
   "metadata": {
    "collapsed": false
   },
   "id": "766605af96e3ca5c"
  }
 ],
 "metadata": {
  "kernelspec": {
   "display_name": "Python 3",
   "language": "python",
   "name": "python3"
  },
  "language_info": {
   "codemirror_mode": {
    "name": "ipython",
    "version": 2
   },
   "file_extension": ".py",
   "mimetype": "text/x-python",
   "name": "python",
   "nbconvert_exporter": "python",
   "pygments_lexer": "ipython2",
   "version": "2.7.6"
  }
 },
 "nbformat": 4,
 "nbformat_minor": 5
}

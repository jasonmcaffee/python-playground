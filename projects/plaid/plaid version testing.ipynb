{
 "cells": [
  {
   "cell_type": "code",
   "execution_count": 1,
   "id": "initial_id",
   "metadata": {
    "collapsed": true,
    "ExecuteTime": {
     "end_time": "2024-03-19T12:58:40.539309Z",
     "start_time": "2024-03-19T12:58:40.428111Z"
    }
   },
   "outputs": [
    {
     "name": "stderr",
     "output_type": "stream",
     "text": [
      "/Users/jmcaffee/git/python-playground-v2/venv/lib/python3.9/site-packages/urllib3/__init__.py:35: NotOpenSSLWarning: urllib3 v2 only supports OpenSSL 1.1.1+, currently the 'ssl' module is compiled with 'LibreSSL 2.8.3'. See: https://github.com/urllib3/urllib3/issues/3020\n",
      "  warnings.warn(\n"
     ]
    }
   ],
   "source": [
    "import plaid\n",
    "from plaid.api import plaid_api\n",
    "config = {\n",
    "    \"base_url\": \"https://sandbox.plaid.com\", \n",
    "    \"client_id\": \"617975b96aaa7c0011b0a846\",\n",
    "    \"secret\": \"9cd3e5bd00e10c3a723f85c90d2f95\"\n",
    "}\n",
    "\n",
    "configuration = plaid.Configuration(\n",
    "    host = config[\"base_url\"],\n",
    "    api_key={\n",
    "        \"clientId\": config[\"client_id\"],\n",
    "        \"secret\": config[\"secret\"]\n",
    "    }\n",
    ")\n",
    "\n",
    "api_client = plaid.ApiClient(configuration)\n",
    "plaid_client = plaid_api.PlaidApi(api_client)\n"
   ]
  },
  {
   "cell_type": "code",
   "outputs": [],
   "source": [],
   "metadata": {
    "collapsed": false
   },
   "id": "61c8903a29629d81"
  }
 ],
 "metadata": {
  "kernelspec": {
   "display_name": "Python 3",
   "language": "python",
   "name": "python3"
  },
  "language_info": {
   "codemirror_mode": {
    "name": "ipython",
    "version": 2
   },
   "file_extension": ".py",
   "mimetype": "text/x-python",
   "name": "python",
   "nbconvert_exporter": "python",
   "pygments_lexer": "ipython2",
   "version": "2.7.6"
  }
 },
 "nbformat": 4,
 "nbformat_minor": 5
}

{
 "cells": [
  {
   "cell_type": "markdown",
   "source": [
    "Demonstration of an Agent which is capable of coordinating function calls initiated by ChatGPT, and associated message history.\n",
    "https://github.com/openai/openai-cookbook/blob/main/examples/How_to_call_functions_for_knowledge_retrieval.ipynb"
   ],
   "metadata": {
    "collapsed": false
   }
  },
  {
   "cell_type": "code",
   "execution_count": 5,
   "outputs": [
    {
     "name": "stdout",
     "output_type": "stream",
     "text": [
      "The autoreload extension is already loaded. To reload it, use:\n",
      "  %reload_ext autoreload\n"
     ]
    }
   ],
   "source": [
    "import openai\n",
    "from projects.chatgpt.agents.LLMFunctionsAgent import LLMFunctionsAgent\n",
    "\n",
    "# configure the client's secret key\n",
    "with open('secret-key.txt', 'r') as file:\n",
    "    secret_key = file.read().strip()\n",
    "openai.api_key = secret_key\n",
    "\n",
    "# automatically reload changes to imports\n",
    "%load_ext autoreload\n",
    "%autoreload"
   ],
   "metadata": {
    "collapsed": false,
    "pycharm": {
     "name": "#%%\n"
    },
    "ExecuteTime": {
     "end_time": "2023-12-01T20:51:27.023999Z",
     "start_time": "2023-12-01T20:51:26.970616Z"
    }
   }
  },
  {
   "cell_type": "code",
   "execution_count": 36,
   "outputs": [
    {
     "name": "stdout",
     "output_type": "stream",
     "text": [
      "init\n"
     ]
    }
   ],
   "source": [
    "%autoreload\n",
    "\n",
    "llm_functions_agent = LLMFunctionsAgent(openai=openai)\n",
    "\n",
    "def inference(question):\n",
    "    llm_functions_agent.inference(question)\n"
   ],
   "metadata": {
    "collapsed": false,
    "pycharm": {
     "name": "#%%\n"
    },
    "ExecuteTime": {
     "end_time": "2023-12-02T16:29:16.979200Z",
     "start_time": "2023-12-02T16:29:16.772666Z"
    }
   }
  },
  {
   "cell_type": "code",
   "execution_count": 37,
   "outputs": [
    {
     "name": "stdout",
     "output_type": "stream",
     "text": [
      "inference called\n",
      "sending messages: [{'role': 'system', 'content': 'You are a helpful assistant that answers questions accurately, without making up facts.'}, {'role': 'user', 'content': 'Who is user Jason McAffee?'}]\n",
      "response from chatgpt:\n",
      "{\n",
      "  \"id\": \"chatcmpl-8RN9jnP50sewudPizHt8rlniCvFWH\",\n",
      "  \"object\": \"chat.completion\",\n",
      "  \"created\": 1701534559,\n",
      "  \"model\": \"gpt-3.5-turbo-0613\",\n",
      "  \"choices\": [\n",
      "    {\n",
      "      \"index\": 0,\n",
      "      \"message\": {\n",
      "        \"role\": \"assistant\",\n",
      "        \"content\": null,\n",
      "        \"tool_calls\": [\n",
      "          {\n",
      "            \"id\": \"call_GgwmEBKfbPwAmnZMq1DefbAS\",\n",
      "            \"type\": \"function\",\n",
      "            \"function\": {\n",
      "              \"name\": \"get_user_details\",\n",
      "              \"arguments\": \"{\\n  \\\"first_name\\\": \\\"Jason\\\",\\n  \\\"last_name\\\": \\\"McAffee\\\"\\n}\"\n",
      "            }\n",
      "          }\n",
      "        ]\n",
      "      },\n",
      "      \"finish_reason\": \"tool_calls\"\n",
      "    }\n",
      "  ],\n",
      "  \"usage\": {\n",
      "    \"prompt_tokens\": 122,\n",
      "    \"completion_tokens\": 27,\n",
      "    \"total_tokens\": 149\n",
      "  },\n",
      "  \"system_fingerprint\": null\n",
      "}\n",
      "get_user_details function called with arguments first_name: Jason, last_name: McAffee\n",
      "get_user_details is returning: {\"age\": 44, \"location\": {\"state\": \"Utah\"}, \"profession\": \"Software Engineer\"}\n",
      "recursively calling inference to pass back the results of the functions called\n",
      "inference called\n",
      "sending messages: [{'role': 'system', 'content': 'You are a helpful assistant that answers questions accurately, without making up facts.'}, {'role': 'user', 'content': 'Who is user Jason McAffee?'}, {'role': 'assistant', 'tool_calls': [<OpenAIObject id=call_GgwmEBKfbPwAmnZMq1DefbAS at 0x7ff670773ef0> JSON: {\n",
      "  \"id\": \"call_GgwmEBKfbPwAmnZMq1DefbAS\",\n",
      "  \"type\": \"function\",\n",
      "  \"function\": {\n",
      "    \"name\": \"get_user_details\",\n",
      "    \"arguments\": \"{\\n  \\\"first_name\\\": \\\"Jason\\\",\\n  \\\"last_name\\\": \\\"McAffee\\\"\\n}\"\n",
      "  }\n",
      "}]}, {'role': 'tool', 'content': '{\"age\": 44, \"location\": {\"state\": \"Utah\"}, \"profession\": \"Software Engineer\"}', 'tool_call_id': 'call_GgwmEBKfbPwAmnZMq1DefbAS', 'name': 'get_user_details'}]\n",
      "response from chatgpt:\n",
      "{\n",
      "  \"id\": \"chatcmpl-8RN9mhr9oierbIg7HtZiyZhjJu9Vs\",\n",
      "  \"object\": \"chat.completion\",\n",
      "  \"created\": 1701534562,\n",
      "  \"model\": \"gpt-3.5-turbo-0613\",\n",
      "  \"choices\": [\n",
      "    {\n",
      "      \"index\": 0,\n",
      "      \"message\": {\n",
      "        \"role\": \"assistant\",\n",
      "        \"content\": \"User Jason McAffee is a 44-year-old Software Engineer from Utah.\"\n",
      "      },\n",
      "      \"finish_reason\": \"stop\"\n",
      "    }\n",
      "  ],\n",
      "  \"usage\": {\n",
      "    \"prompt_tokens\": 181,\n",
      "    \"completion_tokens\": 17,\n",
      "    \"total_tokens\": 198\n",
      "  },\n",
      "  \"system_fingerprint\": null\n",
      "}\n",
      "chatgpt response: \n",
      " User Jason McAffee is a 44-year-old Software Engineer from Utah.\n",
      "answer received in 4.497463703155518 seconds.\n"
     ]
    }
   ],
   "source": [
    "%autoreload\n",
    "\n",
    "inference(\"\"\"\n",
    "Who is user Jason McAffee?\n",
    "\"\"\".strip())"
   ],
   "metadata": {
    "collapsed": false,
    "pycharm": {
     "name": "#%%\n"
    },
    "ExecuteTime": {
     "end_time": "2023-12-02T16:29:23.253396Z",
     "start_time": "2023-12-02T16:29:18.736511Z"
    }
   }
  },
  {
   "cell_type": "code",
   "execution_count": 15,
   "outputs": [],
   "source": [],
   "metadata": {
    "collapsed": false,
    "ExecuteTime": {
     "end_time": "2023-11-26T23:11:43.055813Z",
     "start_time": "2023-11-26T23:11:43.025589Z"
    }
   }
  },
  {
   "cell_type": "code",
   "execution_count": null,
   "outputs": [],
   "source": [],
   "metadata": {
    "collapsed": false
   }
  }
 ],
 "metadata": {
  "kernelspec": {
   "display_name": "Python 3",
   "language": "python",
   "name": "python3"
  },
  "language_info": {
   "codemirror_mode": {
    "name": "ipython",
    "version": 2
   },
   "file_extension": ".py",
   "mimetype": "text/x-python",
   "name": "python",
   "nbconvert_exporter": "python",
   "pygments_lexer": "ipython2",
   "version": "2.7.6"
  }
 },
 "nbformat": 4,
 "nbformat_minor": 0
}

{
 "cells": [
  {
   "cell_type": "markdown",
   "source": [
    "Demonstration of an Agent which is capable of coordinating function calls initiated by ChatGPT, and associated message history.\n",
    "https://github.com/openai/openai-cookbook/blob/main/examples/How_to_call_functions_for_knowledge_retrieval.ipynb"
   ],
   "metadata": {
    "collapsed": false
   }
  },
  {
   "cell_type": "code",
   "execution_count": 1,
   "outputs": [],
   "source": [
    "import openai\n",
    "from projects.chatgpt.agents.LLMFunctionsAgent import LLMFunctionsAgent\n",
    "\n",
    "# configure the client's secret key\n",
    "with open('secret-key.txt', 'r') as file:\n",
    "    secret_key = file.read().strip()\n",
    "openai.api_key = secret_key\n",
    "\n",
    "# automatically reload changes to imports\n",
    "%load_ext autoreload\n",
    "%autoreload"
   ],
   "metadata": {
    "collapsed": false,
    "pycharm": {
     "name": "#%%\n"
    },
    "ExecuteTime": {
     "end_time": "2023-12-03T04:23:55.698446Z",
     "start_time": "2023-12-03T04:23:55.489371Z"
    }
   }
  },
  {
   "cell_type": "code",
   "execution_count": 1,
   "outputs": [
    {
     "name": "stderr",
     "output_type": "stream",
     "text": [
      "UsageError: Line magic function `%autoreload` not found.\n"
     ]
    }
   ],
   "source": [
    "%autoreload\n",
    "\n",
    "llm_functions_agent = LLMFunctionsAgent(openai=openai)\n",
    "\n",
    "def inference(question):\n",
    "    llm_functions_agent.inference(question)\n"
   ],
   "metadata": {
    "collapsed": false,
    "pycharm": {
     "name": "#%%\n"
    },
    "ExecuteTime": {
     "end_time": "2023-12-03T04:16:49.408002Z",
     "start_time": "2023-12-03T04:16:49.395368Z"
    }
   }
  },
  {
   "cell_type": "code",
   "execution_count": 3,
   "outputs": [
    {
     "name": "stdout",
     "output_type": "stream",
     "text": [
      "calling function: get_user_details\n",
      "get_user_details function called with arguments first_name: Jason, last_name: McAffee\n",
      "get_user_details is returning: {\"age\": 44, \"location\": {\"state\": \"Utah\"}, \"profession\": \"Software Engineer\"}\n",
      "chatgpt response: \n",
      " Jason McAffee is a 44-year-old software engineer from Utah.\n",
      "answer received in 4.8532068729400635 seconds.\n"
     ]
    }
   ],
   "source": [
    "%autoreload\n",
    "\n",
    "inference(\"\"\"\n",
    "Who is Jason McAffee?\n",
    "\"\"\".strip())"
   ],
   "metadata": {
    "collapsed": false,
    "pycharm": {
     "name": "#%%\n"
    },
    "ExecuteTime": {
     "end_time": "2023-12-03T04:14:05.984774Z",
     "start_time": "2023-12-03T04:14:01.110522Z"
    }
   }
  },
  {
   "cell_type": "code",
   "execution_count": 2,
   "outputs": [
    {
     "name": "stdout",
     "output_type": "stream",
     "text": [
      "init\n",
      "\n",
      "---- found function with tool_data: find_financial_transactions\n",
      "---- found function with tool_data: get_user_details\n",
      "------- inference ------------\n",
      "sending messages: [{'role': 'system', 'content': 'You are a helpful assistant that answers questions accurately, without making up facts.'}, {'role': 'user', 'content': 'How much did I spend between 3/10/23 and and 3/20/23?'}]\n",
      "does_function exist: find_financial_transactions is True\n",
      "calling function: find_financial_transactions\n",
      "calling function find_financial_transactions\n",
      "get_transactions_for_date_range function called with arguments {'start_date_iso': '2023-03-10', 'end_date_iso': '2023-03-20'}\n",
      "\n",
      "\n",
      "\n",
      "function result: [{\"amount\": 123.05, \"description\": \"\", \"date\": \"2023-03-15T10:12:45.12\", \"category\": \"Groceries\", \"merchant_name\": \"Walmart\"}, {\"amount\": 53.12, \"description\": \"\", \"date\": \"2023-03-14T11:34:33.16\", \"category\": \"Gas\", \"merchant_name\": \"Chevron\"}, {\"amount\": 433.0, \"description\": \"\", \"date\": \"2023-03-13T11:22:45.07\", \"category\": \"Shopping\", \"merchant_name\": \"Amazon\"}]\n",
      "------- inference ------------\n",
      "sending messages: [{'role': 'system', 'content': 'You are a helpful assistant that answers questions accurately, without making up facts.'}, {'role': 'user', 'content': 'How much did I spend between 3/10/23 and and 3/20/23?'}, {'role': 'assistant', 'tool_calls': [<OpenAIObject id=call_C1v1VDCjqGrw3qoen6ZHNyIf at 0x7fc3c05d9900> JSON: {\n",
      "  \"id\": \"call_C1v1VDCjqGrw3qoen6ZHNyIf\",\n",
      "  \"type\": \"function\",\n",
      "  \"function\": {\n",
      "    \"name\": \"find_financial_transactions\",\n",
      "    \"arguments\": \"{\\n  \\\"start_date_iso\\\": \\\"2023-03-10\\\",\\n  \\\"end_date_iso\\\": \\\"2023-03-20\\\"\\n}\"\n",
      "  }\n",
      "}]}, {'role': 'tool', 'content': '[{\"amount\": 123.05, \"description\": \"\", \"date\": \"2023-03-15T10:12:45.12\", \"category\": \"Groceries\", \"merchant_name\": \"Walmart\"}, {\"amount\": 53.12, \"description\": \"\", \"date\": \"2023-03-14T11:34:33.16\", \"category\": \"Gas\", \"merchant_name\": \"Chevron\"}, {\"amount\": 433.0, \"description\": \"\", \"date\": \"2023-03-13T11:22:45.07\", \"category\": \"Shopping\", \"merchant_name\": \"Amazon\"}]', 'tool_call_id': 'call_C1v1VDCjqGrw3qoen6ZHNyIf', 'name': 'find_financial_transactions'}]\n",
      "chatgpt response: \n",
      " Between 3/10/23 and 3/20/23, you spent a total of $609.17. Here are the transactions:\n",
      "\n",
      "1. Walmart - $123.05 (Groceries) on 3/15/23\n",
      "2. Chevron - $53.12 (Gas) on 3/14/23\n",
      "3. Amazon - $433.00 (Shopping) on 3/13/23\n",
      "answer received in 9.309298992156982 seconds.\n"
     ]
    }
   ],
   "source": [
    "%autoreload\n",
    "\n",
    "llm_functions_agent = LLMFunctionsAgent(openai=openai)\n",
    "\n",
    "def inference(question):\n",
    "    llm_functions_agent.inference(question)\n",
    "    \n",
    "inference(\"\"\"\n",
    "How much did I spend between 3/10/23 and and 3/20/23?\n",
    "\"\"\".strip())"
   ],
   "metadata": {
    "collapsed": false,
    "ExecuteTime": {
     "end_time": "2023-12-03T04:24:07.892773Z",
     "start_time": "2023-12-03T04:23:58.240919Z"
    }
   }
  },
  {
   "cell_type": "code",
   "execution_count": 8,
   "outputs": [],
   "source": [],
   "metadata": {
    "collapsed": false,
    "ExecuteTime": {
     "end_time": "2023-12-03T04:16:16.208371Z",
     "start_time": "2023-12-03T04:16:16.204680Z"
    }
   }
  }
 ],
 "metadata": {
  "kernelspec": {
   "display_name": "Python 3",
   "language": "python",
   "name": "python3"
  },
  "language_info": {
   "codemirror_mode": {
    "name": "ipython",
    "version": 2
   },
   "file_extension": ".py",
   "mimetype": "text/x-python",
   "name": "python",
   "nbconvert_exporter": "python",
   "pygments_lexer": "ipython2",
   "version": "2.7.6"
  }
 },
 "nbformat": 4,
 "nbformat_minor": 0
}

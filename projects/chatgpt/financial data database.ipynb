{
 "cells": [
  {
   "cell_type": "code",
   "execution_count": 8,
   "id": "initial_id",
   "metadata": {
    "collapsed": true,
    "ExecuteTime": {
     "end_time": "2023-12-09T23:04:35.911078Z",
     "start_time": "2023-12-09T23:04:35.897438Z"
    }
   },
   "outputs": [],
   "source": [
    "import psycopg2\n",
    "import csv\n",
    "import io\n",
    "import hashlib"
   ]
  },
  {
   "cell_type": "code",
   "execution_count": 6,
   "outputs": [],
   "source": [
    "# Connection parameters - replace these with your database credentials\n",
    "conn_params = {\n",
    "    'dbname': 'postgres',\n",
    "    'user': 'postgres',\n",
    "    'password': 'postgrespw',\n",
    "    'host': 'localhost',\n",
    "    'port': '55000',\n",
    "    'options': '-c search_path=financial_data',\n",
    "}\n",
    "\n",
    "# Create a connection\n",
    "connection = psycopg2.connect(**conn_params)"
   ],
   "metadata": {
    "collapsed": false,
    "ExecuteTime": {
     "end_time": "2023-12-09T22:46:53.767983Z",
     "start_time": "2023-12-09T22:46:53.740070Z"
    }
   },
   "id": "b18c8f3f7d87e0af"
  },
  {
   "cell_type": "code",
   "execution_count": 14,
   "outputs": [],
   "source": [
    "csv_file_path = 'domain/db/data/Chase4091CreditCard.CSV'\n",
    "def generate_checksum(date, amount, description):\n",
    "    checksum = hashlib.sha256(f\"{date}{amount}{description}\".encode()).hexdigest()\n",
    "    return checksum\n",
    "\n",
    "def populate_db_with_csv_data():\n",
    "    cursor = connection.cursor()\n",
    "    with open(csv_file_path, newline='', encoding='utf-8') as csvfile:\n",
    "        reader = csv.DictReader(csvfile)\n",
    "        for row in reader:\n",
    "            # Generate the checksum ID\n",
    "            transaction_id = generate_checksum(row['Transaction Date'], row['Amount'], row['Description'])\n",
    "    \n",
    "            # Create the SQL insert statement\n",
    "            sql = \"\"\"\n",
    "            INSERT INTO Transaction (id, date, amount, description, category, type, account_id) \n",
    "            VALUES (%s, %s, %s, %s, %s, %s, %s)\n",
    "            ON CONFLICT (id) DO NOTHING;  -- This will ignore the insertion if the transaction ID already exists\n",
    "            \"\"\"\n",
    "            \n",
    "            # Execute the SQL statement\n",
    "            try:\n",
    "                cursor.execute(sql, (\n",
    "                    transaction_id,\n",
    "                    row['Transaction Date'],\n",
    "                    row['Amount'],\n",
    "                    row['Description'],\n",
    "                    row['Category'],\n",
    "                    row['Type'],\n",
    "                    '1'  # The account_id is set to '1' for all transactions\n",
    "                ))\n",
    "            except psycopg2.Error as e:\n",
    "                print(f\"Error inserting transaction with ID {transaction_id}: {e}\")\n",
    "                connection.rollback()  # Rollback the transaction on error\n",
    "            else:\n",
    "                connection.commit()  # Commit the transaction if successful\n",
    "    \n",
    "        # Close the database connection\n",
    "        cursor.close()\n",
    "\n",
    "populate_db_with_csv_data()        "
   ],
   "metadata": {
    "collapsed": false,
    "ExecuteTime": {
     "end_time": "2023-12-09T23:23:03.891020Z",
     "start_time": "2023-12-09T23:23:02.362650Z"
    }
   },
   "id": "26326f79ff8a8e9e"
  },
  {
   "cell_type": "code",
   "execution_count": 5,
   "outputs": [
    {
     "name": "stdout",
     "output_type": "stream",
     "text": [
      "id,account_type,account_name\r\n"
     ]
    }
   ],
   "source": [
    "def query_to_csv_string(connection, query):\n",
    "    # Cursor for database connection\n",
    "    cursor = connection.cursor()\n",
    "    # Execute the query\n",
    "    cursor.execute(query)\n",
    "    # Fetch the results\n",
    "    results = cursor.fetchall()\n",
    "    # Column names from the cursor\n",
    "    col_names = [desc[0] for desc in cursor.description]\n",
    "    # Create a CSV output from the results\n",
    "    output = io.StringIO()\n",
    "    csv_writer = csv.writer(output)\n",
    "    # Write the header\n",
    "    csv_writer.writerow(col_names)\n",
    "    # Write the data\n",
    "    csv_writer.writerows(results)\n",
    "    # Get the CSV string\n",
    "    csv_string = output.getvalue()\n",
    "    output.close()\n",
    "    return csv_string\n",
    "# SQL Query\n",
    "query = \"SELECT * FROM account;\"  # Replace with your query\n",
    "# Get the CSV string\n",
    "csv_string = query_to_csv_string(connection, query)\n",
    "# Print or use the CSV string\n",
    "print(csv_string)"
   ],
   "metadata": {
    "collapsed": false,
    "ExecuteTime": {
     "end_time": "2023-12-09T22:33:51.092498Z",
     "start_time": "2023-12-09T22:33:51.070770Z"
    }
   },
   "id": "3a461d5328ce2761"
  },
  {
   "cell_type": "code",
   "execution_count": null,
   "outputs": [],
   "source": [],
   "metadata": {
    "collapsed": false
   },
   "id": "aff007cafdfefc3f"
  }
 ],
 "metadata": {
  "kernelspec": {
   "display_name": "Python 3",
   "language": "python",
   "name": "python3"
  },
  "language_info": {
   "codemirror_mode": {
    "name": "ipython",
    "version": 2
   },
   "file_extension": ".py",
   "mimetype": "text/x-python",
   "name": "python",
   "nbconvert_exporter": "python",
   "pygments_lexer": "ipython2",
   "version": "2.7.6"
  }
 },
 "nbformat": 4,
 "nbformat_minor": 5
}

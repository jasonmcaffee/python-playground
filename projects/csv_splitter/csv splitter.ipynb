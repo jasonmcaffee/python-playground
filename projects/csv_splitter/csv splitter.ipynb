{
 "cells": [
  {
   "cell_type": "code",
   "execution_count": 1,
   "id": "initial_id",
   "metadata": {
    "collapsed": true,
    "ExecuteTime": {
     "end_time": "2024-02-27T22:09:24.409441Z",
     "start_time": "2024-02-27T22:09:15.441793Z"
    }
   },
   "outputs": [
    {
     "name": "stdout",
     "output_type": "stream",
     "text": [
      "Collecting pandas\r\n",
      "  Obtaining dependency information for pandas from https://files.pythonhosted.org/packages/bc/57/8c61a6b2f9798349748701938dfed6d645bd329bfd96245ad98245238b6f/pandas-2.2.1-cp39-cp39-macosx_11_0_arm64.whl.metadata\r\n",
      "  Downloading pandas-2.2.1-cp39-cp39-macosx_11_0_arm64.whl.metadata (19 kB)\r\n",
      "Requirement already satisfied: numpy<2,>=1.22.4 in /Users/jmcaffee/git/python-playground-v2/venv/lib/python3.9/site-packages (from pandas) (1.26.4)\r\n",
      "Requirement already satisfied: python-dateutil>=2.8.2 in /Users/jmcaffee/git/python-playground-v2/venv/lib/python3.9/site-packages (from pandas) (2.8.2)\r\n",
      "Collecting pytz>=2020.1 (from pandas)\r\n",
      "  Obtaining dependency information for pytz>=2020.1 from https://files.pythonhosted.org/packages/9c/3d/a121f284241f08268b21359bd425f7d4825cffc5ac5cd0e1b3d82ffd2b10/pytz-2024.1-py2.py3-none-any.whl.metadata\r\n",
      "  Downloading pytz-2024.1-py2.py3-none-any.whl.metadata (22 kB)\r\n",
      "Collecting tzdata>=2022.7 (from pandas)\r\n",
      "  Obtaining dependency information for tzdata>=2022.7 from https://files.pythonhosted.org/packages/65/58/f9c9e6be752e9fcb8b6a0ee9fb87e6e7a1f6bcab2cdc73f02bb7ba91ada0/tzdata-2024.1-py2.py3-none-any.whl.metadata\r\n",
      "  Downloading tzdata-2024.1-py2.py3-none-any.whl.metadata (1.4 kB)\r\n",
      "Requirement already satisfied: six>=1.5 in /Users/jmcaffee/git/python-playground-v2/venv/lib/python3.9/site-packages (from python-dateutil>=2.8.2->pandas) (1.16.0)\r\n",
      "Downloading pandas-2.2.1-cp39-cp39-macosx_11_0_arm64.whl (11.3 MB)\r\n",
      "\u001B[2K   \u001B[90m━━━━━━━━━━━━━━━━━━━━━━━━━━━━━━━━━━━━━━━━\u001B[0m \u001B[32m11.3/11.3 MB\u001B[0m \u001B[31m25.0 MB/s\u001B[0m eta \u001B[36m0:00:00\u001B[0ma \u001B[36m0:00:01\u001B[0m\r\n",
      "\u001B[?25hUsing cached pytz-2024.1-py2.py3-none-any.whl (505 kB)\r\n",
      "Using cached tzdata-2024.1-py2.py3-none-any.whl (345 kB)\r\n",
      "Installing collected packages: pytz, tzdata, pandas\r\n",
      "Successfully installed pandas-2.2.1 pytz-2024.1 tzdata-2024.1\r\n",
      "\r\n",
      "\u001B[1m[\u001B[0m\u001B[34;49mnotice\u001B[0m\u001B[1;39;49m]\u001B[0m\u001B[39;49m A new release of pip is available: \u001B[0m\u001B[31;49m23.2.1\u001B[0m\u001B[39;49m -> \u001B[0m\u001B[32;49m24.0\u001B[0m\r\n",
      "\u001B[1m[\u001B[0m\u001B[34;49mnotice\u001B[0m\u001B[1;39;49m]\u001B[0m\u001B[39;49m To update, run: \u001B[0m\u001B[32;49mpip install --upgrade pip\u001B[0m\r\n"
     ]
    }
   ],
   "source": [
    "!pip install pandas\n"
   ]
  },
  {
   "cell_type": "code",
   "outputs": [],
   "source": [
    "import pandas as pd\n",
    "df = pd.read_csv(\"/Users/jmcaffee/Downloads/SoFi Plaid Connections with Health Data.csv\", low_memory=False)\n"
   ],
   "metadata": {
    "collapsed": false,
    "ExecuteTime": {
     "end_time": "2024-02-27T22:14:41.822360Z",
     "start_time": "2024-02-27T22:14:33.957536Z"
    }
   },
   "id": "5382a2c336a01254",
   "execution_count": 3
  },
  {
   "cell_type": "code",
   "outputs": [
    {
     "name": "stdout",
     "output_type": "stream",
     "text": [
      "<class 'pandas.core.frame.DataFrame'>\n",
      "RangeIndex: 7270310 entries, 0 to 7270309\n",
      "Data columns (total 5 columns):\n",
      " #   Column                    Dtype \n",
      "---  ------                    ----- \n",
      " 0   ITEM_ID                   object\n",
      " 1   IS_DELETED                object\n",
      " 2   IS_HEALTHY                object\n",
      " 3   LAST_RESPONSE_ERROR_CODE  object\n",
      " 4   DATE_OF_LAST_RESPONSE     object\n",
      "dtypes: object(5)\n",
      "memory usage: 277.3+ MB\n"
     ]
    }
   ],
   "source": [
    "df.info()"
   ],
   "metadata": {
    "collapsed": false,
    "ExecuteTime": {
     "end_time": "2024-02-27T22:14:46.622763Z",
     "start_time": "2024-02-27T22:14:46.620513Z"
    }
   },
   "id": "270ae9edd234ac58",
   "execution_count": 4
  },
  {
   "cell_type": "code",
   "outputs": [
    {
     "name": "stdout",
     "output_type": "stream",
     "text": [
      "Saved /Users/jmcaffee/Downloads/part_0.csv\n",
      "Saved /Users/jmcaffee/Downloads/part_1.csv\n",
      "Saved /Users/jmcaffee/Downloads/part_2.csv\n",
      "Saved /Users/jmcaffee/Downloads/part_3.csv\n",
      "Saved /Users/jmcaffee/Downloads/part_4.csv\n",
      "Saved /Users/jmcaffee/Downloads/part_5.csv\n",
      "Saved /Users/jmcaffee/Downloads/part_6.csv\n",
      "Saved /Users/jmcaffee/Downloads/part_7.csv\n"
     ]
    }
   ],
   "source": [
    "import os \n",
    "def split_csv_with_headers(input_file, max_rows=990000, output_folder='split_files', low_memory=False):\n",
    "    \"\"\"Split a CSV file into multiple parts with a maximum number of rows in each,\n",
    "    including the header row in each split file, and handle mixed data type warning.\n",
    "    \n",
    "    Parameters:\n",
    "    input_file (str): Path to the input CSV file.\n",
    "    max_rows (int): Maximum number of rows in each split file (default is 990,000).\n",
    "    output_folder (str): Folder to save the split files.\n",
    "    low_memory (bool): Flag to suppress low_memory warning by allowing pandas to automatically manage memory usage.\n",
    "    \"\"\"\n",
    "    # Ensure the output folder exists\n",
    "    if not os.path.exists(output_folder):\n",
    "        os.makedirs(output_folder)\n",
    "    \n",
    "    # Initialize variables for loop\n",
    "    i = 0\n",
    "    # Use a context manager to ensure file is properly handled\n",
    "    with pd.read_csv(input_file, chunksize=max_rows, low_memory=low_memory) as reader:\n",
    "        for chunk in reader:\n",
    "            # Define output file name and path\n",
    "            output_file = os.path.join(output_folder, f'part_{i}.csv')\n",
    "            # Write chunk to file, including the header\n",
    "            chunk.to_csv(output_file, index=False)\n",
    "            print(f'Saved {output_file}')\n",
    "            i += 1\n",
    "\n",
    "# Example usage\n",
    "input_csv = \"/Users/jmcaffee/Downloads/SoFi Plaid Connections with Health Data.csv\"  # Update this to your CSV file path\n",
    "split_csv_with_headers(input_file=input_csv, output_folder=\"/Users/jmcaffee/Downloads/\")\n"
   ],
   "metadata": {
    "collapsed": false,
    "ExecuteTime": {
     "end_time": "2024-02-27T22:16:43.835113Z",
     "start_time": "2024-02-27T22:16:28.107168Z"
    }
   },
   "id": "a5159078bdcf2149",
   "execution_count": 5
  },
  {
   "cell_type": "code",
   "outputs": [],
   "source": [],
   "metadata": {
    "collapsed": false
   },
   "id": "dee9910236e6aec7"
  }
 ],
 "metadata": {
  "kernelspec": {
   "display_name": "Python 3",
   "language": "python",
   "name": "python3"
  },
  "language_info": {
   "codemirror_mode": {
    "name": "ipython",
    "version": 2
   },
   "file_extension": ".py",
   "mimetype": "text/x-python",
   "name": "python",
   "nbconvert_exporter": "python",
   "pygments_lexer": "ipython2",
   "version": "2.7.6"
  }
 },
 "nbformat": 4,
 "nbformat_minor": 5
}

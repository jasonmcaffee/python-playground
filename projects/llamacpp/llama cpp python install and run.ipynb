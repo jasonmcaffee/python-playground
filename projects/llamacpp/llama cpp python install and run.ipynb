{
 "cells": [
  {
   "cell_type": "code",
   "execution_count": null,
   "id": "initial_id",
   "metadata": {
    "collapsed": true
   },
   "outputs": [],
   "source": [
    "!CMAKE_ARGS = --DLLAMA_CUDA=ON\n",
    "!pip install llama-cpp-python"
   ]
  },
  {
   "metadata": {},
   "cell_type": "code",
   "outputs": [],
   "execution_count": null,
   "source": [
    "# do this in Developer command prompt\n",
    "!set CMAKE_ARGS=\"-DLLAMA_CUDA=ON\"\n",
    "!set FORCE_CMAKE=1\n",
    "!pip install --upgrade --force-reinstall llama-cpp-python --no-cache-dir\n",
    "!pip install --upgrade --force-reinstall llama-cpp-python[server] --no-cache-dir"
   ],
   "id": "4181569e419b06a3"
  },
  {
   "metadata": {},
   "cell_type": "code",
   "outputs": [],
   "execution_count": null,
   "source": [
    "#run\n",
    "!python3 -m llama_cpp.server --model models/7B/llama-model.gguf --n_gpu_layers 35"
   ],
   "id": "66b2f712594ce917"
  }
 ],
 "metadata": {
  "kernelspec": {
   "display_name": "Python 3",
   "language": "python",
   "name": "python3"
  },
  "language_info": {
   "codemirror_mode": {
    "name": "ipython",
    "version": 2
   },
   "file_extension": ".py",
   "mimetype": "text/x-python",
   "name": "python",
   "nbconvert_exporter": "python",
   "pygments_lexer": "ipython2",
   "version": "2.7.6"
  }
 },
 "nbformat": 4,
 "nbformat_minor": 5
}

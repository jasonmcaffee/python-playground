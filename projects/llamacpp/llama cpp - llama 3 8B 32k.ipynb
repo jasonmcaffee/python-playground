{
 "cells": [
  {
   "cell_type": "markdown",
   "source": [
    "https://llama-cpp-python.readthedocs.io/en/latest/"
   ],
   "metadata": {
    "collapsed": false,
    "pycharm": {
     "name": "#%% md\n"
    }
   }
  },
  {
   "metadata": {
    "ExecuteTime": {
     "end_time": "2024-06-23T02:36:06.488187Z",
     "start_time": "2024-06-23T02:32:30.795546Z"
    }
   },
   "cell_type": "code",
   "source": "!pip install llama-cpp-python",
   "outputs": [
    {
     "name": "stdout",
     "output_type": "stream",
     "text": [
      "Collecting llama-cpp-python"
     ]
    },
    {
     "name": "stderr",
     "output_type": "stream",
     "text": [
      "\n",
      "[notice] A new release of pip is available: 23.2.1 -> 24.1\n",
      "[notice] To update, run: python.exe -m pip install --upgrade pip\n"
     ]
    },
    {
     "name": "stdout",
     "output_type": "stream",
     "text": [
      "\n",
      "  Downloading llama_cpp_python-0.2.79.tar.gz (50.3 MB)\n",
      "     ---------------------------------------- 0.0/50.3 MB ? eta -:--:--\n",
      "     ---------------------------------------- 0.1/50.3 MB 1.6 MB/s eta 0:00:32\n",
      "     ---------------------------------------- 0.2/50.3 MB 2.9 MB/s eta 0:00:18\n",
      "     ---------------------------------------- 0.4/50.3 MB 3.2 MB/s eta 0:00:16\n",
      "      --------------------------------------- 0.7/50.3 MB 5.2 MB/s eta 0:00:10\n",
      "     - -------------------------------------- 1.4/50.3 MB 6.1 MB/s eta 0:00:08\n",
      "     - -------------------------------------- 2.0/50.3 MB 7.9 MB/s eta 0:00:07\n",
      "     -- ------------------------------------- 2.7/50.3 MB 8.5 MB/s eta 0:00:06\n",
      "     -- ------------------------------------- 3.4/50.3 MB 9.4 MB/s eta 0:00:05\n",
      "     -- ------------------------------------- 3.8/50.3 MB 9.2 MB/s eta 0:00:06\n",
      "     --- ------------------------------------ 4.5/50.3 MB 10.0 MB/s eta 0:00:05\n",
      "     ---- ----------------------------------- 5.6/50.3 MB 11.2 MB/s eta 0:00:04\n",
      "     ----- ---------------------------------- 6.6/50.3 MB 12.1 MB/s eta 0:00:04\n",
      "     ----- ---------------------------------- 7.5/50.3 MB 13.0 MB/s eta 0:00:04\n",
      "     ------ --------------------------------- 8.6/50.3 MB 13.3 MB/s eta 0:00:04\n",
      "     ------- -------------------------------- 9.2/50.3 MB 14.0 MB/s eta 0:00:03\n",
      "     ------- ------------------------------- 10.1/50.3 MB 13.7 MB/s eta 0:00:03\n",
      "     -------- ------------------------------ 11.3/50.3 MB 17.2 MB/s eta 0:00:03\n",
      "     --------- ----------------------------- 12.5/50.3 MB 18.7 MB/s eta 0:00:03\n",
      "     ---------- ---------------------------- 13.6/50.3 MB 19.9 MB/s eta 0:00:02\n",
      "     ----------- --------------------------- 14.6/50.3 MB 21.8 MB/s eta 0:00:02\n",
      "     ----------- --------------------------- 15.3/50.3 MB 20.5 MB/s eta 0:00:02\n",
      "     ------------ -------------------------- 16.7/50.3 MB 21.1 MB/s eta 0:00:02\n",
      "     ------------- ------------------------- 16.9/50.3 MB 19.8 MB/s eta 0:00:02\n",
      "     -------------- ------------------------ 18.3/50.3 MB 20.5 MB/s eta 0:00:02\n",
      "     -------------- ------------------------ 19.0/50.3 MB 20.5 MB/s eta 0:00:02\n",
      "     --------------- ----------------------- 19.9/50.3 MB 21.1 MB/s eta 0:00:02\n",
      "     ---------------- ---------------------- 21.1/50.3 MB 21.1 MB/s eta 0:00:02\n",
      "     ---------------- ---------------------- 21.6/50.3 MB 19.9 MB/s eta 0:00:02\n",
      "     ----------------- --------------------- 22.9/50.3 MB 20.5 MB/s eta 0:00:02\n",
      "     ------------------ -------------------- 24.2/50.3 MB 20.5 MB/s eta 0:00:02\n",
      "     ------------------- ------------------- 24.5/50.3 MB 18.7 MB/s eta 0:00:02\n",
      "     ------------------- ------------------- 25.7/50.3 MB 19.8 MB/s eta 0:00:02\n",
      "     -------------------- ------------------ 26.9/50.3 MB 19.8 MB/s eta 0:00:02\n",
      "     --------------------- ----------------- 27.2/50.3 MB 21.1 MB/s eta 0:00:02\n",
      "     --------------------- ----------------- 28.1/50.3 MB 19.3 MB/s eta 0:00:02\n",
      "     ---------------------- ---------------- 29.3/50.3 MB 20.5 MB/s eta 0:00:02\n",
      "     ----------------------- --------------- 30.5/50.3 MB 20.5 MB/s eta 0:00:01\n",
      "     ------------------------ -------------- 31.7/50.3 MB 21.9 MB/s eta 0:00:01\n",
      "     ------------------------- ------------- 33.1/50.3 MB 21.8 MB/s eta 0:00:01\n",
      "     -------------------------- ------------ 34.4/50.3 MB 21.8 MB/s eta 0:00:01\n",
      "     --------------------------- ----------- 35.5/50.3 MB 23.4 MB/s eta 0:00:01\n",
      "     ---------------------------- ---------- 36.7/50.3 MB 24.2 MB/s eta 0:00:01\n",
      "     ----------------------------- --------- 38.0/50.3 MB 26.2 MB/s eta 0:00:01\n",
      "     ------------------------------ -------- 39.0/50.3 MB 26.2 MB/s eta 0:00:01\n",
      "     ------------------------------- ------- 40.2/50.3 MB 25.2 MB/s eta 0:00:01\n",
      "     -------------------------------- ------ 41.6/50.3 MB 26.2 MB/s eta 0:00:01\n",
      "     --------------------------------- ----- 42.7/50.3 MB 25.2 MB/s eta 0:00:01\n",
      "     ---------------------------------- ---- 44.1/50.3 MB 26.2 MB/s eta 0:00:01\n",
      "     ----------------------------------- --- 45.4/50.3 MB 26.2 MB/s eta 0:00:01\n",
      "     ------------------------------------ -- 46.6/50.3 MB 26.2 MB/s eta 0:00:01\n",
      "     ------------------------------------- - 47.9/50.3 MB 26.2 MB/s eta 0:00:01\n",
      "     --------------------------------------  49.1/50.3 MB 27.3 MB/s eta 0:00:01\n",
      "     --------------------------------------  49.6/50.3 MB 25.2 MB/s eta 0:00:01\n",
      "     --------------------------------------  50.3/50.3 MB 25.1 MB/s eta 0:00:01\n",
      "     --------------------------------------  50.3/50.3 MB 25.1 MB/s eta 0:00:01\n",
      "     --------------------------------------  50.3/50.3 MB 25.1 MB/s eta 0:00:01\n",
      "     --------------------------------------  50.3/50.3 MB 25.1 MB/s eta 0:00:01\n",
      "     --------------------------------------- 50.3/50.3 MB 17.2 MB/s eta 0:00:00\n",
      "  Installing build dependencies: started\n",
      "  Installing build dependencies: finished with status 'done'\n",
      "  Getting requirements to build wheel: started\n",
      "  Getting requirements to build wheel: finished with status 'done'\n",
      "  Installing backend dependencies: started\n",
      "  Installing backend dependencies: finished with status 'done'\n",
      "  Preparing metadata (pyproject.toml): started\n",
      "  Preparing metadata (pyproject.toml): finished with status 'done'\n",
      "Requirement already satisfied: typing-extensions>=4.5.0 in c:\\shared-drive\\dev\\python-playground\\venv\\lib\\site-packages (from llama-cpp-python) (4.12.0)\n",
      "Requirement already satisfied: numpy>=1.20.0 in c:\\shared-drive\\dev\\python-playground\\venv\\lib\\site-packages (from llama-cpp-python) (1.26.4)\n",
      "Collecting diskcache>=5.6.1 (from llama-cpp-python)\n",
      "  Obtaining dependency information for diskcache>=5.6.1 from https://files.pythonhosted.org/packages/3f/27/4570e78fc0bf5ea0ca45eb1de3818a23787af9b390c0b0a0033a1b8236f9/diskcache-5.6.3-py3-none-any.whl.metadata\n",
      "  Using cached diskcache-5.6.3-py3-none-any.whl.metadata (20 kB)\n",
      "Requirement already satisfied: jinja2>=2.11.3 in c:\\shared-drive\\dev\\python-playground\\venv\\lib\\site-packages (from llama-cpp-python) (3.1.4)\n",
      "Requirement already satisfied: MarkupSafe>=2.0 in c:\\shared-drive\\dev\\python-playground\\venv\\lib\\site-packages (from jinja2>=2.11.3->llama-cpp-python) (2.1.5)\n",
      "Using cached diskcache-5.6.3-py3-none-any.whl (45 kB)\n",
      "Building wheels for collected packages: llama-cpp-python\n",
      "  Building wheel for llama-cpp-python (pyproject.toml): started\n",
      "  Building wheel for llama-cpp-python (pyproject.toml): still running...\n",
      "  Building wheel for llama-cpp-python (pyproject.toml): finished with status 'done'\n",
      "  Created wheel for llama-cpp-python: filename=llama_cpp_python-0.2.79-cp310-cp310-win_amd64.whl size=3297392 sha256=44f3ceade5640710c169d5713af6fb9adfe33fe8c4134647dc4aa1d0cf9fdfc5\n",
      "  Stored in directory: c:\\users\\jason\\appdata\\local\\pip\\cache\\wheels\\bb\\2e\\11\\8b10c6b698e6abc1289e9919e098ac4bcf6b16ebd46153e8ba\n",
      "Successfully built llama-cpp-python\n",
      "Installing collected packages: diskcache, llama-cpp-python\n",
      "Successfully installed diskcache-5.6.3 llama-cpp-python-0.2.79\n"
     ]
    }
   ],
   "execution_count": 2
  },
  {
   "cell_type": "code",
   "source": [
    "from llama_cpp import Llama\n",
    "max_tokens = 30000\n",
    "# llama_llm = Llama(model_path=\"/Volumes/4Tera_SSD_2022/llm_models/llama-2-7b-chat.Q5_K_M.gguf\", chat_format=\"llama-2\")\n",
    "# model_file_path = \"/Users/jmcaffee/llm_models/Llama-3-8B-Instruct-32k-v0.1.Q4_K_M.gguf\"\n",
    "model_file_path = \"C:\\shared-drive\\llm_models\\Llama-3-8B-Instruct-32k-v0.1.Q4_K_M.gguf\" #extremely fast on 3090\n",
    "# model_file_path = \"C:\\shared-drive\\llm_models\\Meta-Llama-3-70B-Instruct.Q5_K_M.gguf\" #wont load on rtx 3090\n",
    "# model_file_path = \"C:\\shared-drive\\llm_models\\Meta-Llama-3-70B-Instruct.Q3_K_M.gguf\" # this doesn't seem to work with python wrapper, but does if you run it via server.exe of llama.cpp\n",
    "# model_file_path = \"C:\\shared-drive\\llm_models\\Meta-Llama-3-70B-Instruct.IQ2_XS.gguf\" #doesn't respond at all on 3090\n",
    "# allegedly iq2_xs.gguf will get 12 tokens/second on 3090: https://www.reddit.com/r/LocalLLaMA/comments/1caofxm/quick_speed_benchmark_for_llama_3_70b_on_1x_3090/\n",
    "llm = Llama(model_path=model_file_path, chat_format=\"llama-3\", n_ctx=max_tokens,  n_gpu_layers=81)\n",
    "# llm.verbose = False # don't print a bunch of stuff\n",
    "\n",
    "n_ubatch=32\n",
    "\n",
    "# llm = Llama(model_path=\"/Volumes/4Tera_SSD_2022/llm_models/llama-2-13b-chat.Q5_K_M.gguf\", chat_format=\"llama-2\", n_ctx=2048) # n_ctx=2048\n",
    "# function_llm = Llama(model_path=\"/Volumes/4Tera_SSD_2022/llm_models/functionary-7b-v1.Q5_K.gguf\", chat_format=\"llama-2\") # n_ctx=2048"
   ],
   "metadata": {
    "collapsed": false,
    "pycharm": {
     "name": "#%%\n"
    },
    "ExecuteTime": {
     "end_time": "2024-06-23T02:31:41.333265Z",
     "start_time": "2024-06-23T02:31:41.030680Z"
    }
   },
   "outputs": [
    {
     "ename": "ModuleNotFoundError",
     "evalue": "No module named 'llama_cpp'",
     "output_type": "error",
     "traceback": [
      "\u001B[1;31m---------------------------------------------------------------------------\u001B[0m",
      "\u001B[1;31mModuleNotFoundError\u001B[0m                       Traceback (most recent call last)",
      "Cell \u001B[1;32mIn[1], line 1\u001B[0m\n\u001B[1;32m----> 1\u001B[0m \u001B[38;5;28;01mfrom\u001B[39;00m \u001B[38;5;21;01mllama_cpp\u001B[39;00m \u001B[38;5;28;01mimport\u001B[39;00m Llama\n\u001B[0;32m      2\u001B[0m max_tokens \u001B[38;5;241m=\u001B[39m \u001B[38;5;241m3000\u001B[39m\n\u001B[0;32m      3\u001B[0m \u001B[38;5;66;03m# llama_llm = Llama(model_path=\"/Volumes/4Tera_SSD_2022/llm_models/llama-2-7b-chat.Q5_K_M.gguf\", chat_format=\"llama-2\")\u001B[39;00m\n\u001B[0;32m      4\u001B[0m \u001B[38;5;66;03m# model_file_path = \"/Users/jmcaffee/llm_models/Llama-3-8B-Instruct-32k-v0.1.Q4_K_M.gguf\"\u001B[39;00m\n",
      "\u001B[1;31mModuleNotFoundError\u001B[0m: No module named 'llama_cpp'"
     ]
    }
   ],
   "execution_count": 1
  },
  {
   "cell_type": "code",
   "source": [
    "import time\n",
    "import json\n",
    "\n",
    "def prompt(question):\n",
    "    output = llm(\n",
    "        f\"Q: {question} A:\", # Prompt\n",
    "        # max_tokens=512,\n",
    "        max_tokens=max_tokens,\n",
    "        stop=[\"Q:\", \"\\n\"], # Stop generating just before the model would generate a new question\n",
    "        echo=False, # Echo the prompt back in the output\n",
    "    )\n",
    "    answer = output['choices'][0]['text']\n",
    "    print(f\"Q: {question} \\nA:{answer}\")\n",
    "    return answer\n",
    "\n",
    "def prompt2(question):\n",
    "    start_time_seconds = time.time()\n",
    "    output = llm.create_chat_completion(\n",
    "        max_tokens=max_tokens,\n",
    "        messages = [\n",
    "            {\n",
    "                \"role\": \"system\",\n",
    "                \"content\": \"You are an assistant who perfectly responds to questions with as many details as possible, without making up facts.\"\n",
    "            },\n",
    "            {\n",
    "                \"role\": \"user\",\n",
    "                \"content\": question\n",
    "            }\n",
    "        ]\n",
    "    )\n",
    "    elapsed_time_seconds = time.time() - start_time_seconds\n",
    "    # print(output)\n",
    "    answer = output['choices'][0]['message']['content']\n",
    "    print(f'answer generated in {elapsed_time_seconds} seconds')\n",
    "    print(f\"Q: {question} \\nA:{answer}\")\n",
    "    return answer\n",
    "\n",
    "def stream_prompt(question):\n",
    "    start_time_seconds = time.time()\n",
    "    stream = llm.create_chat_completion(\n",
    "        max_tokens=max_tokens,\n",
    "        messages = [\n",
    "            {\n",
    "                \"role\": \"system\",\n",
    "                \"content\": \"You are an assistant who perfectly responds to questions with as many details as possible, without making up facts.\"\n",
    "            },\n",
    "            {\n",
    "                \"role\": \"user\",\n",
    "                \"content\": question\n",
    "            }\n",
    "        ],\n",
    "        stream = True,\n",
    "    )\n",
    "\n",
    "\n",
    "    for output in stream:\n",
    "        choices = output['choices']\n",
    "        choice = choices[0]\n",
    "        delta = choice['delta']\n",
    "        if 'content' in delta:\n",
    "            print(delta['content'], end='')\n",
    "    print()\n",
    "\n",
    "    elapsed_time_seconds = time.time() - start_time_seconds\n",
    "    print(f'answer generated in {elapsed_time_seconds} seconds')"
   ],
   "metadata": {
    "collapsed": false,
    "pycharm": {
     "name": "#%%\n"
    },
    "ExecuteTime": {
     "end_time": "2024-05-06T22:57:30.507752Z",
     "start_time": "2024-05-06T22:57:30.494013Z"
    }
   },
   "outputs": [],
   "execution_count": 2
  },
  {
   "cell_type": "code",
   "source": [
    "stream_prompt(\"Where is paris?\")"
   ],
   "metadata": {
    "collapsed": false,
    "pycharm": {
     "name": "#%%\n"
    },
    "ExecuteTime": {
     "start_time": "2024-05-06T22:57:37.976555Z"
    }
   },
   "outputs": [],
   "execution_count": null
  },
  {
   "cell_type": "code",
   "outputs": [],
   "source": [
    "from projects.utils.with_time import with_time\n",
    "\n",
    "@with_time\n",
    "def get_n_words_from_text(text:str, number_of_words=1000):\n",
    "    words = text.split()\n",
    "    first_n_words = ' '.join(words[:number_of_words])\n",
    "    return first_n_words"
   ],
   "metadata": {
    "collapsed": false,
    "ExecuteTime": {
     "end_time": "2024-05-03T11:18:04.197527Z",
     "start_time": "2024-05-03T11:18:04.175204Z"
    }
   },
   "execution_count": 5
  },
  {
   "cell_type": "markdown",
   "source": [
    "https://archive.org/stream/MajjhimaNikaya/MajjhimaNikayaSinglePaged._djvu.txt"
   ],
   "metadata": {
    "collapsed": false
   }
  },
  {
   "cell_type": "code",
   "execution_count": 13,
   "outputs": [
    {
     "name": "stdout",
     "output_type": "stream",
     "text": [
      "get_n_words_from_text took 2.284121513366699e-05 ms to complete\n",
      "The text appears to be a collection of Buddhist sutras or discourses from the Pali Canon, specifically from the Majjhima Nikaya (Middle Length Discourses) and the Digha Nikaya (Longer Discourses). The text consists of nine suttas (discourses) that discuss various topics related to the nature of reality, the path to enlightenment, and the characteristics of a noble disciple. Here is a summary of each sutta:\n",
      "1. Mulapariyaya Sutta: This sutta discusses the root of all things, including the tendency to conceive oneself as earth, water, fire, air, beings, gods, and other phenomena, and how this conception leads to suffering.\n",
      "2. Sabbasava Sutta: This sutta explains the importance of abandoning various taints (defilements) such as greed, hatred, delusion, and ignorance through seeing, restraining, using, enduring, avoiding, removing, and developing wholesome states.\n",
      "3. Dhammadayada Sutta: This sutta emphasizes the importance of being heirs in Dhamma rather than material possessions and provides a simile about a person who is free from blemishes and has a pure mind.\n",
      "4. An\n",
      "answer generated in 938.632493019104 seconds\n"
     ]
    }
   ],
   "source": [
    "with open('../../data/buddhist-texts/majjhima nikaya.txt', 'r') as file:\n",
    "    large_text = file.read()\n",
    "    \n",
    "large_text = get_n_words_from_text(large_text, number_of_words=21000)    \n",
    "stream_prompt(f\"\"\"\n",
    "Using the text below, which is surrounded by <text> tags, summarize what is being discussed.  Include summaries of each sutta, the key points discussed, and then provide a summary of all the suttas, highlighting the key concepts and terms\n",
    "<text>\n",
    "{large_text}\n",
    "</text>\n",
    "\"\"\")    "
   ],
   "metadata": {
    "collapsed": false,
    "ExecuteTime": {
     "end_time": "2024-05-03T12:20:05.256Z",
     "start_time": "2024-05-03T12:04:26.591288Z"
    }
   }
  },
  {
   "cell_type": "code",
   "outputs": [
    {
     "name": "stdout",
     "output_type": "stream",
     "text": [
      "get_n_words_from_text took 9.279251098632812e-07 ms to complete\n",
      "Part One The Root Fifty Discourses (MulapannasapaH) 1 The Division of the Discourse on the Root (Mulapariyayavagga) 1 Mulapariyaya Sutta The Root of All Things [1] 1. Thus have I heard. 1 On one occasion the Blessed One was living in Ukkattha in the Subhaga Grove at the root of a royal sala tree. There he addressed the bhikkhus thus: \"Bhikkhus.\" 2 - \"Venerable sir,\" they replied. The Blessed One said this: 2. \"Bhikkhus, I shall teach you a discourse on the root of all things. 3 Listen and attend closely to what I shall say.\" - \"Yes, venerable sir,\" the bhikkhus replied. The Blessed One said this: (the ordinary person) 3. \"Here, bhikkhus, an untaught ordinary person, 4 who has no regard for noble ones and is unskilled and undisciplined in their Dhamma, who has no regard for true men and is unskilled and undisciplined in their Dhamma, perceives earth as earth. 5 Having perceived earth as earth, he conceives [himself as] earth, he conceives [himself] in earth, he conceives [himself apart] from earth, he conceives earth to be 'mine/ he delights in earth. 6 Why is that? Because he has not fully understood it, I say. 7 4. \"He perceives water as water. Having perceived water as water, he conceives [himself as] water, he conceives [himself] in water, he conceives [himself apart] from water, he conceives water to be 'mine/ he delights in water. Why is that? Because he has not fully understood it, I say. 5. \"He perceives fire as fire. Having perceived fire as fire, he conceives [himself as] fire, he conceives [himself] in fire, he con- ceives [himself apart] from fire, he conceives fire to be 'mine/ he delights in fire. Why is that? Because he has not fully under- stood it, I say. 6- \"He perceives air as air. Having perceived air as air, he con- ceives [himself as] air, he conceives [himself] in air, he conceives 84 Mulapariyaya Sutta: Sutta 1 i; II i 2 [himself apart] from air, he conceives air to be 'mine,' he delights in air. Why is that? Because he has not fully understood it, I say. [2] 7. \"He perceives beings as beings. 8 Having perceived beings as beings, he conceives beings, he conceives [himself] in beings, he conceives [himself apart] from beings, he conceives beings to be 'mine,' he delights in beings. Why is that? Because he has not fully understood it, I say. 8. \"He perceives gods as gods. 9 Having perceived gods as gods, he conceives gods, he conceives [himself] in gods, he con- ceives [himself apart] from gods, he conceives gods to be 'mine/ he delights in gods. Why is that? Because he has not fully under- stood it, I say. 9. \"He perceives Pajapati as Pajapati. 10 Having perceived Pajapati as Pajapati, he conceives Pajapati, he conceives [him- self] in Pajapati, he conceives [himself apart] from Pajapati, he conceives Pajapati to be 'mine/ he delights in Pajapati. Why is that? Because he has not fully understood it, I say. 10. \"He perceives Brahma as Brahma. 11 Having perceived Brahma as Brahma, he conceives Brahma, he conceives [himself] in Brahma, he conceives [himself apart] from Brahma, he con- ceives Brahma to be 'mine/ he delights in Brahma. Why is that? Because he has not fully understood it, I say. 11. \"He perceives the gods of Streaming Radiance as the gods of Streaming Radiance. 12 Having perceived the gods of Streaming Radiance as the gods of Streaming Radiance, he con- ceives the gods of Streaming Radiance, he conceives [himself] in the gods of Streaming Radiance, he conceives [himself apart] from the gods of Streaming Radiance, he conceives the gods of Streaming Radiance to be 'mine,' he delights in the gods of Streaming Radiance. Why is that? Because he has not fully understood it, I say. 12. \"He perceives the gods of Refulgent Glory as the gods of Refulgent Glory. 13 Having perceived the gods of Refulgent Glory as the gods of Refulgent Glory, he conceives the gods of Refulgent Glory, he conceives [himself] in the gods of Refulgent Glory, he conceives [himself apart] from the gods of Refulgent Glory, he conceives the gods of Refulgent Glory to be 'mine/ he delights in the gods of Refulgent Glory. Why is that? Because he has not fully understood it, I say. i 3 The Root of All Things 85 13. \"He perceives the gods of Great Fruit as the gods of Great Fruit. 14 Having perceived the gods of Great Fruit as the gods of Great Fruit, he conceives the gods of Great Fruit, he conceives [himself] in the gods of Great Fruit, he conceives [himself apart] from the gods of Great Fruit, he conceives the gods of Great Fruit to be 'mine,' he delights in the gods of Great Fruit. Why is that? Because he has not fully understood it, I say. 14. \"He perceives the Overlord as the Overlord. 15 Having per- ceived the Overlord as the Overlord, he conceives the Overlord, he conceives [himself] in the Overlord, he conceives [himself apart] from the Overlord, he conceives the Overlord to be 'mine/ he delights in the Overlord. Why is that? Because he has not fully understood it, I say. 15. \"He perceives the base of infinite space as the base of infi- nite space. 16 Having perceived the base of infinite space as the base of infinite space, he conceives [himself as] the base of infi- nite space, he conceives [himself] in the base of infinite space, he conceives [himself apart] from the base of infinite space, he con- ceives the base of infinite space to be 'mine,' he delights in the base of infinite space. Why is that? Because he has not fully understood it, I say. 16. \"He perceives the base of infinite consciousness as the base of infinite consciousness. Having perceived the base of infinite consciousness as the base of infinite consciousness, [3] he conceives [himself as] the base of infinite consciousness, he conceives [himself] in the base of infinite consciousness, he con- ceives [himself apart] from the base of infinite consciousness, he conceives the base of infinite consciousness to be 'mine/ he delights in the base of infinite consciousness. Why is that? Because he has not fully understood it, I say. 17. \"He perceives the base of nothingness as the base of noth- ingness. Having perceived the base of nothingness as the base of nothingness, he conceives [himself as] the base of nothingness, he conceives [himself] in the base of nothingness, he conceives [him- self apart] from the base of nothingness, he conceives the base of nothingness to be 'mine,' he delights in the base of nothingness. Why is that? Because he has not fully understood it, I say. 18. \"He perceives the base of neither-perception-nor-non- perception as the base of neither-perception-nor-non-perception. Having perceived the base of neither-perception-nor-non-perception 86 Mttlapariyaya Sutta: Sutta 1 i 3 as tiie base of neither-perception-nor -non-perception, he conceives [himself as] the base of neither-perception-nor-non-perception, he conceives [himself] in the base of neither-perception-nor-non- perception, he conceives [himself apart] from the base of neither-perception-nor-non-perception, he conceives the base of neither-perception-nor-non-perception to be 'mine/ he delights in the base of neither-perception-nor-non-perception. Why is that? Because he has not fully understood it, I say. 19. \"He perceives the seen as the seen. 17 Having perceived the seen as the seen, he conceives [himself as] the seen, he conceives [himself] in the seen, he conceives [himself apart] from the seen, he conceives the seen to be 'mine,' he delights in the seen. Why is that? Because he has not fully understood it, I say. 20. \"He perceives the heard as the heard. Having perceived the heard as the heard, he conceives [himself as] the heard, he conceives [himself] in the heard, he conceives [himself apart] from the heard, he conceives the heard to be 'mine,' he delights in the heard. Why is that? Because he has not fully understood it, I say. 21. \"He perceives the sensed as the sensed. Having perceived the sensed as the sensed, he conceives [himself as] the sensed, he conceives [himself] in the sensed, he conceives [himself apart] from the sensed, he conceives the sensed to be 'mine,' he delights in the sensed. Why is that? Because he has not fully understood it, I say. 22. \"He perceives the cognized as the cognized. Having per- ceived the cognized as the ’cognized, he conceives [himself as] the cognized, he conceives [himself] in the cognized, he con- ceives [himself apart] from the cognized, he conceives the cog- nized to be 'mine,' he delights in the cognized. Why is that? Because he has not fully understood it, I say. 23. \"He perceives unity as unity. 18 Having perceived unity as unity, he conceives [himself as] unity, he conceives [himself] in unity, he conceives [himself apart] from unity, he conceives unity to be 'mine,' he delights in unity. Why is that? Because he has not fully understood it, I say. 24. \"He perceives diversity as diversity. Having perceived diversity as diversity, he conceives [himself as] diversity, he conceives [himself] in diversity, he conceives [himself apart] from diversity, he conceives diversity to be 'mine,' he delights i 4 The Root of All Things 87 in diversity. Why is that? Because he has not fully understood it, I say. 25. \"He perceives all as all. 19 Having perceived all as all, he conceives [himself asl all, [4] he conceives [himself] in all, he conceives [himself apart] from all, he conceives all to be 'mine,' he delights in all. Why is that? Because he has not fully under- stood it, I say. 26. \"He perceives Nibbana as Nibbana. 20 Having perceived Nibbana as Nibbana, he conceives [himself as] Nibbana, he conceives [himself] in Nibbana, he conceives [himself apart] from Nibbana, he conceives Nibbana to be 'mine/ he delights in Nibbana. Why is that? Because he has not fully understood it, I say. (the disciple in higher training) 27. \"Bhikkhus, a bhikkhu who is in higher training, 21 whose mind has not yet reached the goal, and who is still aspiring to the supreme security from bondage, directly knows earth as earth. 22 Having directly known earth as earth, he should not conceive [himself as] earth, he should not conceive [himself] in earth, he should not conceive [himself apart] from earth, he should not conceive earth to be 'mine/ he should not delight in earth. Why is that? So that he may fully understand it, I say. 23 28-49. \"He directly knows water as water... He directly knows all as all... 50. \"He directly knows Nibbana as Nibbana. Having directly known Nibbana as Nibbana, he should not conceive [himself as] Nibbana, he should not conceive [himself] in Nibbana, he should not conceive [himself apart] from Nibbana, he should not conceive Nibbana to be 'mine/ he should not delight in Nibbana. Why is that? So that he may fully understand it, I say. (the arahant - 1) 51. \"Bhikkhus, a bhikkhu who is an arahant with taints destroyed, who has lived the holy life, done what had to be done, laid down the burden, reached the true goal, destroyed the fetters of being, and is completely liberated through final knowledge, 24 directly knows earth as earth. Having directly known earth as earth, he does not conceive [himself as] earth, he does not conceive [himself] in earth, he does not conceive [him- self apart] from earth, he does not conceive earth to be 'mine/ he does not delight in earth. Why is that? Because he has fully understood it, I say. 25 52-74. \"He directly knows water as water. ..Nibbana as Nibbana. . .Why is that? Because he has fully understood it, I say. (THE arahant - It) 75. \"Bhikkhus, a bhikkhu who is an arahant... completely liber- ated through final knowledge, [5] directly knows earth as earth. Having directly known earth as earth, he does not conceive [him- self as] earth, he does not conceive [himself] in earth, he does not conceive [himself apart] from earth, he does not conceive earth to be 'mine/ he does not delight in earth. Why is that? Because he is free from lust through the destruction of lust. 26 76-98. \"He directly knows water as water. ..Nibbana as Nibbana... Why is that? Because he is free from lust through the destruction of lust. (THE ARAHANT - III) 99. \"Bhikkhus, a bhikkhu who is an arahant... completely liber- ated through final knowledge, directly knows earth as earth. Having directly known earth as earth, he does not conceive [him- self as] earth, he does not conceive [himself] in earth, he does not conceive [himself apart] from earth, he does not conceive earth to be 'mine/ he does not delight in earth. Why is that? Because he is free from hate through the destruction of hate. 100-122. \"He directly knows water as water. ..Nibbana as Nibbana. . .Why is that? Because he is free from hate through the destruction of hate. (THE ARAHANT - IV) 123. \"Bhikkhus, a bhikkhu who is an arahant... completely liber- ated through final knowledge, directly knows earth as earth. Having directly known earth as earth, he does not conceive [himself as] earth, he does not conceive [himself] in earth, he The Root of All Things 89 i 6 does not conceive [himself apart] from earth, he does not con- ceive earth to be 'mine,' he does not delight in earth. Why is that? Because he is free from delusion through the destruction of delusion. 124-146. \"He directly knows water as water... Nibbana as Nibbana. ..Why is that? Because he is free from delusion through the destruction of delusion. (THE TATHAGATA - 1) 147. \"Bhikkhus, the Tathagata, 27 accomplished and fully enlight- ened, directly knows earth as earth. Having directly known earth as earth, he does not conceive [himself as] earth, he does not conceive [himself] in earth, he does not conceive [himself apart] from earth, he does not conceive earth to be 'mine/ he does not delight in earth. [6] Why is that? Because the Tathagata has fully understood it to the end, I say. 28 148-170. \"He directly knows water as water... Nibbana as Nibbana... Why is that? Because the Tathagata has fully under- stood it to the end, I say. (THE TATHAGATA - II) 171. \"Bhikkhus, the Tathagata, accomplished and fully enlight- ened, directly knows earth as earth. Having directly known earth as earth, he does not conceive [himself as] earth, he does not conceive [himself] in earth, he does not conceive [himself apart] from earth, he does not conceive earth to be 'mine,' he does not delight in earth. Why is that? Because he has under- stood that delight is the root of suffering, and that with being [as condition] there is birth, and that for whatever has come to be there is ageing and death. 29 Therefore, bhikkhus, through the complete destruction, fading away, cessation, giving up, and relinquishing of cravings, the Tathagata has awakened to supreme full enlightenment, I say. 30 172-194. \"He directly knows water as water... Nibbana as Nibbana... Why is that? Because he has understood that delight is the root of suffering, and that with being [as condition] there is birth, and that for whatever has come to be there is ageing and death. Therefore, bhikkhus, through the complete destruction, 90 Mulapariyaya Sutta: Sutta 1 fading away, cessation, giving up, and relinquishing of crav- ings, the Tathagata has awakened to supreme full enlighten- ment, I say.\" That is what the Blessed One said. But those bhikkhus did not delight in the Blessed One's words. 31 2 Sabbasava Sutta All the Taints 1. Thus have I heard. On one occasion the Blessed One was liv- ing at Savatthl in Jeta's Grove, Anathapindika's Park. There he addressed the bhikkhus thus: \"Bhikkhus.\" - \"Venerable sir,\" they replied. The Blessed One said this: 2. \"Bhikkhus, I shall teach you a discourse on the restraint of all the taints. 32 [7] Listen and attend closely to what I shall say.\" - \"Yes, venerable sir,\" the bhikkhus replied. The Blessed One said this: (summary) 3. \"Bhikkhus, I say that the destruction of the taints is for one who knows and sees, not for one who does not know and see. Who knows and sees what? Wise attention and unwise atten- tion. 33 When one attends unwisely, unarisen taints arise and arisen taints increase. When one attends wisely, unarisen taints do not arise and arisen taints are abandoned. 4. \"Bhikkhus, there are taints that should be abandoned by seeing. There are taints that should be abandoned by restrain- ing. There are taints that should be abandoned by using. There are taints that should be abandoned by enduring. There are taints that should be abandoned by avoiding. There are taints that should be abandoned by removing. There are taints that should be abandoned by developing. 34 (taints to be abandoned by seeing) 5. \"What taints, bhikkhus, should be abandoned by seeing? 35 Here, bhikkhus, an untaught ordinary person, who has no regard for noble ones and is unskilled and undisciplined in their 91 92 Sabbasava Sutta: Sutta 2 i 8 Dhamma, who has no regard for true men and is unskilled and undisciplined in their Dhamma, does not understand what things are fit for attention and what things are unfit for atten- tion. Since that is so, he attends to those things unfit for atten- tion and he does not attend to those things fit for attention. 36 6. \"What are the things unfit for attention that he attends to? They are things such that when he attends to them, the unarisen taint of sensual desire arises in him and the arisen taint of sensual desire increases, the unarisen taint of being arises in him and the arisen taint of being increases, the unarisen taint of igno- rance arises in him and the arisen taint of ignorance increases. These are the things unfit for attention that he attends to. 37 And what are the things fit for attention that he does not attend to? They are things such that when he attends to them, the unarisen taint of sensual desire does not arise in him and the arisen taint of sensual desire is abandoned, the unarisen taint of being does not arise in him and the arisen taint of being is abandoned, the unarisen taint of ignorance does not arise in him and the arisen taint of ignorance is abandoned. These are the things fit for attention that he does not attend to. [8] By attending to things unfit for attention and by not attending to things fit for atten- tion, both unarisen taints arise in him and arisen taints increase. 7. \"This is how he attends unwisely: 'Was I in the past? Was I not in the past? What was I in the past? How was I in the past? Having been what, what did I become in the past? Shall I be in the future? Shall I not be in the future? What shall I be in the * future? How shall I be in the future? Having been what, what shall I become in the future?' Or else he is inwardly perplexed about the present thus: 'Am I? Am I not? What am I? How am I? Where has this being come from? Where will it go?' 38 8. \"When he attends unwisely in this way, one of six views arises in him. 39 The view 'self exists for me' arises in him as true and established; or the view 'no self exists for me' arises in him as true and established; or the view 'I perceive self with self' arises in him as true and established; or the view 'I perceive not- self with self' arises in him as true and established; or the view 'I perceive self with not-self ' arises in him as true and established; or else he has some such view as this: 'It is this self of mine that speaks and feels and experiences here and there the result of good and bad actions; but this self of mine is permanent. All the Taints 93 i 9 everlasting, eternal, not subject to change, and it will endure as long as eternity.' 40 This speculative view, bhikkhus, is called the thicket of views, the wilderness of views, the contortion of views, the vacillation of views, the fetter of views. Fettered by the fetter of views, the untaught ordinary person is not freed from birth, ageing, and death, from sorrow, lamentation, pain, grief, and despair; he is not freed from suffering, I say. 9. \"Bhikkhus, a well-taught noble disciple, who has regard for noble ones and is skilled and disciplined in their Dhamma, who has regard for true men and is skilled and disciplined in their Dhamma, understands what things are fit for attention and what things are unfit for attention. Since that is so, [9] he does not attend to those things unfit for attention and he attends to those things fit for attention. 10. \"What are the things unfit for attention that he does not attend to? They are things such that when he attends to them, the unarisen taint of sensual desire arises in him... (as §6 )... and the arisen taint of ignorance increases. These are the things unfit for attention that he does not attend to. And what are the things fit for attention that he attends to? They are things such that when he attends to them, the unarisen taint of sensual desire does not arise in him. ..(as §6 ). ..and the arisen taint of ignorance is abandoned. These are the things fit for attention that he attends to. By not attending to things unfit for attention and by attending to things fit for attention, unarisen taints do not arise in him and arisen taints are abandoned. 11. \"He attends wisely: 'This is suffering'; he attends wisely: \"This is the origin of suffering'; he attends wisely: 'This is the cessation of suffering'; he attends wisely: 'This is the way lead- ing to the cessation of suffering.' 41 When he attends wisely in this way, three fetters are abandoned in him: personality view, doubt, and adherence to rules and observances. These are called the taints that should be abandoned by seeing. 42 (taints to be abandoned by restraining) 12. \"What taints, bhikkhus, should be abandoned by restrain- ing? 43 Here a bhikkhu, reflecting wisely, abides with the eye fac- ulty restrained. While taints, vexation, and fever might arise in one who abides with the eye faculty unrestrained, there are no 94 Sabbasava Sutta: Sutta 2 ilO taints, vexation, or fever in one who abides with the eye faculty restrained. 44 Reflecting wisely, he abides with the ear faculty restrained. . .with the nose faculty restrained. . .with the tongue fac- ulty restrained. . .with the body faculty restrained. . .with the mind faculty restrained... While taints, vexation, and fever might arise in one who abides with the faculties unrestrained, [10] there are no taints, vexation, or fever in one who abides with the faculties restrained. These are called the taints that should be abandoned by restraining. (taints to be abandoned by using) 13. \"What taints, bhikkhus, should be abandoned by using? 45 Here a bhikkhu, reflecting wisely, uses the robe only for protec- tion from cold, for protection from heat, for protection from con- tact with gadflies, mosquitoes, wind, the sun, and creeping things, and only for the purpose of concealing the private parts. 14. \"Reflecting wisely, he uses almsfood neither for amusement nor for intoxication nor for the sake of physical beauty and attrac- tiveness, but only for the endurance and continuance of this body, for ending discomfort, and for assisting the holy life, considering: 'Thus I shall terminate old feelings without arousing new feelings and I shall be healthy and blameless and shall live in comfort.' 15. \"Reflecting wisely, he uses the resting place only for pro- tection from cold, for protection from heat, for protection from contact with gadflies, mosquitoes, wind, the sun, and creeping things, and only for the purpose of warding off the perils of cli- mate and for enjoying retreat. 16. \"Reflecting wisely, he uses the medicinal requisites only for protection from arisen afflicting feelings and for the benefit of good health. 17. \"While taints, vexation, and fever might arise in one who does not use the requisites thus, there are no taints, vexation, or fever in one who uses them thus. These are called the taints that should be abandoned by using. J (taints to be abandoned by enduring) 18. \"What taints, bhikkhus, should be abandoned by enduring? Here a bhikkhu, reflecting wisely, bears cold and heat, hunger and ill All the Taints 95 thirst, and contact with gadflies, mosquitoes, wind, the sun, and creeping things; he endures ill-spoken, unwelcome words and arisen bodily feelings that are painful, racking, sharp, piercing, dis- agreeable, distressing, and menacing to life. While taints, vexation, and fever might arise in one who does not endure such things, there are no taints, vexation, or fever in one who endures them. These are called the taints that should be abandoned by enduring. (TAINTS TO BE ABANDONED BY AVOIDING) 19. \"What taints, bhikkhus, should be abandoned by avoiding? Here a bhikkhu, reflecting wisely, avoids a wild elephant, a wild horse, a wild bull, a wild dog, a snake, a stump, [11] a bramble patch, a chasm, a cliff, a cesspit, a sewer. Reflecting wisely, he avoids sitting on unsuitable seats, wandering to unsuitable resorts, 46 and associating with bad friends, since if he were to do so wise companions in the holy life might suspect him of evil conduct. While taints, vexation, and fever might arise in one who does not avoid these things, there are no taints, vexation, and fever in one who avoids them. These are called the taints that should be abandoned by avoiding. (TAINTS TO BE ABANDONED BY REMOVING) 20. \"What taints, bhikkhus, should be abandoned by removing? Here a bhikkhu, reflecting wisely, does not tolerate an arisen thought of sensual desire; he abandons it, removes it, does away with it, and annihilates it. He does not tolerate an arisen thought of ill will. ..He does not tolerate an arisen thought of cruelty... He does not tolerate arisen evil unwholesome states; he abandons them, removes them, does away with them, and anni- hilates them. 47 While taints, vexation, and fever might arise in one who does not remove these thoughts, there are no taints, vexation, or fever in one who removes them. These are called the taints that should be abandoned by removing. (TAINTS TO BE ABANDONED BY DEVELOPING) 21. \"What taints, bhikkhus, should be abandoned by developing? Here a bhikkhu, reflecting wisely, develops the mindfulness 96 SabbSsava Sutta: Sutta 2 i 12 enlightenment factor, which is supported by seclusion, dispas- sion, and cessation, and ripens in relinquishment. He develops the investigation-of-states enlightenment factor... the energy enlightenment factor... the rapture enlightenment factor... the tranquillity enlightenment factor... the concentration enlighten- ment factor. ..the equanimity enlightenment factor, which is supported by seclusion, dispassion, and cessation, and ripens in relinquishment. 48 While taints, vexation, and fever might arise in one who does not develop these enlightenment factors, there are no taints, vexation, or fever in one who develops them. These are called the taints that should be abandoned by devel- oping. 49 (conclusion) 22. \"Bhikkhus, when for a bhikkhu the taints that should be abandoned by seeing have been abandoned by seeing, when the taints that should be abandoned by restraining have been aban- doned by restraining, when the taints that should be abandoned by using have been abandoned by using, when the taints that should be abandoned by enduring have been abandoned by enduring, when the taints that should be abandoned by avoid- ing [12] have been abandoned by avoiding, when the taints that should be abandoned by removing have been abandoned by removing, when the taints that should be abandoned by devel- oping have been abandonee] by developing - then he is called a bhikkhu who dwells restrained with the restraint of all the taints. He has severed craving, flung off the fetters, and with the com- plete penetration of conceit he has made an end of suffering/' 50 That is what the Blessed One said. The bhikkhus were satisfied and delighted in the Blessed One's words. 3 Dhammadayada Sutta Heirs in Dhamma 1. Thus have I heard. On one occasion the Blessed One was liv- ing in Savatthl in Jeta's Grove, Anathapindika's Park. There he addressed the bhikkhus thus: \"Bhikkhus.\" 51 - \"Venerable sir,\" they replied. The Blessed One said this: 2. \"Bhikkhus, be my heirs in Dhamma, not my heirs in material things. Out of compassion for you I have thought: 'How shall my disciples be my heirs in Dhamma, not my heirs in material things?' If you are my heirs in material tilings, not my heirs in Dhamma, you will be reproached thus: \"The Teacher's disciples live as his heirs in material things, not as heirs in Dhamma'; and I will be reproached thus: 'The Teacher's disciples live as his heirs in material things, not as his heirs in Dhamma.' \"If you are my heirs in Dhamma, not my heirs in material things, you will not be reproached [as it will be said]: 'The Teacher's disciples live as his heirs in Dhamma, not as his heirs in material things'; and I will not be reproached [as it will be said]: 'The Teacher's disciples live as his heirs in Dhamma, not as his heirs in material things.' Therefore, bhikkhus, be my heirs in Dhamma, not my heirs in material things. Out of compassion for you I have thought: 'How shall my disciples be my heirs in Dhamma, not my heirs in material things?' 3. \"Now, bhikkhus, suppose that I had eaten, refused more food, had my fill, finished, had enough, had what I needed, and some almsfood was left over to be thrown away. Then two bhikkhus arrived [13] hungry and weak, and I told them: 'Bhikkhus, I have eaten... had what I needed, but there is this almsfood of mine left over to be thrown away. Eat if you like; if you do not eat then I shall throw it away where there is no greenery or drop it into water where there is no life.' Then one bhikkhu thought: 'The Blessed One has eaten... had what he 97 98 Dhammadayada Sutta: Sutta 3 i 14 needed, but there is this almsfood of the Blessed One left over to be thrown away; if we do not eat it the Blessed One will throw it away. . .But this has been said by the Blessed One: \"Bhikkhus, be my heirs in Dhamma, not my heirs in material things.\" Now this almsfood is one of the material things. Suppose that instead of eating this almsfood I pass the night and day hungry and weak.' And instead of eating that almsfood he passed that night and day hungry and weak. Then the second bhikkhu thought: 'The Blessed One has eaten. . .had what he needed, but there is this almsfood of the Blessed One left over to be thrown away. . .Suppose that I eat this almsfood and pass the night and day neither hungry nor weak.' And after eating that almsfood he passed the night and day neither hungry nor weak. Now although that bhikkhu by eating that almsfood passed the night and day neither hungry nor weak, yet the first bhikkhu is more to be respected and com- mended by me. Why is that? Because that will for long conduce to his fewness of wishes, contentment, effacement, easy support, and arousal of energy. 52 Therefore, bhikkhus, be my heirs in Dhamma, not my heirs in material things. Out of compassion for you I have thought: 'How shall my disciples be my heirs in Dhamma, not my heirs in material things?'\" 4. That is what the Blessed One said. Having said this, the Sublime One rose from his seat and went into his dwelling. Soon after he had left, the venerable Sariputta addressed the bhikkhus thus: \"Friends, bhikkhus.\" - \"Friend,\" they replied. [14] The venerable Sariputta said this: 5. \"Friends, in what way do disciples of the Teacher who lives secluded not train in seclusion? And in what way do disciples of the Teacher who lives secluded train in seclusion?\" \"Indeed, friend, we would come from far away to learn from the venerable Sariputta the meaning of this statement. It would be good if the venerable Sariputta would explain the meaning of this statement. Having heard it from him the bhikkhus will remember it.\" \"Then, friends, listen and attend closely to what I shall say.\" \"Yes, friend,\" the bhikkhus replied. The venerable Sariputta said this: 6. \"Friends, in what way do disciples of the Teacher who lives secluded not train in seclusion? Here disciples of the Teacher who lives secluded do not train in seclusion; they do not abandon i 15 Heirs in Dhamma 99 what the Teacher tells them to abandon; they are luxurious and careless, leaders in backsliding, neglectful of seclusion. \"In this the elder bhikkhus are to be blamed for three rea- sons. 53 As disciples of the Teacher who lives secluded they do not train in seclusion: they are to be blamed for this first reason. They do not abandon what the Teacher tells them to abandon: they are to be blamed for this second reason. They are luxurious and careless, leaders in backsliding, neglectful of seclusion: they are to be blamed for this third reason. The elder bhikkhus are to be blamed for these three reasons. \"In this the middle bhikkhus are to be blamed for three rea- sons. As disciples of the Teacher who lives secluded they do not train in seclusion: they are to be blamed for this first reason. They do not abandon what the Teacher tells them to abandon: they are to be blamed for this second reason. They are luxurious and careless, leaders in backsliding, neglectful of seclusion: they are to be blamed for this third reason. The middle bhikkhus are to be blamed for these three reasons. \"In this the new bhikkhus are to be blamed for three reasons. As disciples of the Teacher who lives secluded they do not train in seclusion: they are to be blamed for this first reason. They do not abandon what the Teacher tells them to abandon: they are to be blamed for this second reason. They are luxurious and care- less, leaders in backsliding, neglectful of seclusion: they are to be blamed for this third reason. The new bhikkhus are to be blamed for these three reasons. \"It is in this way that disciples of the Teacher who lives secluded do not train in seclusion. 7. \"In what way, friends, do disciples of the Teacher who lives secluded [15] train in seclusion? Here disciples of the Teacher who lives secluded train in seclusion; they abandon what the Teacher tells them to abandon; they are not luxurious and careless, they are keen to avoid backsliding, and are leaders in seclusion. \"In this the elder bhikkhus are to be commended for three reasons. As disciples of the Teacher who lives secluded they train in seclusion: they are to be commended for this first rea- son. They abandon what the Teacher tells them to abandon: they are to be commended for this second reason. They are not luxurious and careless; they are keen to avoid backsliding and 100 Dhammadayada Sutta: Sutta 3 i 16 are leaders in seclusion: they are to be commended for this third reason. The elder bhikkhus are to be commended for these three reasons. \"In this the middle bhikkhus are to be commended for three reasons. As disciples of the Teacher who lives secluded they train in seclusion: they are to be commended for this first rea- son. They abandon what the Teacher tells them to abandon: they are to be commended for this second reason. They are not luxu- rious and careless; they are keen to avoid backsliding and are leaders in seclusion: they are to be commended for this third reason. The middle bhikkhus are to be commended for these three reasons. \"In this the new bhikkhus are to be commended for three reasons. As disciples of the Teacher who lives secluded they train in seclusion: they are to be commended for this first rea- son. They abandon what the Teacher tells them to abandon: they are to be commended for this second reason. They are not luxurious and careless; they are keen to avoid backsliding and are leaders in seclusion: they are to be commended for this third reason. The new bhikkhus are to be commended for these three reasons. \"It is in this way that disciples of the Teacher who lives secluded train in seclusion. 8. \"Friends, the evil herein is greed and hate. 54 There is a Middle Way for the abandoning of greed and hate, giving vision, giving knowledge, which leads to peace, to direct knowl- edge, to enlightenment, to Nibbana. And what is that Middle Way? It is just this Noble Eightfold Path; that is, right view, right intention, right speech, right action, right livelihood, right effort, right mindfulness, and right concentration. This is the Middle Way giving vision, giving knowledge, which leads to peace, to direct knowledge, to enlightenment, to Nibbana. 55 9-15. \"The evil herein is anger and revenge... contempt and a domineering attitude... envy and avarice... deceit and fraud... ob- stinacy [16] and presumption... conceit and arrogance... vanity and negligence. There is a Middle Way for the abandoning of vanity and negligence, giving vision, giving knowledge, which leads to peace, to direct knowledge, to enlightenment, to Nibbana. And what is that Middle Way? It is just this Noble Eightfold Path; that is, right view, right intention, right speech. Heirs in Dhamma 101 right action, right livelihood, right effort, right mindfulness, and right concentration. This is the Middle Way giving vision, giv- ing knowledge, which leads to peace, to direct knowledge, to enlightenment, to Nibbana.\" That is what the venerable Sariputta said. The bhikkhus were satisfied and delighted in the venerable Sariputta's words. 4 Bhayabherava Sutta Fear and Dread 1. Thus have I heard. On one occasion the Blessed One was liv- ing at SavatthI in Jeta's Grove, Anathapindika's Park. 2. Then the brahmin Janussoni 56 went to the Blessed One and exchanged greetings with him. When this courteous and ami- able talk was finished, he sat down at one side and said: \"Master Gotama, when clansmen have gone forth from the home life into homelessness out of faith in Master Gotama, do they have Master Gotama for their leader, their helper, and their guide? And do these people follow the example of Master Gotama?\" 57 \"That is so, brahmin, that is so. When clansmen have gone forth from the home life into homelessness out of faith in me, they have me for their leader, their helper, and their guide. And these people follow my example.\" \"But, Master Gotama, remote jungle-thicket resting places in the forest are hard to endure, seclusion is hard to practise, and it is hard to enjoy solitude. One would think the jungles must rob a bhikkhu of his mind, if hd has no concentration.\" [17] \"That is so, brahmin, that is so. Remote jungle-thicket resting places in the forest are hard to endure, seclusion is hard to prac- tise, and it is hard to enjoy solitude. One would think the jungles must rob a bhikkhu of his mind, if he has no concentration. 3. \"Before my enlightenment, while I was still only an unen- lightened Bodhisatta, I too considered thus: 'Remote jungle-thick- et resting places in the forest are hard to endure... the jungles must rob a bhikkhu of his mind, if he has no concentration.' 4. \"I considered thus: 'Whenever recluses or brahmins unpuri- fied in bodily conduct resort to remote jungle-thicket resting places in the forest, then owing to the defect of their unpurified bodily conduct these good recluses and brahmins evoke unwholesome fear and dread. But I do not resort to remote jun- 102 i 20 Fear and Dread 103 gle-thicket resting places in the forest unpurified in bodily con- duct. I am purified in bodily conduct. I resort to remote jungle- thicket resting places in the forest as one of the noble ones with bodily conduct purified.' Seeing in myself this purity of bodily conduct, I found great solace in dwelling in the forest. 5-7. \"I considered thus: 'Whenever recluses or brahmins unpu- rified in verbal conduct...unpurified in mental conduct... unpuri- fied in livelihood resort to remote jungle-thicket resting places in the forest.. .they evoke unwholesome fear and dread. But... I am purified in livelihood. I resort to remote jungle-thicket resting places in the forest as one of the noble ones with livelihood puri- fied.' Seeing in myself this purity of livelihood, I found great solace in dwelling in the forest. 8. \"I considered thus: 'Whenever recluses or brahmins who are covetous and full of lust. . .1 am uncovetous. . .' [18] 9. \"'...with a mind of ill will and intentions of hate... I have a mind of loving-kindness . . . ' 10. \"'...overcome by sloth and torpor... I am without sloth and torpor...' 11. \"'...overcome with restless and unpeaceful mind. ..I have a peaceful mind...' 12. .uncertain and doubting. . .1 have gone beyond doubt. 13. '\"[19] . . . given to self-praise and disparagement of others. . .1 am not given to self-praise and disparagement of others . . . ' 14. '\". . .subject to alarm and terror. . .1 am free from trepidation. . .' 15. \"'...desirous of gain, honour, and renown. ..I have few wishes...' 16. .lazy and wanting in energy. . .1 am energetic. . .' 17. '\"...[20] unmindful and not fully aware... I am established in mindfulness . . . ' 18. \"'...unconcentrated and with straying minds. ..I am pos- sessed of concentration...' 19. \"I considered thus: 'Whenever recluses or brahmins devoid of wisdom, drivellers, resort to remote jungle-thicket resting places in the forest, then owing to the defect of their being devoid of wisdom and drivellers these good recluses and brah- mins evoke unwholesome fear and dread. But I do not resort to remote jungle-thicket resting places in the forest devoid of wis- dom, a driveller. I am possessed of wisdom. 58 I resort to remote jungle-thicket resting places in the forest as one of the noble 104 Bhayabherava Sutta: Sutta 4 i 21 ones possessed of wisdom.' Seeing in myself this possession of wisdom, I found great solace in dwelling in the forest. 20. \"I considered thus: 'There are the specially auspicious nights of the fourteenth, the fifteenth, and the eighth of the fort- night. 59 Now what if, on such nights as these, I were to dwell in such awe-inspiring, horrifying abodes as orchard shrines, wood- land shrines, and tree shrines? Perhaps I might encounter that fear and dread.' And later, on such specially auspicious nights as the fourteenth, the fifteenth, and the eighth of the fortnight, I dwelt in such awe-inspiring, horrifying abodes as orchard shrines, woodland shrines, and tree shrines. And while I dwelt there, a wild animal would come up to me, or a peacock [21] would knock off a branch, or the wind would rustle the leaves. I thought: 'What now if this is the fear and dread coming?' I thought: 'Why do I dwell always expecting fear and dread? What if I subdue that fear and dread while keeping the same posture that I am in when it comes upon me?' 60 \"While I walked, the fear and dread came upon me; I neither stood nor sat nor lay down till I had subdued that fear and dread. While I stood, the fear and dread came upon me; I nei- ther walked nor sat nor lay down till I had subdued that fear and dread. While I sat, the fear and dread came upon me; I nei- ther walked nor stood nor lay down till I had subdued that fear and dread. While I lay down, the fear and dread came upon me; I neither walked nor stood nor sat down till I had subdued that fear and dread. 21. \"There are, brahmin 1 , some recluses and brahmins who perceive day when it is night and night when it is day. I say that on their part this is an abiding in delusion. But I perceive night when it is night and day when it is day. Rightly speaking, were it to be said of anyone: 'A being not subject to delusion has appeared in the world for the welfare and happiness of many, out of compassion for the world, for the good, welfare, and hap- piness of gods and humans,' it is of me indeed that rightly speaking this should be said. 22. \"Tireless energy was aroused in me and unremitting mindfulness was established, my body was tranquil and untrou- bled, my mind concentrated and unified. 61 23. \"Quite secluded from sensual pleasures, secluded from unwholesome states, I entered upon and abided in the first i 22 Fear and Dread 1 05 jhana, which is accompanied by applied and sustained thought, with rapture and pleasure bom of seclusion. 62 24. \"With the stilling of applied and sustained thought, I entered upon and abided in the second jhana, which has self- confidence and singleness of mind [22] without applied and sus- tained thought, with rapture and pleasure bom of concentration. 25. \"With the fading away as well of rapture, I abided in equa- nimity, and mindful and fully aware, still feeling pleasure with the body, I entered upon and abided in the third jhana, on account of which noble ones announce: 'He has a pleasant abid- ing who has equanimity and is mindful.' 26. \"With the abandoning of pleasure and pain, and with the previous disappearance of joy and grief, I entered upon and abided in the fourth jhana, which has neither-pain-nor-pleasure and purity of mindfulness due to equanimity. 27. \"When my concentrated mind was thus purified, bright, unblemished, rid of imperfection, malleable, wieldy, steady, and attained to imperturbability, I directed it to knowledge of the rec- ollection of past lives. 63 I recollected my manifold past lives, that is, one birth, two births, three births, four births, five births, ten births, twenty births, thirty births, forty births, fifty births, a hun- dred births, a thousand births, a hundred thousand births, many aeons of world-contraction, many aeons of world-expansion, many aeons of world-contraction and expansion: 'There I was so named, of such a clan, with such an appearance, such was my nutriment, such my experience of pleasure and pain, such my life-term; and passing away from there, I reappeared elsewhere; and there too I was so named, of such a clan, with such an appearance, such was my nutriment, such my experience of pleasure and pain, such my life-term; and passing away from there, I reappeared here.' Thus with their aspects and particulars I recollected my manifold past lives. 28. \"This was the first true knowledge attained by me in the first watch of the night. Ignorance was banished and true knowledge arose, darkness was banished and light arose, as happens in one who abides diligent, ardent, and resolute. 29. \"When my concentrated mind was thus purified, bright, unblemished, rid of imperfection, malleable, wieldy, steady, and attained to imperturbability, I directed it to knowledge of the passing away and reappearance of beings. 64 With the divine eye, 106 Bhayabherava Sutta: Sutta 4 i 23 which is purified and surpasses the human, I saw beings pass- ing away and reappearing, inferior and superior, fair and ugly, fortunate and unfortunate. I understood how beings pass on according to their actions thus: 'These worthy beings who were ill-conducted in body, speech, and mind, revilers of noble ones, wrong in their views, giving effect to wrong view in their actions, on the dissolution of the body, after death, have reap- peared in a state of deprivation, in a bad destination, in perdition, even in hell; but these worthy beings who were well-conducted in body, [23] speech, and mind, not revilers of noble ones, right in their views, giving effect to right view in their actions, on the dissolution of the body, after death, have reappeared in a good destination, even in the heavenly world.' Thus with the divine eye, which is purified and surpasses the human, I saw beings passing away and reappearing, inferior and superior, fair and ugly, fortunate and unfortunate, and I understood how beings pass on according to their actions. 30. \"This was the second true knowledge attained by me in the second watch of the night. Ignorance was banished and true knowledge arose, darkness was banished and light arose, as happens in one who abides diligent, ardent, and resolute. 31. \"When my concentrated mind was thus purified, bright, unblemished, rid of imperfection, malleable, wieldy, steady, and attained to imperturbability, I directed it to knowledge of the destruction of the taints. I directly knew as it actually is: 'This is suffering'; I directly knew as it actually is: 'This is the origin of suffering'; I directly knew as it actually is: 'This is the cessation of suffering'; I directly knew as it actually is: \"This is the way lead- ing to the cessation of suffering.' I directly knew as it actually is: 'These are the taints'; I directly knew as it actually is: 'This is the origin of the taints'; I directly knew as it actually is: \"This is the cessation of the taints'; I directly knew as it actually is: 'This is the way leading to the cessation of the taints.' 65 32. \"When I knew and saw thus, my mind was liberated from the taint of sensual desire, from the taint of being, and from the taint of ignorance. When it was liberated, there came the knowl- edge: 'It is liberated.' 66 I directly knew: 'Birth is destroyed, the holy life has been lived, what had to be done has been done, there is no more coming to any state of being.' 67 i 24 Fear and Dread 107 33. \"This was the third true knowledge attained by me in the third watch of the night. Ignorance was banished and true knowledge arose, darkness was banished and light arose, as happens in one who abides diligent, ardent, and resolute. 34. \"Now, brahmin, it might be that you think: 'Perhaps the recluse Gotama is not free from lust, hate, and delusion even today, which is why he still resorts to remote jungle-thicket rest- ing places in the forest.' But you should not think thus. It is because I see two benefits that I still resort to remote jungle-thicket resting places in the forest: I see a pleasant abiding for myself here and now, and I have compassion for future generations.\" 68 35. \"Indeed, it is because Master Gotama is an Accomplished One, a Fully Enlightened One, that he has compassion for future generations. [24] Magnificent, Master Gotama! Magnificent, Master Gotama! Master Gotama has made the Dhamma clear in many ways, as though he were turning upright what had been overthrown, revealing what was hidden, showing the way to one who was lost, or holding up a lamp in the dark for those with eyesight to see forms. I go to Master Gotama for refuge and to the Dhamma and to the Sangha of bhikkhus. From today let Master Gotama remember me as a lay follower who has gone to him for refuge for life.\" 5 Anangana Sutta Without Blemishes 1. Thus have I heard. On one occasion the Blessed One was liv- ing at SavatthI in Jeta's Grove, Anathapindika's Park. There the venerable Sariputta addressed the bhikkhus thus. \"Friends, bhikkhus.\" - \"Friend,\" they replied. The venerable Sariputta said this: 2. \"Friends, there are these four kinds of persons found exist- ing in the world. 69 What four? Here some person with a blem- ish does not understand it as it actually is thus: T have a blem- ish in myself.' Here some person with a blemish understands it as it actually is thus: T have a blemish in myself/ Here some person with no blemish does not understand it as it actually is thus: T have no blemish in myself.' Here some person with no blemish understands it as it actually is thus: 'I have no blemish in myself.' \"Herein, the person with a blemish who does not understand it as it actually is thus: 'I have a blemish in myself' is called the inferior of these two persons with a blemish. Herein, the person with a blemish who understands it as it actually is thus: 'I have a blemish in myself' is called the superior of these two persons with a blemish. \"Herein, the person with no blemish [25] who does not under- stand it as it actually is thus: 'I have no blemish' is called the inferior of these two persons with no blemish. Herein, the per- son with no blemish who understands it as it actually is thus: 'I have no blemish' is called the superior of these two persons with no blemish.\" 3. When this was said, the venerable Maha Moggallana asked the venerable Sariputta: \"Friend Sariputta, what is the cause and reason why, of these two persons with a blemish, one is called the inferior man and one is called the superior man? What is the 108 Without Blemishes 109 f I cause and reason why, of these two persons with no blemish, one is called the inferior man and one is called the superior man?\" 4. \"Herein, friend, when a person with a blemish does not understand it as it actually is thus: 'I have a blemish in myself/ it can be expected that he will not arouse zeal, make effort, or instigate energy to abandon that blemish, and that he will die with lust, hate, and delusion, with a blemish, with mind defiled. Suppose a bronze dish were brought from a shop or a smithy covered with dirt and stains, and the owners neither used it nor had it cleaned but put it away in a dusty corner. Would the bronze dish thus get more defiled and stained later on?\" - \"Yes, friend.\" - \"So too, friend, when a person with a blemish does not understand it as it actually is thus: 'I have a blemish in myself,' it can be expected . . .that he will die. . .with mind defiled. 5. \"Herein, when a person with a blemish understands it as it actually is thus: 'I have a blemish in myself/ it can be expected that he will arouse zeal, make effort, and instigate energy to abandon that blemish, and that he will die without lust, hate, and delusion, without blemish, with mind undefiled. Suppose a bronze dish were brought from a shop or a smithy covered with dirt and stains, and the owners had it cleaned and did not put it in a dusty corner. [26] Would the bronze dish thus get cleaner and brighter later on?\" - \"Yes, friend.\" - \"So too, friend, when a person with a blemish understands it as it actually is thus: 'I have a blemish in myself/ it can be expected... that he will die. . .with mind undefiled. 6. \"Herein, when a person with no blemish does not under- stand it as it actually is thus: 'I have no blemish in myself/ it can be expected that he will give attention to the sign of the beauti- ful, 70 that by his doing so lust will infect his mind, and that he will die with lust, hate, and delusion, with a blemish, with mind defiled. Suppose a bronze dish were brought from a shop or smithy clean and bright, and the owners neither used it nor had it cleaned but put it in a dusty corner. Would the bronze dish thus get more defiled and more stained later on?\" - \"Yes, friend.\" - \"So too, friend, when a person with no blemish does not understand it as it actually is thus: 'I have no blemish in myself/ it can be expected that he will die. . .with mind defiled. 7. \"Herein, when a person with no blemish understands it as it actually is thus: 'I have no blemish in myself, ' it can be expected 110 Anangana Sutta: Sutta 5 i 27 that he will not give attention to the sign of the beautiful, that by his not doing so lust will not infect his mind, and that he will die without lust, hate, and delusion, without blemish, with mind undefiled. Suppose a bronze dish were brought from a shop or smithy clean and bright, and the owners used it and had it cleaned and did not put it in a dusty corner. Would the bronze dish thus get cleaner and brighter later on?\" - \"Yes, friend.\" - \"So too, friend, when a person with no blemish understands it as it actually is thus: 'I have no blemish in myself/ it can be expected. . .that he will die. . .with mind undefiled. [27] 8. \"This is the cause and reason why, of these two persons with a blemish, one is called the inferior man and one is called the superior man. This is the cause and reason why, of these two persons with no blemish, one is called the inferior man and one is called the superior man. 9. \"'Blemish, blemish,' is said, friend, but what is this word 'blemish' a term for? 'Blemish/ friend, is a term for the spheres of evil unwholesome wishes. 10. \"It is possible that a bhikkhu here might wish: 'If I commit an offence, let the bhikkhus not know that I have committed an offence.’ And it is possible that the bhikkhus come to know that that bhikkhu has committed an offence. So he is angry and bitter thus: 'The bhikkhus know I have committed an offence.' The anger and bitterness are both a blemish. 11. \"It is possible that a bhikkhu here might wish: 'I have com- mitted an offence. The bhikkhus should admonish me in private, not in the midst of the Sa’ngha.' And it is possible that the bhikkhus admonish that bhikkhu in the midst of the Sangha, not in private. So he is angry and bitter thus: 'The bhikkhus admon- ish me in the midst of the Sangha, not in private.' The anger and bitterness are both a blemish. 12. \"It is possible that a bhikkhu here might wish: 'I have committed an offence. A person who is my equal should admonish me, not a person who is not my equal.' And it is pos- sible that a person not his equal admonishes him, not a person his equal. So he is angry and bitter thus: 'A person not my equal admonishes me, not a person my equal.' The anger and bitterness are both a blemish. 13. \"It is possible that a bhikkhu here might wish: 'Oh that the Teacher might teach the Dhamma to the bhikkhus by asking a Without Blem ishes 111 i 30 series of questions of me, not of some other bhikkhu!' And it is possible that the Teacher teaches the Dhamma to the bhikkhus By asking a series of questions of some other bhikkhu, [28] not of that bhikkhu. So he is angry and bitter thus: 'The Teacher teaches the Dhamma to the bhikkhus by asking a series of ques- tions of some other bhikkhu, not of me.' The anger and bitter- ness are both a blemish. 14. \"It is possible that a bhikkhu here might wish: 'Oh that the bhikkhus might\n"
     ]
    }
   ],
   "source": [
    "text = get_n_words_from_text(large_text, number_of_words=10000) \n",
    "print(text)"
   ],
   "metadata": {
    "collapsed": false,
    "ExecuteTime": {
     "end_time": "2024-05-03T11:32:04.738401Z",
     "start_time": "2024-05-03T11:32:04.729059Z"
    }
   },
   "execution_count": 8
  },
  {
   "cell_type": "code",
   "outputs": [],
   "source": [],
   "metadata": {
    "collapsed": false
   },
   "execution_count": null
  }
 ],
 "metadata": {
  "kernelspec": {
   "display_name": "Python 3",
   "language": "python",
   "name": "python3"
  },
  "language_info": {
   "codemirror_mode": {
    "name": "ipython",
    "version": 2
   },
   "file_extension": ".py",
   "mimetype": "text/x-python",
   "name": "python",
   "nbconvert_exporter": "python",
   "pygments_lexer": "ipython2",
   "version": "2.7.6"
  }
 },
 "nbformat": 4,
 "nbformat_minor": 0
}

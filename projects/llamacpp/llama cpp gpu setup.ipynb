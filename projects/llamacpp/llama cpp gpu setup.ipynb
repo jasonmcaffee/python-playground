{
 "cells": [
  {
   "metadata": {},
   "cell_type": "markdown",
   "source": "",
   "id": "d32860c5c0901c06"
  },
  {
   "metadata": {},
   "cell_type": "markdown",
   "source": [
    "https://michaelriedl.com/2023/09/10/llama2-install-gpu.html\n",
    "\n",
    "C:\\Program Files\\NVIDIA GPU Computing Toolkit\\CUDA\\v12.4\\extras\\visual_studio_integration\\MSBuildExtensions\n",
    "\n"
   ],
   "id": "d19f03bb68e5534d"
  },
  {
   "metadata": {
    "ExecuteTime": {
     "end_time": "2024-05-05T19:26:19.392427Z",
     "start_time": "2024-05-05T19:18:32.473571Z"
    }
   },
   "cell_type": "code",
   "source": [
    "#Make sure to set CUDA_HOME in your system environment variables\n",
    "!set FORCE_CMAKE=1\n",
    "!set CMAKE_ARGS=-DLLAMA_CUBLAS=on\n",
    "# !pip install --upgrade --force-reinstall llama-cpp-python --no-cache-dir\n",
    "# !set CMAKE_ARGS=\"-DLLAMA_CUBLAS=on\" && set FORCE_CMAKE=1 && pip install --upgrade --force-reinstall llama-cpp-python --no-cache-dir\n",
    "# !cmd /v /c \"set CMAKE_ARGS=\"-DLLAMA_CUBLAS=on\" && set FORCE_CMAKE=1 && pip install --upgrade --force-reinstall llama-cpp-python --no-cache-dir\"\n",
    "!cmd /v /c \"set CMAKE_ARGS=-DLLAMA_CUBLAS=on && set FORCE_CMAKE=1 && pip install --upgrade --force-reinstall llama-cpp-python --no-cache-dir\"\n",
    "\n"
   ],
   "id": "1a38c46408898690",
   "execution_count": 1,
   "outputs": []
  },
  {
   "metadata": {
    "ExecuteTime": {
     "end_time": "2024-05-05T19:26:56.843382Z",
     "start_time": "2024-05-05T19:26:43.801039Z"
    }
   },
   "cell_type": "code",
   "source": [
    "from llama_cpp import Llama\n",
    "max_tokens = 32000\n",
    "# llama_llm = Llama(model_path=\"/Volumes/4Tera_SSD_2022/llm_models/llama-2-7b-chat.Q5_K_M.gguf\", chat_format=\"llama-2\")\n",
    "# model_file_path = \"/Users/jmcaffee/llm_models/Llama-3-8B-Instruct-32k-v0.1.Q4_K_M.gguf\"\n",
    "model_file_path = \"C:\\shared-drive\\llm_models\\Llama-3-8B-Instruct-32k-v0.1.Q4_K_M.gguf\"\n",
    "llm = Llama(model_path=model_file_path, chat_format=\"llama-3\", n_ctx=max_tokens,  n_gpu_layers=-1)\n",
    "# llm.verbose = False # don't print a bunch of stuff\n",
    "# llm = Llama(model_path=\"/Volumes/4Tera_SSD_2022/llm_models/llama-2-13b-chat.Q5_K_M.gguf\", chat_format=\"llama-2\", n_ctx=2048) # n_ctx=2048\n",
    "# function_llm = Llama(model_path=\"/Volumes/4Tera_SSD_2022/llm_models/functionary-7b-v1.Q5_K.gguf\", chat_format=\"llama-2\") # n_ctx=2048"
   ],
   "id": "cbef03d28f4c5a1c",
   "execution_count": 2,
   "outputs": []
  },
  {
   "metadata": {
    "ExecuteTime": {
     "end_time": "2024-05-05T18:56:17.205232Z",
     "start_time": "2024-05-05T18:56:17.176726Z"
    }
   },
   "cell_type": "code",
   "source": [
    "import os \n",
    "# !set TACOS=123\n",
    "# !echo %TACOS%\n",
    "# !cmd /c \"set TACOS=123 && echo %TACOS%\"\n",
    "# !set TACOS=123 && echo %TACOS% \n",
    "!cmd /v /c \"set TACOS=123 && echo !TACOS!\""
   ],
   "id": "66dde9a99cfdc45a",
   "execution_count": 15,
   "outputs": []
  },
  {
   "metadata": {
    "ExecuteTime": {
     "end_time": "2024-05-05T18:57:24.292460Z",
     "start_time": "2024-05-05T18:57:24.250893Z"
    }
   },
   "cell_type": "code",
   "source": [
    "!set CMAKE_ARGS=-DLLAMA_CUBLAS=on\n",
    "!cmd /v /c \"echo !CMAKE_ARGS!\"\n"
   ],
   "id": "6f2799d00b7dc91a",
   "execution_count": 16,
   "outputs": []
  },
  {
   "metadata": {},
   "cell_type": "code",
   "execution_count": null,
   "source": "",
   "id": "f7c2b7283a52f14",
   "outputs": []
  }
 ],
 "metadata": {
  "kernelspec": {
   "display_name": "Python 3",
   "language": "python",
   "name": "python3"
  },
  "language_info": {
   "codemirror_mode": {
    "name": "ipython",
    "version": 2
   },
   "file_extension": ".py",
   "mimetype": "text/x-python",
   "name": "python",
   "nbconvert_exporter": "python",
   "pygments_lexer": "ipython2",
   "version": "2.7.6"
  }
 },
 "nbformat": 4,
 "nbformat_minor": 5
}

{
 "cells": [
  {
   "cell_type": "code",
   "id": "initial_id",
   "metadata": {
    "collapsed": true,
    "ExecuteTime": {
     "end_time": "2024-05-06T14:00:29.563967Z",
     "start_time": "2024-05-06T14:00:29.553020Z"
    }
   },
   "source": "5+5",
   "outputs": [
    {
     "data": {
      "text/plain": [
       "10"
      ]
     },
     "execution_count": 1,
     "metadata": {},
     "output_type": "execute_result"
    }
   ],
   "execution_count": 1
  },
  {
   "metadata": {
    "ExecuteTime": {
     "end_time": "2024-05-06T14:01:23.331033Z",
     "start_time": "2024-05-06T14:01:23.299666Z"
    }
   },
   "cell_type": "code",
   "source": [
    "%cd \n",
    "!dir"
   ],
   "id": "60982b57aa82be59",
   "outputs": [
    {
     "name": "stdout",
     "output_type": "stream",
     "text": [
      " Volume in drive C has no label.\n",
      " Volume Serial Number is B622-4C9D\n",
      "\n",
      " Directory of C:\\Users\\jason\n",
      "\n",
      "05/05/2024  05:02 PM    <DIR>          .\n",
      "05/05/2024  05:02 PM    <DIR>          ..\n",
      "05/05/2024  09:24 AM    <DIR>          .conda\n",
      "05/05/2024  09:15 AM                42 .condarc\n",
      "05/04/2024  02:37 PM    <DIR>          .dotnet\n",
      "05/05/2024  12:36 PM    <DIR>          .insomniac\n",
      "05/05/2024  09:12 AM    <DIR>          .ipynb_checkpoints\n",
      "05/04/2024  03:55 PM    <DIR>          .ipython\n",
      "05/05/2024  09:36 AM    <DIR>          .jupyter\n",
      "11/13/2023  04:11 PM    <DIR>          .pycharm_helpers\n",
      "05/04/2024  03:35 PM    <DIR>          3D Objects\n",
      "05/05/2024  02:22 PM    <DIR>          ai_overlay_tmp\n",
      "05/05/2024  06:43 AM    <DIR>          ansel\n",
      "05/04/2024  03:35 PM    <DIR>          Contacts\n",
      "05/05/2024  03:09 PM    <DIR>          Desktop\n",
      "05/05/2024  12:35 PM    <DIR>          Documents\n",
      "05/05/2024  07:27 PM    <DIR>          Downloads\n",
      "05/04/2024  03:35 PM    <DIR>          Favorites\n",
      "05/04/2024  03:35 PM    <DIR>          Links\n",
      "05/04/2024  03:35 PM    <DIR>          Music\n",
      "05/04/2024  07:31 PM    <DIR>          OneDrive\n",
      "05/04/2024  03:35 PM    <DIR>          Pictures\n",
      "05/04/2024  03:35 PM    <DIR>          Saved Games\n",
      "05/04/2024  03:35 PM    <DIR>          Searches\n",
      "05/05/2024  07:00 AM    <DIR>          source\n",
      "05/04/2024  07:24 PM    <DIR>          test\n",
      "05/05/2024  09:13 AM             4,666 Untitled.ipynb\n",
      "05/05/2024  09:14 AM             1,000 Untitled1.ipynb\n",
      "05/06/2024  06:46 AM    <DIR>          Videos\n",
      "               3 File(s)          5,708 bytes\n",
      "              26 Dir(s)  1,712,823,140,352 bytes free\n"
     ]
    }
   ],
   "execution_count": 2
  },
  {
   "metadata": {},
   "cell_type": "code",
   "outputs": [],
   "execution_count": null,
   "source": "",
   "id": "ecbac2f18fc5848e"
  }
 ],
 "metadata": {
  "kernelspec": {
   "display_name": "Python 3",
   "language": "python",
   "name": "python3"
  },
  "language_info": {
   "codemirror_mode": {
    "name": "ipython",
    "version": 2
   },
   "file_extension": ".py",
   "mimetype": "text/x-python",
   "name": "python",
   "nbconvert_exporter": "python",
   "pygments_lexer": "ipython2",
   "version": "2.7.6"
  }
 },
 "nbformat": 4,
 "nbformat_minor": 5
}

{
 "cells": [
  {
   "metadata": {
    "ExecuteTime": {
     "end_time": "2024-05-06T14:47:37.826790Z",
     "start_time": "2024-05-06T14:47:33.753140Z"
    }
   },
   "cell_type": "code",
   "source": "!pip install huggingface-cli",
   "id": "a7cee7a296448ca1",
   "outputs": [
    {
     "name": "stdout",
     "output_type": "stream",
     "text": [
      "Collecting huggingface-cli\n",
      "  Downloading huggingface_cli-0.1-py3-none-any.whl.metadata (117 bytes)\n",
      "Downloading huggingface_cli-0.1-py3-none-any.whl (1.0 kB)\n",
      "Installing collected packages: huggingface-cli\n",
      "Successfully installed huggingface-cli-0.1\n"
     ]
    }
   ],
   "execution_count": 8
  },
  {
   "metadata": {
    "ExecuteTime": {
     "end_time": "2024-05-06T14:59:33.472089Z",
     "start_time": "2024-05-06T14:59:32.422736Z"
    }
   },
   "cell_type": "code",
   "source": " !huggingface-cli login --token {your token}",
   "id": "830146445883fcb",
   "outputs": [
    {
     "name": "stdout",
     "output_type": "stream",
     "text": [
      "The token has not been saved to the git credentials helper. Pass `add_to_git_credential=True` in this function directly or `--add-to-git-credential` if using via `huggingface-cli` if you want to set the git credential as well.\n",
      "Token is valid (permission: read).\n",
      "Your token has been saved to C:\\Users\\jason\\.cache\\huggingface\\token\n",
      "Login successful\n"
     ]
    }
   ],
   "execution_count": 12
  },
  {
   "metadata": {
    "ExecuteTime": {
     "start_time": "2024-05-06T19:03:56.751132Z"
    }
   },
   "cell_type": "code",
   "source": [
    "# !huggingface-cli download turboderp/Mistral-7B-instruct-exl2 --revision 4.0bpw --local-dir C:\\shared-drive\\llm_models\n",
    "# !huggingface-cli download meta-llama/Meta-Llama-3-70B-Instruct --local-dir C:\\shared-drive\\llm_models\\llama-3-70B #BAD use exl2 format\n",
    "!huggingface-cli download crusoeai/dolphin2.9-llama3-70b-2.25bpw-exl2 --local-dir C:\\shared-drive\\llm_models\\crusoeai/dolphin2.9-llama3-70b-2.25bpw-exl2"
   ],
   "id": "a87356ac1cd89278",
   "outputs": [],
   "execution_count": null
  },
  {
   "cell_type": "code",
   "id": "initial_id",
   "metadata": {
    "collapsed": true,
    "ExecuteTime": {
     "end_time": "2024-05-06T21:54:57.319693Z",
     "start_time": "2024-05-06T21:53:49.592965Z"
    }
   },
   "source": [
    "%cd C:\\shared-drive\\dev\\python-playground\\projects\\exllama\\exllamav2\n",
    "!dir\n",
    "# !python examples/chat.py -m C:\\shared-drive\\llm_models\\Meta-Llama-3-70B-Instruct.Q3_K_M.gguf -mode llama -pt -ncf -ngram\n",
    "# !python examples/chat.py -m C:\\shared-drive\\llm_models\\dolphin2.9-llama3-70b-4.5bpw-exl2 -mode llama -pt -ncf -ngram\n",
    "!python examples/chat.py -m C:\\shared-drive\\llm_models\\crusoeai\\dolphin2.9-llama3-70b-2.25bpw-exl2 -mode llama -pt -ncf -ngram"
   ],
   "outputs": [
    {
     "name": "stdout",
     "output_type": "stream",
     "text": [
      "C:\\shared-drive\\dev\\python-playground\\projects\\exllama\\exllamav2\n"
     ]
    },
    {
     "name": "stderr",
     "output_type": "stream",
     "text": [
      "C:\\Users\\jason\\AppData\\Local\\Programs\\Python\\Python312\\Lib\\site-packages\\IPython\\core\\magics\\osm.py:417: UserWarning: This is now an optional IPython functionality, setting dhist requires you to install the `pickleshare` library.\n",
      "  self.shell.db['dhist'] = compress_dhist(dhist)[-100:]\n"
     ]
    },
    {
     "name": "stdout",
     "output_type": "stream",
     "text": [
      " Volume in drive C has no label.\n",
      " Volume Serial Number is B622-4C9D\n",
      "\n",
      " Directory of C:\\shared-drive\\dev\\python-playground\\projects\\exllama\\exllamav2\n",
      "\n",
      "05/06/2024  07:03 AM    <DIR>          .\n",
      "05/06/2024  07:03 AM    <DIR>          ..\n",
      "05/06/2024  07:02 AM    <DIR>          .github\n",
      "05/06/2024  07:02 AM               127 .gitignore\n",
      "05/06/2024  07:07 AM    <DIR>          build\n",
      "05/06/2024  07:02 AM    <DIR>          conversion\n",
      "05/06/2024  07:02 AM            10,284 convert.py\n",
      "05/06/2024  07:02 AM    <DIR>          doc\n",
      "05/06/2024  07:39 AM    <DIR>          examples\n",
      "05/06/2024  07:02 AM    <DIR>          exllamav2\n",
      "05/06/2024  07:03 AM    <DIR>          exllamav2.egg-info\n",
      "05/06/2024  07:02 AM             1,053 LICENSE\n",
      "05/06/2024  07:02 AM                73 MANIFEST.in\n",
      "05/06/2024  07:02 AM             8,261 model_diff.py\n",
      "05/06/2024  07:02 AM             7,551 README.md\n",
      "05/06/2024  07:02 AM               150 requirements.txt\n",
      "05/06/2024  07:02 AM             4,688 setup.py\n",
      "05/06/2024  07:02 AM    <DIR>          tests\n",
      "05/06/2024  07:02 AM            19,871 test_inference.py\n",
      "05/06/2024  07:02 AM    <DIR>          util\n",
      "               9 File(s)         52,058 bytes\n",
      "              11 Dir(s)  1,360,186,486,784 bytes free\n",
      "^C\n"
     ]
    }
   ],
   "execution_count": 2
  },
  {
   "metadata": {},
   "cell_type": "code",
   "outputs": [],
   "execution_count": null,
   "source": "",
   "id": "ecbac2f18fc5848e"
  }
 ],
 "metadata": {
  "kernelspec": {
   "display_name": "Python 3",
   "language": "python",
   "name": "python3"
  },
  "language_info": {
   "codemirror_mode": {
    "name": "ipython",
    "version": 2
   },
   "file_extension": ".py",
   "mimetype": "text/x-python",
   "name": "python",
   "nbconvert_exporter": "python",
   "pygments_lexer": "ipython2",
   "version": "2.7.6"
  }
 },
 "nbformat": 4,
 "nbformat_minor": 5
}

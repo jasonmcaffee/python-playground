{
 "cells": [
  {
   "cell_type": "code",
   "execution_count": 3,
   "metadata": {
    "collapsed": true
   },
   "outputs": [
    {
     "name": "stdout",
     "output_type": "stream",
     "text": [
      "couldn't read: akoya-docs-cleaned-up/.DS_Store\n"
     ]
    }
   ],
   "source": [
    "import os\n",
    "\n",
    "def get_all_file_content_as_string(directory):\n",
    "    complete_content = ''\n",
    "    for filename in os.listdir(directory):\n",
    "        filepath = os.path.join(directory, filename)\n",
    "        # print(\"reading: \" + filepath)\n",
    "        try:\n",
    "            with open(filepath, 'r', encoding='utf-8') as file:\n",
    "                content = file.read()\n",
    "\n",
    "            complete_content += \"\\n\" + content\n",
    "        except:\n",
    "            print(\"couldn't read: \" + filepath)\n",
    "    return complete_content\n",
    "\n",
    "def read_files_and_combine_to_new_file(directory, new_filepath):\n",
    "    content = get_all_file_content_as_string(directory)\n",
    "    with open(new_filepath, 'w', encoding='utf-8') as file:\n",
    "        file.write(content)\n",
    "\n",
    "read_files_and_combine_to_new_file(\"akoya-docs-cleaned-up\", \"akoya-docs-complete.html\")"
   ]
  },
  {
   "cell_type": "code",
   "execution_count": null,
   "outputs": [],
   "source": [],
   "metadata": {
    "collapsed": false
   }
  }
 ],
 "metadata": {
  "kernelspec": {
   "display_name": "Python 3",
   "language": "python",
   "name": "python3"
  },
  "language_info": {
   "codemirror_mode": {
    "name": "ipython",
    "version": 2
   },
   "file_extension": ".py",
   "mimetype": "text/x-python",
   "name": "python",
   "nbconvert_exporter": "python",
   "pygments_lexer": "ipython2",
   "version": "2.7.6"
  }
 },
 "nbformat": 4,
 "nbformat_minor": 0
}

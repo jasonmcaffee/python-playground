{
 "cells": [
  {
   "cell_type": "code",
   "execution_count": 2,
   "id": "initial_id",
   "metadata": {
    "collapsed": true,
    "ExecuteTime": {
     "end_time": "2024-01-23T23:43:49.560082Z",
     "start_time": "2024-01-23T23:43:30.992887Z"
    }
   },
   "outputs": [
    {
     "name": "stdout",
     "output_type": "stream",
     "text": [
      "Collecting lancedb\r\n",
      "  Downloading lancedb-0.5.1-py3-none-any.whl (89 kB)\r\n",
      "\u001B[2K     \u001B[90m━━━━━━━━━━━━━━━━━━━━━━━━━━━━━━━━━━━━━━━\u001B[0m \u001B[32m89.3/89.3 kB\u001B[0m \u001B[31m588.6 kB/s\u001B[0m eta \u001B[36m0:00:00\u001B[0ma \u001B[36m0:00:01\u001B[0m\r\n",
      "\u001B[?25hCollecting ratelimiter~=1.0\r\n",
      "  Downloading ratelimiter-1.2.0.post0-py3-none-any.whl (6.6 kB)\r\n",
      "Collecting retry>=0.9.2\r\n",
      "  Downloading retry-0.9.2-py2.py3-none-any.whl (8.0 kB)\r\n",
      "Collecting pylance==0.9.7\r\n",
      "  Downloading pylance-0.9.7-cp38-abi3-macosx_10_15_x86_64.whl (17.7 MB)\r\n",
      "\u001B[2K     \u001B[90m━━━━━━━━━━━━━━━━━━━━━━━━━━━━━━━━━━━━━━━━\u001B[0m \u001B[32m17.7/17.7 MB\u001B[0m \u001B[31m5.5 MB/s\u001B[0m eta \u001B[36m0:00:00\u001B[0m00:01\u001B[0m00:01\u001B[0m\r\n",
      "\u001B[?25hCollecting semver>=3.0\r\n",
      "  Downloading semver-3.0.2-py3-none-any.whl (17 kB)\r\n",
      "Requirement already satisfied: pyyaml>=6.0 in /Users/jmcaffee/git/python-playground-v2/venv/lib/python3.9/site-packages (from lancedb) (6.0.1)\r\n",
      "Requirement already satisfied: click>=8.1.7 in /Users/jmcaffee/git/python-playground-v2/venv/lib/python3.9/site-packages (from lancedb) (8.1.7)\r\n",
      "Requirement already satisfied: requests>=2.31.0 in /Users/jmcaffee/git/python-playground-v2/venv/lib/python3.9/site-packages (from lancedb) (2.31.0)\r\n",
      "Requirement already satisfied: overrides>=0.7 in /Users/jmcaffee/git/python-playground-v2/venv/lib/python3.9/site-packages (from lancedb) (7.4.0)\r\n",
      "Collecting deprecation\r\n",
      "  Downloading deprecation-2.1.0-py2.py3-none-any.whl (11 kB)\r\n",
      "Requirement already satisfied: cachetools in /Users/jmcaffee/git/python-playground-v2/venv/lib/python3.9/site-packages (from lancedb) (5.3.2)\r\n",
      "Requirement already satisfied: attrs>=21.3.0 in /Users/jmcaffee/git/python-playground-v2/venv/lib/python3.9/site-packages (from lancedb) (23.1.0)\r\n",
      "Requirement already satisfied: pydantic>=1.10 in /Users/jmcaffee/git/python-playground-v2/venv/lib/python3.9/site-packages (from lancedb) (1.10.13)\r\n",
      "Requirement already satisfied: tqdm>=4.27.0 in /Users/jmcaffee/git/python-playground-v2/venv/lib/python3.9/site-packages (from lancedb) (4.66.1)\r\n",
      "Requirement already satisfied: numpy>=1.22 in /Users/jmcaffee/git/python-playground-v2/venv/lib/python3.9/site-packages (from pylance==0.9.7->lancedb) (1.26.2)\r\n",
      "Collecting pyarrow>=12\r\n",
      "  Downloading pyarrow-15.0.0-cp39-cp39-macosx_10_15_x86_64.whl (27.1 MB)\r\n",
      "\u001B[2K     \u001B[90m━━━━━━━━━━━━━━━━━━━━━━━━━━━━━━━━━━━━━━━━\u001B[0m \u001B[32m27.1/27.1 MB\u001B[0m \u001B[31m15.7 MB/s\u001B[0m eta \u001B[36m0:00:00\u001B[0m00:01\u001B[0m00:01\u001B[0m\r\n",
      "\u001B[?25hRequirement already satisfied: typing-extensions>=4.2.0 in /Users/jmcaffee/git/python-playground-v2/venv/lib/python3.9/site-packages (from pydantic>=1.10->lancedb) (4.9.0)\r\n",
      "Requirement already satisfied: certifi>=2017.4.17 in /Users/jmcaffee/git/python-playground-v2/venv/lib/python3.9/site-packages (from requests>=2.31.0->lancedb) (2023.11.17)\r\n",
      "Requirement already satisfied: idna<4,>=2.5 in /Users/jmcaffee/git/python-playground-v2/venv/lib/python3.9/site-packages (from requests>=2.31.0->lancedb) (3.6)\r\n",
      "Requirement already satisfied: charset-normalizer<4,>=2 in /Users/jmcaffee/git/python-playground-v2/venv/lib/python3.9/site-packages (from requests>=2.31.0->lancedb) (3.3.2)\r\n",
      "Requirement already satisfied: urllib3<3,>=1.21.1 in /Users/jmcaffee/git/python-playground-v2/venv/lib/python3.9/site-packages (from requests>=2.31.0->lancedb) (1.26.18)\r\n",
      "Collecting py<2.0.0,>=1.4.26\r\n",
      "  Using cached py-1.11.0-py2.py3-none-any.whl (98 kB)\r\n",
      "Requirement already satisfied: decorator>=3.4.2 in /Users/jmcaffee/git/python-playground-v2/venv/lib/python3.9/site-packages (from retry>=0.9.2->lancedb) (5.1.1)\r\n",
      "Requirement already satisfied: packaging in /Users/jmcaffee/git/python-playground-v2/venv/lib/python3.9/site-packages (from deprecation->lancedb) (23.2)\r\n",
      "Installing collected packages: ratelimiter, semver, pyarrow, py, deprecation, retry, pylance, lancedb\r\n",
      "Successfully installed deprecation-2.1.0 lancedb-0.5.1 py-1.11.0 pyarrow-15.0.0 pylance-0.9.7 ratelimiter-1.2.0.post0 retry-0.9.2 semver-3.0.2\r\n",
      "\r\n",
      "\u001B[1m[\u001B[0m\u001B[34;49mnotice\u001B[0m\u001B[1;39;49m]\u001B[0m\u001B[39;49m A new release of pip available: \u001B[0m\u001B[31;49m22.2.2\u001B[0m\u001B[39;49m -> \u001B[0m\u001B[32;49m23.3.2\u001B[0m\r\n",
      "\u001B[1m[\u001B[0m\u001B[34;49mnotice\u001B[0m\u001B[1;39;49m]\u001B[0m\u001B[39;49m To update, run: \u001B[0m\u001B[32;49mpip install --upgrade pip\u001B[0m\r\n"
     ]
    }
   ],
   "source": [
    "!pip install lancedb"
   ]
  },
  {
   "cell_type": "markdown",
   "source": [],
   "metadata": {
    "collapsed": false
   },
   "id": "1a7298a79a47180e"
  },
  {
   "cell_type": "code",
   "execution_count": 1,
   "outputs": [
    {
     "name": "stdout",
     "output_type": "stream",
     "text": [
      "hello\n"
     ]
    }
   ],
   "source": [
    "print('hello')"
   ],
   "metadata": {
    "collapsed": false,
    "ExecuteTime": {
     "end_time": "2024-01-23T23:43:26.587430Z",
     "start_time": "2024-01-23T23:43:26.577445Z"
    }
   },
   "id": "764be9d60cae5da"
  },
  {
   "cell_type": "code",
   "execution_count": 3,
   "outputs": [],
   "source": [
    "import lancedb\n",
    "\n",
    "uri = \"data/sample-lancedb\"\n",
    "db = lancedb.connect(uri)\n",
    "table = db.create_table(\"my_table\",\n",
    "                         data=[{\"vector\": [3.1, 4.1], \"item\": \"foo\", \"price\": 10.0},\n",
    "                               {\"vector\": [5.9, 26.5], \"item\": \"bar\", \"price\": 20.0}])\n",
    "result = table.search([100, 100]).limit(2).to_pandas()"
   ],
   "metadata": {
    "collapsed": false,
    "ExecuteTime": {
     "end_time": "2024-01-23T23:44:42.334279Z",
     "start_time": "2024-01-23T23:44:29.682157Z"
    }
   },
   "id": "d310da5a7db77803"
  },
  {
   "cell_type": "code",
   "execution_count": 4,
   "outputs": [
    {
     "name": "stdout",
     "output_type": "stream",
     "text": [
      "        vector item  price     _distance\n",
      "0  [5.9, 26.5]  bar   20.0  14257.059570\n",
      "1   [3.1, 4.1]  foo   10.0  18586.421875\n"
     ]
    }
   ],
   "source": [
    "print(result)"
   ],
   "metadata": {
    "collapsed": false,
    "ExecuteTime": {
     "end_time": "2024-01-23T23:44:49.568883Z",
     "start_time": "2024-01-23T23:44:49.541584Z"
    }
   },
   "id": "34ccf355593604ad"
  },
  {
   "cell_type": "code",
   "execution_count": null,
   "outputs": [],
   "source": [],
   "metadata": {
    "collapsed": false
   },
   "id": "b0d4880bd14c84e2"
  }
 ],
 "metadata": {
  "kernelspec": {
   "display_name": "Python 3",
   "language": "python",
   "name": "python3"
  },
  "language_info": {
   "codemirror_mode": {
    "name": "ipython",
    "version": 2
   },
   "file_extension": ".py",
   "mimetype": "text/x-python",
   "name": "python",
   "nbconvert_exporter": "python",
   "pygments_lexer": "ipython2",
   "version": "2.7.6"
  }
 },
 "nbformat": 4,
 "nbformat_minor": 5
}

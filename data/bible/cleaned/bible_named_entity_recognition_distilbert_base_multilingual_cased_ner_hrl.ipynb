{
 "nbformat": 4,
 "nbformat_minor": 0,
 "metadata": {
  "colab": {
   "provenance": [],
   "gpuType": "T4"
  },
  "kernelspec": {
   "name": "python3",
   "display_name": "Python 3"
  },
  "language_info": {
   "name": "python"
  },
  "accelerator": "GPU"
 },
 "cells": [
  {
   "cell_type": "code",
   "execution_count": 1,
   "metadata": {
    "colab": {
     "base_uri": "https://localhost:8080/"
    },
    "id": "2pZzDMFmeIpu",
    "outputId": "52578ba2-263c-42f1-b798-60784e23c5b8",
    "pycharm": {
     "name": "#%%\n"
    }
   },
   "outputs": [
    {
     "output_type": "stream",
     "name": "stdout",
     "text": [
      "Requirement already satisfied: transformers in /usr/local/lib/python3.10/dist-packages (4.35.2)\n",
      "Requirement already satisfied: filelock in /usr/local/lib/python3.10/dist-packages (from transformers) (3.13.1)\n",
      "Requirement already satisfied: huggingface-hub<1.0,>=0.16.4 in /usr/local/lib/python3.10/dist-packages (from transformers) (0.19.3)\n",
      "Requirement already satisfied: numpy>=1.17 in /usr/local/lib/python3.10/dist-packages (from transformers) (1.23.5)\n",
      "Requirement already satisfied: packaging>=20.0 in /usr/local/lib/python3.10/dist-packages (from transformers) (23.2)\n",
      "Requirement already satisfied: pyyaml>=5.1 in /usr/local/lib/python3.10/dist-packages (from transformers) (6.0.1)\n",
      "Requirement already satisfied: regex!=2019.12.17 in /usr/local/lib/python3.10/dist-packages (from transformers) (2023.6.3)\n",
      "Requirement already satisfied: requests in /usr/local/lib/python3.10/dist-packages (from transformers) (2.31.0)\n",
      "Requirement already satisfied: tokenizers<0.19,>=0.14 in /usr/local/lib/python3.10/dist-packages (from transformers) (0.15.0)\n",
      "Requirement already satisfied: safetensors>=0.3.1 in /usr/local/lib/python3.10/dist-packages (from transformers) (0.4.0)\n",
      "Requirement already satisfied: tqdm>=4.27 in /usr/local/lib/python3.10/dist-packages (from transformers) (4.66.1)\n",
      "Requirement already satisfied: fsspec>=2023.5.0 in /usr/local/lib/python3.10/dist-packages (from huggingface-hub<1.0,>=0.16.4->transformers) (2023.6.0)\n",
      "Requirement already satisfied: typing-extensions>=3.7.4.3 in /usr/local/lib/python3.10/dist-packages (from huggingface-hub<1.0,>=0.16.4->transformers) (4.5.0)\n",
      "Requirement already satisfied: charset-normalizer<4,>=2 in /usr/local/lib/python3.10/dist-packages (from requests->transformers) (3.3.2)\n",
      "Requirement already satisfied: idna<4,>=2.5 in /usr/local/lib/python3.10/dist-packages (from requests->transformers) (3.4)\n",
      "Requirement already satisfied: urllib3<3,>=1.21.1 in /usr/local/lib/python3.10/dist-packages (from requests->transformers) (2.0.7)\n",
      "Requirement already satisfied: certifi>=2017.4.17 in /usr/local/lib/python3.10/dist-packages (from requests->transformers) (2023.7.22)\n",
      "Requirement already satisfied: pandas in /usr/local/lib/python3.10/dist-packages (1.5.3)\n",
      "Requirement already satisfied: python-dateutil>=2.8.1 in /usr/local/lib/python3.10/dist-packages (from pandas) (2.8.2)\n",
      "Requirement already satisfied: pytz>=2020.1 in /usr/local/lib/python3.10/dist-packages (from pandas) (2023.3.post1)\n",
      "Requirement already satisfied: numpy>=1.21.0 in /usr/local/lib/python3.10/dist-packages (from pandas) (1.23.5)\n",
      "Requirement already satisfied: six>=1.5 in /usr/local/lib/python3.10/dist-packages (from python-dateutil>=2.8.1->pandas) (1.16.0)\n"
     ]
    }
   ],
   "source": [
    "!pip install transformers\n",
    "!pip install pandas"
   ]
  },
  {
   "cell_type": "code",
   "source": [],
   "metadata": {
    "id": "cXkW51xteRI-",
    "pycharm": {
     "name": "#%%\n"
    }
   },
   "execution_count": null,
   "outputs": []
  },
  {
   "cell_type": "code",
   "source": [
    "from transformers import AutoTokenizer, AutoModelForTokenClassification\n",
    "from transformers import pipeline\n",
    "# model_name = \"dbmdz/bert-large-cased-finetuned-conll03-english\"\n",
    "model_name = \"Davlan/distilbert-base-multilingual-cased-ner-hrl\"  # splits words into odd tokens.  e.g. Abram becomes 'Ab' + '##bram'\n",
    "tokenizer = AutoTokenizer.from_pretrained(model_name)\n",
    "model = AutoModelForTokenClassification.from_pretrained(model_name)\n",
    "nlp = pipeline(\"ner\", model=model, tokenizer=tokenizer)\n",
    "example = \"It came about when Abram came into Egypt, the Egyptians saw that the woman was very beautiful.\"\n",
    "ner_results = nlp(example)\n",
    "print(ner_results)"
   ],
   "metadata": {
    "colab": {
     "base_uri": "https://localhost:8080/"
    },
    "id": "TRCFdNzOeUG2",
    "outputId": "a13a668e-c12d-479f-ee99-a4e6f3da064f",
    "pycharm": {
     "name": "#%%\n"
    }
   },
   "execution_count": 10,
   "outputs": [
    {
     "output_type": "stream",
     "name": "stdout",
     "text": [
      "[{'entity': 'B-PER', 'score': 0.99987364, 'index': 5, 'word': 'Ab', 'start': 19, 'end': 21}, {'entity': 'I-PER', 'score': 0.99761295, 'index': 6, 'word': '##ram', 'start': 21, 'end': 24}, {'entity': 'B-LOC', 'score': 0.9997857, 'index': 9, 'word': 'Egypt', 'start': 35, 'end': 40}]\n"
     ]
    }
   ]
  },
  {
   "cell_type": "code",
   "source": [
    "# import time\n",
    "# start_time = time.time()\n",
    "# result = nlp(\"Then Pharaoh called Abram and said, What is this you have done to me? Why did you not tell me that she was your wife?\")\n",
    "# elapsed_time = time.time() - start_time\n",
    "# print(f\"ner took {elapsed_time} seconds {result}\")\n",
    "\n",
    "converted_test = tokenizer.convert_ids_to_tokens(tokenizer.encode(\"Nader Jokhadar had given Syria the lead with a well-struck header in the seventh minute.\"))\n",
    "\n",
    "print(converted_test)\n"
   ],
   "metadata": {
    "colab": {
     "base_uri": "https://localhost:8080/"
    },
    "id": "W1dxJ6RNgat8",
    "outputId": "e9e71822-572b-4fab-f859-da2f06a959fd",
    "pycharm": {
     "name": "#%%\n"
    }
   },
   "execution_count": 7,
   "outputs": [
    {
     "output_type": "stream",
     "name": "stdout",
     "text": [
      "['[CLS]', 'Nad', '##er', 'Jo', '##kha', '##dar', 'had', 'given', 'Syria', 'the', 'lead', 'with', 'a', 'well', '-', 'struck', 'head', '##er', 'in', 'the', 'seventh', 'minute', '.', '[SEP]']\n"
     ]
    }
   ]
  },
  {
   "cell_type": "code",
   "source": [
    "from google.colab import drive\n",
    "drive.mount('/content/drive')"
   ],
   "metadata": {
    "colab": {
     "base_uri": "https://localhost:8080/"
    },
    "id": "oNbRFufIq2_U",
    "outputId": "6907e00f-4636-45eb-c291-8c493cba3cc9",
    "pycharm": {
     "name": "#%%\n"
    }
   },
   "execution_count": 28,
   "outputs": [
    {
     "output_type": "stream",
     "name": "stdout",
     "text": [
      "Mounted at /content/drive\n"
     ]
    }
   ]
  },
  {
   "cell_type": "code",
   "source": [
    "import pandas as pd\n",
    "def process_bible_csv(base_path=\"drive/MyDrive/data\", file_path=\"new american standard with distilibert-base-multilingual-cased-ner-hrl.csv\", save_every=100):\n",
    "  complete_path = f\"{base_path}/{file_path}\"\n",
    "  df = pd.read_csv(complete_path)\n",
    "  print(\"processing...\")\n",
    "\n",
    "  if'named_entities' not in df.columns:\n",
    "    df['named_entities'] = None\n",
    "\n",
    "  process_count = 0\n",
    "  for index, row in df.iterrows():\n",
    "    if pd.isna(row['named_entities']):\n",
    "      verse_text = row['verse_text']\n",
    "      named_entities = nlp(verse_text)\n",
    "      # print(f\"entities: {named_entities} for verse: {verse_text}\")\n",
    "      df.at[index, 'named_entities'] = str(named_entities)\n",
    "      process_count += 1\n",
    "      if process_count > save_every:\n",
    "        start_time = time.time()\n",
    "        df.to_csv(complete_path, index=False)\n",
    "        elapsed_time = time.time() - start_time\n",
    "        # df = pd.read_csv(complete_path)\n",
    "        print(f\"save of {len(df)} rows took {elapsed_time} seconds. index: {index}\")\n",
    "        process_count = 0\n",
    "  # final save\n",
    "  df.to_csv(complete_path, index=False)\n",
    "  print(f\"final df size is {len(df)}\")"
   ],
   "metadata": {
    "id": "Z0yJpsZBeUuT",
    "pycharm": {
     "name": "#%%\n"
    }
   },
   "execution_count": 45,
   "outputs": []
  },
  {
   "cell_type": "code",
   "source": [
    "process_bible_csv()"
   ],
   "metadata": {
    "colab": {
     "base_uri": "https://localhost:8080/"
    },
    "id": "GNNZJLEpk9yO",
    "outputId": "7db58fc5-ae29-4426-cdf9-7ad0595f50c5",
    "pycharm": {
     "name": "#%%\n"
    }
   },
   "execution_count": 46,
   "outputs": [
    {
     "output_type": "stream",
     "name": "stdout",
     "text": [
      "processing...\n",
      "save of 31102 rows took 0.3339531421661377 seconds. index: 100\n",
      "save of 31102 rows took 0.14854717254638672 seconds. index: 201\n",
      "save of 31102 rows took 0.15734457969665527 seconds. index: 302\n",
      "save of 31102 rows took 0.15687918663024902 seconds. index: 403\n",
      "save of 31102 rows took 0.27924609184265137 seconds. index: 504\n",
      "save of 31102 rows took 0.17500782012939453 seconds. index: 605\n",
      "save of 31102 rows took 0.28442907333374023 seconds. index: 706\n",
      "save of 31102 rows took 0.1642286777496338 seconds. index: 807\n",
      "save of 31102 rows took 0.16824126243591309 seconds. index: 908\n",
      "save of 31102 rows took 0.16315817832946777 seconds. index: 1009\n",
      "save of 31102 rows took 0.1601543426513672 seconds. index: 1110\n",
      "save of 31102 rows took 0.16078877449035645 seconds. index: 1211\n",
      "save of 31102 rows took 0.2874486446380615 seconds. index: 1312\n",
      "save of 31102 rows took 0.2891550064086914 seconds. index: 1413\n",
      "save of 31102 rows took 0.16214942932128906 seconds. index: 1514\n",
      "save of 31102 rows took 0.2795689105987549 seconds. index: 1615\n",
      "save of 31102 rows took 0.16199898719787598 seconds. index: 1716\n",
      "save of 31102 rows took 0.2852957248687744 seconds. index: 1817\n",
      "save of 31102 rows took 0.1715233325958252 seconds. index: 1918\n",
      "save of 31102 rows took 0.1648120880126953 seconds. index: 2019\n",
      "save of 31102 rows took 0.1679069995880127 seconds. index: 2120\n",
      "save of 31102 rows took 0.18509602546691895 seconds. index: 2221\n",
      "save of 31102 rows took 0.170074462890625 seconds. index: 2322\n",
      "save of 31102 rows took 0.1658158302307129 seconds. index: 2423\n",
      "save of 31102 rows took 0.29549717903137207 seconds. index: 2524\n",
      "save of 31102 rows took 0.16564488410949707 seconds. index: 2625\n",
      "save of 31102 rows took 0.29744768142700195 seconds. index: 2726\n",
      "save of 31102 rows took 0.16884350776672363 seconds. index: 2827\n",
      "save of 31102 rows took 0.30628418922424316 seconds. index: 2928\n",
      "save of 31102 rows took 0.16489267349243164 seconds. index: 3029\n",
      "save of 31102 rows took 0.30756545066833496 seconds. index: 3130\n",
      "save of 31102 rows took 0.16939544677734375 seconds. index: 3231\n",
      "save of 31102 rows took 0.1685323715209961 seconds. index: 3332\n",
      "save of 31102 rows took 0.46769022941589355 seconds. index: 3433\n",
      "save of 31102 rows took 0.1691608428955078 seconds. index: 3534\n",
      "save of 31102 rows took 0.170166015625 seconds. index: 3635\n",
      "save of 31102 rows took 0.19388031959533691 seconds. index: 3736\n",
      "save of 31102 rows took 0.171417236328125 seconds. index: 3837\n",
      "save of 31102 rows took 0.17501497268676758 seconds. index: 3938\n",
      "save of 31102 rows took 0.17479705810546875 seconds. index: 4039\n",
      "save of 31102 rows took 0.17819786071777344 seconds. index: 4140\n",
      "save of 31102 rows took 0.1779947280883789 seconds. index: 4241\n",
      "save of 31102 rows took 0.30492663383483887 seconds. index: 4342\n",
      "save of 31102 rows took 0.19781494140625 seconds. index: 4443\n",
      "save of 31102 rows took 0.3139336109161377 seconds. index: 4544\n",
      "save of 31102 rows took 0.17513036727905273 seconds. index: 4645\n",
      "save of 31102 rows took 0.31726551055908203 seconds. index: 4746\n",
      "save of 31102 rows took 0.1745905876159668 seconds. index: 4847\n",
      "save of 31102 rows took 0.3200967311859131 seconds. index: 4948\n",
      "save of 31102 rows took 0.18025565147399902 seconds. index: 5049\n",
      "save of 31102 rows took 0.1980271339416504 seconds. index: 5150\n",
      "save of 31102 rows took 0.17975974082946777 seconds. index: 5251\n",
      "save of 31102 rows took 0.1801280975341797 seconds. index: 5352\n",
      "save of 31102 rows took 0.324460506439209 seconds. index: 5453\n",
      "save of 31102 rows took 0.18712711334228516 seconds. index: 5554\n",
      "save of 31102 rows took 0.3170342445373535 seconds. index: 5655\n",
      "save of 31102 rows took 0.1945512294769287 seconds. index: 5756\n",
      "save of 31102 rows took 0.18909907341003418 seconds. index: 5857\n",
      "save of 31102 rows took 0.34387969970703125 seconds. index: 5958\n",
      "save of 31102 rows took 0.18796300888061523 seconds. index: 6059\n",
      "save of 31102 rows took 0.3381962776184082 seconds. index: 6160\n",
      "save of 31102 rows took 0.19614052772521973 seconds. index: 6261\n",
      "save of 31102 rows took 0.3465151786804199 seconds. index: 6362\n",
      "save of 31102 rows took 0.21131181716918945 seconds. index: 6463\n",
      "save of 31102 rows took 0.187849760055542 seconds. index: 6564\n",
      "save of 31102 rows took 0.19667863845825195 seconds. index: 6665\n",
      "save of 31102 rows took 0.20291733741760254 seconds. index: 6766\n",
      "save of 31102 rows took 0.35399842262268066 seconds. index: 6867\n",
      "save of 31102 rows took 0.19631743431091309 seconds. index: 6968\n",
      "save of 31102 rows took 0.20322322845458984 seconds. index: 7069\n",
      "save of 31102 rows took 0.36455392837524414 seconds. index: 7170\n",
      "save of 31102 rows took 0.19794392585754395 seconds. index: 7271\n",
      "save of 31102 rows took 0.3568248748779297 seconds. index: 7372\n",
      "save of 31102 rows took 0.19773197174072266 seconds. index: 7473\n",
      "save of 31102 rows took 0.2029271125793457 seconds. index: 7574\n",
      "save of 31102 rows took 0.2272813320159912 seconds. index: 7675\n",
      "save of 31102 rows took 0.21326160430908203 seconds. index: 7776\n",
      "save of 31102 rows took 0.35332655906677246 seconds. index: 7877\n",
      "save of 31102 rows took 0.2058720588684082 seconds. index: 7978\n",
      "save of 31102 rows took 0.20874905586242676 seconds. index: 8079\n",
      "save of 31102 rows took 0.20521807670593262 seconds. index: 8180\n",
      "save of 31102 rows took 0.21340370178222656 seconds. index: 8281\n",
      "save of 31102 rows took 0.3861844539642334 seconds. index: 8382\n",
      "save of 31102 rows took 0.23052048683166504 seconds. index: 8483\n",
      "save of 31102 rows took 0.39890193939208984 seconds. index: 8584\n",
      "save of 31102 rows took 0.21079587936401367 seconds. index: 8685\n",
      "save of 31102 rows took 0.36179399490356445 seconds. index: 8786\n",
      "save of 31102 rows took 0.21900677680969238 seconds. index: 8887\n",
      "save of 31102 rows took 0.21950340270996094 seconds. index: 8988\n",
      "save of 31102 rows took 0.24274182319641113 seconds. index: 9089\n",
      "save of 31102 rows took 0.22199106216430664 seconds. index: 9190\n",
      "save of 31102 rows took 0.386857271194458 seconds. index: 9291\n",
      "save of 31102 rows took 0.2400963306427002 seconds. index: 9392\n",
      "save of 31102 rows took 0.24288249015808105 seconds. index: 9493\n",
      "save of 31102 rows took 0.2167823314666748 seconds. index: 9594\n",
      "save of 31102 rows took 0.23291826248168945 seconds. index: 9695\n",
      "save of 31102 rows took 0.3853151798248291 seconds. index: 9796\n",
      "save of 31102 rows took 0.22022628784179688 seconds. index: 9897\n",
      "save of 31102 rows took 0.22800254821777344 seconds. index: 9998\n",
      "save of 31102 rows took 0.38645410537719727 seconds. index: 10099\n",
      "save of 31102 rows took 0.23582720756530762 seconds. index: 10200\n",
      "save of 31102 rows took 0.40371179580688477 seconds. index: 10301\n",
      "save of 31102 rows took 0.23967528343200684 seconds. index: 10402\n",
      "save of 31102 rows took 0.4341592788696289 seconds. index: 10503\n",
      "save of 31102 rows took 0.23923015594482422 seconds. index: 10604\n",
      "save of 31102 rows took 0.43717312812805176 seconds. index: 10705\n",
      "save of 31102 rows took 0.23391127586364746 seconds. index: 10806\n",
      "save of 31102 rows took 0.42207932472229004 seconds. index: 10907\n",
      "save of 31102 rows took 0.24727654457092285 seconds. index: 11008\n",
      "save of 31102 rows took 0.42834043502807617 seconds. index: 11109\n",
      "save of 31102 rows took 0.2469947338104248 seconds. index: 11210\n",
      "save of 31102 rows took 0.2400968074798584 seconds. index: 11311\n",
      "save of 31102 rows took 0.43601179122924805 seconds. index: 11412\n",
      "save of 31102 rows took 0.25316357612609863 seconds. index: 11513\n",
      "save of 31102 rows took 0.4294154644012451 seconds. index: 11614\n",
      "save of 31102 rows took 0.2438805103302002 seconds. index: 11715\n",
      "save of 31102 rows took 0.25129079818725586 seconds. index: 11816\n",
      "save of 31102 rows took 0.4553067684173584 seconds. index: 11917\n",
      "save of 31102 rows took 0.24634838104248047 seconds. index: 12018\n",
      "save of 31102 rows took 0.4458503723144531 seconds. index: 12119\n",
      "save of 31102 rows took 0.2579658031463623 seconds. index: 12220\n",
      "save of 31102 rows took 0.2568655014038086 seconds. index: 12321\n",
      "save of 31102 rows took 0.26279759407043457 seconds. index: 12422\n",
      "save of 31102 rows took 0.2539515495300293 seconds. index: 12523\n",
      "save of 31102 rows took 0.26215076446533203 seconds. index: 12624\n",
      "save of 31102 rows took 0.2606806755065918 seconds. index: 12725\n",
      "save of 31102 rows took 0.4451417922973633 seconds. index: 12826\n",
      "save of 31102 rows took 0.2654280662536621 seconds. index: 12927\n",
      "save of 31102 rows took 0.4562537670135498 seconds. index: 13028\n",
      "save of 31102 rows took 0.2659432888031006 seconds. index: 13129\n",
      "save of 31102 rows took 0.26067233085632324 seconds. index: 13230\n",
      "save of 31102 rows took 0.2601609230041504 seconds. index: 13331\n",
      "save of 31102 rows took 0.2759592533111572 seconds. index: 13432\n",
      "save of 31102 rows took 0.4784560203552246 seconds. index: 13533\n",
      "save of 31102 rows took 0.2655010223388672 seconds. index: 13634\n",
      "save of 31102 rows took 0.44914674758911133 seconds. index: 13735\n",
      "save of 31102 rows took 0.257920503616333 seconds. index: 13836\n",
      "save of 31102 rows took 0.2590920925140381 seconds. index: 13937\n",
      "save of 31102 rows took 0.4363555908203125 seconds. index: 14038\n",
      "save of 31102 rows took 0.2723357677459717 seconds. index: 14139\n",
      "save of 31102 rows took 0.47388672828674316 seconds. index: 14240\n",
      "save of 31102 rows took 0.2624690532684326 seconds. index: 14341\n",
      "save of 31102 rows took 0.45493507385253906 seconds. index: 14442\n",
      "save of 31102 rows took 0.2612793445587158 seconds. index: 14543\n",
      "save of 31102 rows took 0.4599623680114746 seconds. index: 14644\n",
      "save of 31102 rows took 0.265352725982666 seconds. index: 14745\n",
      "save of 31102 rows took 0.2712681293487549 seconds. index: 14846\n",
      "save of 31102 rows took 0.2619161605834961 seconds. index: 14947\n",
      "save of 31102 rows took 0.26051831245422363 seconds. index: 15048\n",
      "save of 31102 rows took 0.466658353805542 seconds. index: 15149\n",
      "save of 31102 rows took 0.27778124809265137 seconds. index: 15250\n",
      "save of 31102 rows took 0.46004700660705566 seconds. index: 15351\n",
      "save of 31102 rows took 0.2611844539642334 seconds. index: 15452\n",
      "save of 31102 rows took 0.2765789031982422 seconds. index: 15553\n",
      "save of 31102 rows took 0.28988003730773926 seconds. index: 15654\n",
      "save of 31102 rows took 0.2660531997680664 seconds. index: 15755\n",
      "save of 31102 rows took 0.4363210201263428 seconds. index: 15856\n",
      "save of 31102 rows took 0.27153635025024414 seconds. index: 15957\n",
      "save of 31102 rows took 0.2628922462463379 seconds. index: 16058\n",
      "save of 31102 rows took 0.2884232997894287 seconds. index: 16159\n",
      "save of 31102 rows took 0.2775263786315918 seconds. index: 16260\n",
      "save of 31102 rows took 0.45428037643432617 seconds. index: 16361\n",
      "save of 31102 rows took 0.2713437080383301 seconds. index: 16462\n",
      "save of 31102 rows took 0.4711177349090576 seconds. index: 16563\n",
      "save of 31102 rows took 0.2672715187072754 seconds. index: 16664\n",
      "save of 31102 rows took 0.312211275100708 seconds. index: 16765\n",
      "save of 31102 rows took 0.2602236270904541 seconds. index: 16866\n",
      "save of 31102 rows took 0.26493382453918457 seconds. index: 16967\n",
      "save of 31102 rows took 0.46465516090393066 seconds. index: 17068\n",
      "save of 31102 rows took 0.29131364822387695 seconds. index: 17169\n",
      "save of 31102 rows took 0.3713703155517578 seconds. index: 17270\n",
      "save of 31102 rows took 0.2643120288848877 seconds. index: 17371\n",
      "save of 31102 rows took 0.2617785930633545 seconds. index: 17472\n",
      "save of 31102 rows took 0.2825183868408203 seconds. index: 17573\n",
      "save of 31102 rows took 0.29149746894836426 seconds. index: 17674\n",
      "save of 31102 rows took 0.2816433906555176 seconds. index: 17775\n",
      "save of 31102 rows took 0.463336706161499 seconds. index: 17876\n",
      "save of 31102 rows took 0.464130163192749 seconds. index: 17977\n",
      "save of 31102 rows took 0.27787208557128906 seconds. index: 18078\n",
      "save of 31102 rows took 0.2714426517486572 seconds. index: 18179\n",
      "save of 31102 rows took 0.2903788089752197 seconds. index: 18280\n",
      "save of 31102 rows took 0.4799823760986328 seconds. index: 18381\n",
      "save of 31102 rows took 0.2946805953979492 seconds. index: 18482\n",
      "save of 31102 rows took 0.49379849433898926 seconds. index: 18583\n",
      "save of 31102 rows took 0.27510786056518555 seconds. index: 18684\n",
      "save of 31102 rows took 0.2672617435455322 seconds. index: 18785\n",
      "save of 31102 rows took 0.47016191482543945 seconds. index: 18886\n",
      "save of 31102 rows took 0.27240991592407227 seconds. index: 18987\n",
      "save of 31102 rows took 0.48051929473876953 seconds. index: 19088\n",
      "save of 31102 rows took 0.27745962142944336 seconds. index: 19189\n",
      "save of 31102 rows took 0.2734699249267578 seconds. index: 19290\n",
      "save of 31102 rows took 0.4894979000091553 seconds. index: 19391\n",
      "save of 31102 rows took 0.2725834846496582 seconds. index: 19492\n",
      "save of 31102 rows took 0.2693138122558594 seconds. index: 19593\n",
      "save of 31102 rows took 0.2758064270019531 seconds. index: 19694\n",
      "save of 31102 rows took 0.27648448944091797 seconds. index: 19795\n",
      "save of 31102 rows took 0.4742410182952881 seconds. index: 19896\n",
      "save of 31102 rows took 0.2989335060119629 seconds. index: 19997\n",
      "save of 31102 rows took 0.29088902473449707 seconds. index: 20098\n",
      "save of 31102 rows took 0.4577653408050537 seconds. index: 20199\n",
      "save of 31102 rows took 0.287456750869751 seconds. index: 20300\n",
      "save of 31102 rows took 0.28664731979370117 seconds. index: 20401\n",
      "save of 31102 rows took 0.2836647033691406 seconds. index: 20502\n",
      "save of 31102 rows took 0.2901926040649414 seconds. index: 20603\n",
      "save of 31102 rows took 0.677588939666748 seconds. index: 20704\n",
      "save of 31102 rows took 0.29067373275756836 seconds. index: 20805\n",
      "save of 31102 rows took 0.4952828884124756 seconds. index: 20906\n",
      "save of 31102 rows took 0.2975807189941406 seconds. index: 21007\n",
      "save of 31102 rows took 0.2873673439025879 seconds. index: 21108\n",
      "save of 31102 rows took 0.28936004638671875 seconds. index: 21209\n",
      "save of 31102 rows took 0.28836822509765625 seconds. index: 21310\n",
      "save of 31102 rows took 0.49095749855041504 seconds. index: 21411\n",
      "save of 31102 rows took 0.2805352210998535 seconds. index: 21512\n",
      "save of 31102 rows took 0.29479241371154785 seconds. index: 21613\n",
      "save of 31102 rows took 0.2937788963317871 seconds. index: 21714\n",
      "save of 31102 rows took 0.29636621475219727 seconds. index: 21815\n",
      "save of 31102 rows took 0.9975109100341797 seconds. index: 21916\n",
      "save of 31102 rows took 0.4414553642272949 seconds. index: 22017\n",
      "save of 31102 rows took 0.2919332981109619 seconds. index: 22118\n",
      "save of 31102 rows took 0.299335241317749 seconds. index: 22219\n",
      "save of 31102 rows took 0.2926218509674072 seconds. index: 22320\n",
      "save of 31102 rows took 0.29212141036987305 seconds. index: 22421\n",
      "save of 31102 rows took 0.5215611457824707 seconds. index: 22522\n",
      "save of 31102 rows took 0.2920255661010742 seconds. index: 22623\n",
      "save of 31102 rows took 0.4931175708770752 seconds. index: 22724\n",
      "save of 31102 rows took 0.2949507236480713 seconds. index: 22825\n",
      "save of 31102 rows took 0.3028545379638672 seconds. index: 22926\n",
      "save of 31102 rows took 0.4936220645904541 seconds. index: 23027\n",
      "save of 31102 rows took 0.2908356189727783 seconds. index: 23128\n",
      "save of 31102 rows took 0.5223979949951172 seconds. index: 23229\n",
      "save of 31102 rows took 0.3138558864593506 seconds. index: 23330\n",
      "save of 31102 rows took 0.6466693878173828 seconds. index: 23431\n",
      "save of 31102 rows took 0.29999756813049316 seconds. index: 23532\n",
      "save of 31102 rows took 0.5036666393280029 seconds. index: 23633\n",
      "save of 31102 rows took 0.2901134490966797 seconds. index: 23734\n",
      "save of 31102 rows took 0.4672720432281494 seconds. index: 23835\n",
      "save of 31102 rows took 0.29480576515197754 seconds. index: 23936\n",
      "save of 31102 rows took 0.36961865425109863 seconds. index: 24037\n",
      "save of 31102 rows took 0.2962315082550049 seconds. index: 24138\n",
      "save of 31102 rows took 0.30180883407592773 seconds. index: 24239\n",
      "save of 31102 rows took 0.2926478385925293 seconds. index: 24340\n",
      "save of 31102 rows took 0.29349231719970703 seconds. index: 24441\n",
      "save of 31102 rows took 0.30206727981567383 seconds. index: 24542\n",
      "save of 31102 rows took 0.2892594337463379 seconds. index: 24643\n",
      "save of 31102 rows took 0.29233407974243164 seconds. index: 24744\n",
      "save of 31102 rows took 0.30163121223449707 seconds. index: 24845\n",
      "save of 31102 rows took 0.2978963851928711 seconds. index: 24946\n",
      "save of 31102 rows took 0.31644296646118164 seconds. index: 25047\n",
      "save of 31102 rows took 0.3100090026855469 seconds. index: 25148\n",
      "save of 31102 rows took 0.29522013664245605 seconds. index: 25249\n",
      "save of 31102 rows took 0.30808496475219727 seconds. index: 25350\n",
      "save of 31102 rows took 0.3190188407897949 seconds. index: 25451\n",
      "save of 31102 rows took 0.29340052604675293 seconds. index: 25552\n",
      "save of 31102 rows took 0.3006129264831543 seconds. index: 25653\n",
      "save of 31102 rows took 0.3038759231567383 seconds. index: 25754\n",
      "save of 31102 rows took 0.29866766929626465 seconds. index: 25855\n",
      "save of 31102 rows took 0.3021583557128906 seconds. index: 25956\n",
      "save of 31102 rows took 0.2990705966949463 seconds. index: 26057\n",
      "save of 31102 rows took 0.504030704498291 seconds. index: 26158\n",
      "save of 31102 rows took 0.30808210372924805 seconds. index: 26259\n",
      "save of 31102 rows took 0.5238909721374512 seconds. index: 26360\n",
      "save of 31102 rows took 0.3057670593261719 seconds. index: 26461\n",
      "save of 31102 rows took 0.5297114849090576 seconds. index: 26562\n",
      "save of 31102 rows took 0.3069624900817871 seconds. index: 26663\n",
      "save of 31102 rows took 0.5206637382507324 seconds. index: 26764\n",
      "save of 31102 rows took 0.304523229598999 seconds. index: 26865\n",
      "save of 31102 rows took 0.3143329620361328 seconds. index: 26966\n",
      "save of 31102 rows took 0.3065812587738037 seconds. index: 27067\n",
      "save of 31102 rows took 0.30484533309936523 seconds. index: 27168\n",
      "save of 31102 rows took 0.3093540668487549 seconds. index: 27269\n",
      "save of 31102 rows took 0.30994510650634766 seconds. index: 27370\n",
      "save of 31102 rows took 0.3153836727142334 seconds. index: 27471\n",
      "save of 31102 rows took 0.30510473251342773 seconds. index: 27572\n",
      "save of 31102 rows took 0.30590295791625977 seconds. index: 27673\n",
      "save of 31102 rows took 0.3231222629547119 seconds. index: 27774\n",
      "save of 31102 rows took 0.321016788482666 seconds. index: 27875\n",
      "save of 31102 rows took 0.316910982131958 seconds. index: 27976\n",
      "save of 31102 rows took 0.34072184562683105 seconds. index: 28077\n",
      "save of 31102 rows took 0.3185713291168213 seconds. index: 28178\n",
      "save of 31102 rows took 0.5321812629699707 seconds. index: 28279\n",
      "save of 31102 rows took 0.32485461235046387 seconds. index: 28380\n",
      "save of 31102 rows took 0.5640575885772705 seconds. index: 28481\n",
      "save of 31102 rows took 0.3291141986846924 seconds. index: 28582\n",
      "save of 31102 rows took 0.44947361946105957 seconds. index: 28683\n",
      "save of 31102 rows took 0.3254704475402832 seconds. index: 28784\n",
      "save of 31102 rows took 0.3333568572998047 seconds. index: 28885\n",
      "save of 31102 rows took 0.33053016662597656 seconds. index: 28986\n",
      "save of 31102 rows took 0.5696816444396973 seconds. index: 29087\n",
      "save of 31102 rows took 0.31873488426208496 seconds. index: 29188\n",
      "save of 31102 rows took 0.5275702476501465 seconds. index: 29289\n",
      "save of 31102 rows took 0.3239576816558838 seconds. index: 29390\n",
      "save of 31102 rows took 0.3244898319244385 seconds. index: 29491\n",
      "save of 31102 rows took 0.3250732421875 seconds. index: 29592\n",
      "save of 31102 rows took 0.3748295307159424 seconds. index: 29693\n",
      "save of 31102 rows took 0.34368324279785156 seconds. index: 29794\n",
      "save of 31102 rows took 0.3535323143005371 seconds. index: 29895\n",
      "save of 31102 rows took 0.3297240734100342 seconds. index: 29996\n",
      "save of 31102 rows took 0.5718121528625488 seconds. index: 30097\n",
      "save of 31102 rows took 0.34964871406555176 seconds. index: 30198\n",
      "save of 31102 rows took 0.32723402976989746 seconds. index: 30299\n",
      "save of 31102 rows took 0.3279085159301758 seconds. index: 30400\n",
      "save of 31102 rows took 0.5430667400360107 seconds. index: 30501\n",
      "save of 31102 rows took 0.342684268951416 seconds. index: 30602\n",
      "save of 31102 rows took 0.5748422145843506 seconds. index: 30703\n",
      "save of 31102 rows took 0.3258850574493408 seconds. index: 30804\n",
      "save of 31102 rows took 0.5699927806854248 seconds. index: 30905\n",
      "save of 31102 rows took 0.3220524787902832 seconds. index: 31006\n",
      "final df size is 31102\n"
     ]
    }
   ]
  },
  {
   "cell_type": "code",
   "source": [],
   "metadata": {
    "id": "BFBz239TlA59",
    "pycharm": {
     "name": "#%%\n"
    }
   },
   "execution_count": null,
   "outputs": []
  }
 ]
}